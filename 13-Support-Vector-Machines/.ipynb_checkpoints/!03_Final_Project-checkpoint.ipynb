{
 "cells": [
  {
   "cell_type": "code",
   "execution_count": null,
   "id": "0cff1bd3-c60b-4cb1-9935-361cd39753c4",
   "metadata": {},
   "outputs": [],
   "source": [
    "import pandas as pd\n",
    "import numpy as np\n",
    "import matplotlib.pyplot as plt\n",
    "import seaborn as sns"
   ]
  },
  {
   "cell_type": "code",
   "execution_count": null,
   "id": "5e5bbcb7-c811-445d-a25a-e35ad0480d29",
   "metadata": {},
   "outputs": [],
   "source": [
    "df = pd.read_csv(\"../DATA/wine_fraud.csv\")\n",
    "df.head()"
   ]
  },
  {
   "cell_type": "code",
   "execution_count": null,
   "id": "f8ea89d7-f1dd-48dc-9764-078f061f29ec",
   "metadata": {},
   "outputs": [],
   "source": [
    "df['quality'].unique()"
   ]
  },
  {
   "cell_type": "code",
   "execution_count": null,
   "id": "a4907dd1-2938-4783-a964-1e73659f4fca",
   "metadata": {},
   "outputs": [],
   "source": [
    "sns.countplot(x=df['quality'], hue='quality', data=df)"
   ]
  },
  {
   "cell_type": "code",
   "execution_count": null,
   "id": "e96c0f2a-c054-4883-a029-ad015d7362f0",
   "metadata": {},
   "outputs": [],
   "source": [
    "sns.countplot(x=df['type'], hue='quality', data=df)"
   ]
  },
  {
   "cell_type": "code",
   "execution_count": null,
   "id": "4ed747b1-3e71-4469-b681-071477ddcfa4",
   "metadata": {},
   "outputs": [],
   "source": [
    "red = df[df['type'] == 'red']\n",
    "red.count()"
   ]
  },
  {
   "cell_type": "code",
   "execution_count": null,
   "id": "06bff3b4-8992-4dfd-a97a-2962fffbb1c1",
   "metadata": {},
   "outputs": [],
   "source": [
    "cntf = (len(red[red['quality'] == 'Fraud'])/len(red)) * 100\n",
    "cntf"
   ]
  },
  {
   "cell_type": "code",
   "execution_count": null,
   "id": "75f0dd4c-7d16-4c97-9c55-ba308bc37cb7",
   "metadata": {},
   "outputs": [],
   "source": [
    "white = df[df['type'] == 'white']"
   ]
  },
  {
   "cell_type": "code",
   "execution_count": null,
   "id": "17b88849-9806-4e76-936e-83a8ee608580",
   "metadata": {},
   "outputs": [],
   "source": [
    "len(white[white['quality'] == 'Fraud']) / len(white) * 100"
   ]
  },
  {
   "cell_type": "code",
   "execution_count": null,
   "id": "84d3fbb6-d259-41ce-a637-d2fe37806760",
   "metadata": {},
   "outputs": [],
   "source": [
    "df['Fraud']=df['quality'].map({'Legit': 0, 'Fraud': 1})\n",
    "numeric_df = df.select_dtypes(include=['int64', 'float64'])\n",
    "df.head()"
   ]
  },
  {
   "cell_type": "code",
   "execution_count": null,
   "id": "be176b8e-94c1-4205-8933-0ea204b95834",
   "metadata": {},
   "outputs": [],
   "source": [
    "numeric_df.corr()['Fraud']"
   ]
  },
  {
   "cell_type": "code",
   "execution_count": null,
   "id": "39f6a6ff-db5d-4c84-a250-7dcc4949ff1d",
   "metadata": {},
   "outputs": [],
   "source": [
    "numeric_df.corr()['Fraud'][:-1].sort_values().plot(kind='bar')"
   ]
  },
  {
   "cell_type": "code",
   "execution_count": null,
   "id": "99acfa59-7ddb-4c8f-9927-dc32ca1ee534",
   "metadata": {},
   "outputs": [],
   "source": [
    "sns.clustermap(numeric_df.corr(), cmap='coolwarm', annot=True, fmt='.2f')"
   ]
  },
  {
   "cell_type": "code",
   "execution_count": null,
   "id": "5820ce8e-e974-4408-8b97-8a3bbf7f20dd",
   "metadata": {},
   "outputs": [],
   "source": []
  }
 ],
 "metadata": {
  "kernelspec": {
   "display_name": "LLM Environment",
   "language": "python",
   "name": "llm_env"
  },
  "language_info": {
   "codemirror_mode": {
    "name": "ipython",
    "version": 3
   },
   "file_extension": ".py",
   "mimetype": "text/x-python",
   "name": "python",
   "nbconvert_exporter": "python",
   "pygments_lexer": "ipython3",
   "version": "3.13.3"
  }
 },
 "nbformat": 4,
 "nbformat_minor": 5
}
