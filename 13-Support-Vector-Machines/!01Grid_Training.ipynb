{
 "cells": [
  {
   "cell_type": "code",
   "execution_count": null,
   "id": "79ef4cb0-3fcc-41c5-ba8e-e4d782c34bca",
   "metadata": {},
   "outputs": [],
   "source": [
    "from sklearn.model_selection import train_test_split\n",
    "X_train, X_test, y_train, y_test = train_test_split(X, y, test_size=0.30, random_state=42)"
   ]
  },
  {
   "cell_type": "code",
   "execution_count": null,
   "id": "178ddbbf-85b9-441b-962f-b3b3c027fea7",
   "metadata": {},
   "outputs": [],
   "source": [
    "from sklearn.preprocessing import StandardScaler\n",
    "scaler = StandardScaler()"
   ]
  },
  {
   "cell_type": "code",
   "execution_count": null,
   "id": "c662f313-21c7-4cd5-a30c-0bbc0bbc4cea",
   "metadata": {},
   "outputs": [],
   "source": [
    "from sklearn.svm import SVC  # Support Vector Classifier\n",
    "from sklearn.model_selection import GridSearchCV\n",
    "from sklearn.pipeline import Pipeline"
   ]
  },
  {
   "cell_type": "code",
   "execution_count": null,
   "id": "8941aa5e-d95b-4a1a-98a0-d98bc36229f4",
   "metadata": {},
   "outputs": [],
   "source": [
    "svm = SVC()"
   ]
  },
  {
   "cell_type": "code",
   "execution_count": null,
   "id": "a75f104b-3ed5-45ea-80f9-05f841e28494",
   "metadata": {},
   "outputs": [],
   "source": [
    "pipe = Pipeline([('scaler', scaler), ('svm', svm)])"
   ]
  },
  {
   "cell_type": "code",
   "execution_count": null,
   "id": "bb0632eb-88db-41e6-a628-948045713bd3",
   "metadata": {},
   "outputs": [],
   "source": [
    "param_grid = {\n",
    "    'svm__C': np.logspace(-2, 0, 10),  # Диапазон от 0.01 до 1\n",
    "    'svm__kernel': ['linear', 'rbf']\n",
    "}"
   ]
  },
  {
   "cell_type": "code",
   "execution_count": null,
   "id": "7f5a3da3-e8f0-41f9-8e43-4dac84803716",
   "metadata": {},
   "outputs": [],
   "source": [
    "model = GridSearchCV(pipe, param_grid=param_grid, cv=5, scoring='accuracy')\n",
    "model.fit(X_train, y_train)\n",
    "model.best_params_"
   ]
  },
  {
   "cell_type": "code",
   "execution_count": null,
   "id": "20bba526-baed-46c4-b807-8f39d52db770",
   "metadata": {},
   "outputs": [],
   "source": [
    "print(\"Лучший параметр C:\", model.best_params_['svm__C'])\n",
    "print(\"Лучший kernel:\", model.best_params_['svm__kernel'])\n",
    "print(\"Лучший скор:\", model.best_score_)"
   ]
  },
  {
   "cell_type": "code",
   "execution_count": null,
   "id": "c7afbeba-42c9-4a18-9179-edb9701f752a",
   "metadata": {},
   "outputs": [],
   "source": [
    "y_predicted = model.predict(X_test)"
   ]
  },
  {
   "cell_type": "code",
   "execution_count": null,
   "id": "4236ae2f-24b0-4040-a14f-8352a71ecf3e",
   "metadata": {},
   "outputs": [],
   "source": [
    "from sklearn.metrics import accuracy_score, \\\n",
    "        precision_score, recall_score, roc_auc_score, confusion_matrix, classification_report"
   ]
  },
  {
   "cell_type": "code",
   "execution_count": null,
   "id": "effd2209-c5dd-451e-a9a1-709c61d1ab49",
   "metadata": {},
   "outputs": [],
   "source": [
    "accuracy_score(y_test, y_predicted)\n",
    "print(classification_report(y_test, y_predicted))"
   ]
  }
 ],
 "metadata": {
  "kernelspec": {
   "display_name": "LLM Environment",
   "language": "python",
   "name": "llm_env"
  },
  "language_info": {
   "codemirror_mode": {
    "name": "ipython",
    "version": 3
   },
   "file_extension": ".py",
   "mimetype": "text/x-python",
   "name": "python",
   "nbconvert_exporter": "python",
   "pygments_lexer": "ipython3",
   "version": "3.13.3"
  }
 },
 "nbformat": 4,
 "nbformat_minor": 5
}
