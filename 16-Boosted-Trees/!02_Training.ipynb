{
 "cells": [
  {
   "cell_type": "code",
   "execution_count": null,
   "id": "08b53241-fc04-4349-8ab5-1acb05af3aa5",
   "metadata": {},
   "outputs": [],
   "source": [
    "import pandas as pd\n",
    "import numpy as np\n",
    "import matplotlib.pyplot as plt\n",
    "import seaborn as sns"
   ]
  },
  {
   "cell_type": "code",
   "execution_count": null,
   "id": "301169ad-2188-476b-84b7-1923265cf1d4",
   "metadata": {},
   "outputs": [],
   "source": [
    "df = pd.read_csv('../DATA/mushrooms.csv')"
   ]
  },
  {
   "cell_type": "code",
   "execution_count": null,
   "id": "a445238b-54f2-4f70-857a-3b11252d6653",
   "metadata": {},
   "outputs": [],
   "source": [
    "X = df.drop('class', axis=1)\n",
    "y = df['class']"
   ]
  },
  {
   "cell_type": "code",
   "execution_count": null,
   "id": "bb7f20bd-c3b5-4728-a41a-2c663f1cb553",
   "metadata": {},
   "outputs": [],
   "source": [
    "X = pd.get_dummies(X, drop_first=True).astype(int)"
   ]
  },
  {
   "cell_type": "code",
   "execution_count": null,
   "id": "9d416aaf-a9f7-4adb-a635-807e0f1ab649",
   "metadata": {},
   "outputs": [],
   "source": [
    "from sklearn.model_selection import train_test_split"
   ]
  },
  {
   "cell_type": "code",
   "execution_count": null,
   "id": "8dd9b710-a314-4ad4-a65c-9ce6dc671c2e",
   "metadata": {},
   "outputs": [],
   "source": [
    "X_train, X_test, y_train, y_test = train_test_split(X, y, test_size=0.1, random_state=101)"
   ]
  },
  {
   "cell_type": "code",
   "execution_count": null,
   "id": "71c8f839-8afa-42ab-98f7-2ffbb1801643",
   "metadata": {},
   "outputs": [],
   "source": [
    "from sklearn.ensemble import GradientBoostingClassifier"
   ]
  },
  {
   "cell_type": "code",
   "execution_count": null,
   "id": "84e2bb25-326b-4cea-bf64-3453326c1804",
   "metadata": {},
   "outputs": [],
   "source": [
    "from sklearn.model_selection import GridSearchCV"
   ]
  },
  {
   "cell_type": "code",
   "execution_count": null,
   "id": "8113431b-fa63-47a3-a06f-06ec91c4bc78",
   "metadata": {},
   "outputs": [],
   "source": [
    "param_grid = {\n",
    "    \"n_estimators\":[1,5,10,20,40,100],\n",
    "    'max_depth':[3,4,5,6], \n",
    "    'learning_rate': [.05, .1, .2]\n",
    "}"
   ]
  },
  {
   "cell_type": "code",
   "execution_count": null,
   "id": "364b850d-71f1-4e38-a568-57957b286f32",
   "metadata": {},
   "outputs": [],
   "source": [
    "gb_model = GradientBoostingClassifier()"
   ]
  },
  {
   "cell_type": "code",
   "execution_count": null,
   "id": "69fcab9e-f9c2-4e78-85df-55fef4653128",
   "metadata": {},
   "outputs": [],
   "source": [
    "model = GridSearchCV(gb_model, param_grid)"
   ]
  },
  {
   "cell_type": "code",
   "execution_count": null,
   "id": "af7972ab-f627-42ae-94c4-5706f720e913",
   "metadata": {},
   "outputs": [],
   "source": [
    "model.fit(X_train, y_train)"
   ]
  },
  {
   "cell_type": "code",
   "execution_count": null,
   "id": "651f3e77-8414-463c-863c-ea0aec16f1b1",
   "metadata": {},
   "outputs": [],
   "source": [
    "model.best_params_"
   ]
  },
  {
   "cell_type": "code",
   "execution_count": null,
   "id": "84e6e868-bc75-463c-aa0e-6295c63921d5",
   "metadata": {},
   "outputs": [],
   "source": [
    "from sklearn.metrics import classification_report, confusion_matrix, ConfusionMatrixDisplay"
   ]
  },
  {
   "cell_type": "code",
   "execution_count": null,
   "id": "87bdb994-556e-4842-b613-ac45652db9ee",
   "metadata": {},
   "outputs": [],
   "source": [
    "y_predicted = model.predict(X_test)"
   ]
  },
  {
   "cell_type": "code",
   "execution_count": null,
   "id": "3a262b8c-ce87-4df9-95c1-1e5665acab3a",
   "metadata": {},
   "outputs": [],
   "source": [
    "cm = confusion_matrix(y_test, y_predicted)\n",
    "cm"
   ]
  },
  {
   "cell_type": "code",
   "execution_count": null,
   "id": "7e731464-a8ac-44ea-b6e1-e9a166cf7a95",
   "metadata": {},
   "outputs": [],
   "source": [
    "print(classification_report(y_test, y_predicted))"
   ]
  },
  {
   "cell_type": "code",
   "execution_count": null,
   "id": "844d02e6-cabf-4bfe-9151-d1e011f3b865",
   "metadata": {},
   "outputs": [],
   "source": [
    "disp = ConfusionMatrixDisplay(cm, display_labels=['Class 0', 'Class 1'])\n",
    "disp.plot()"
   ]
  },
  {
   "cell_type": "code",
   "execution_count": null,
   "id": "34bd8a9c-576e-4eb7-b506-18b917fbb2b3",
   "metadata": {},
   "outputs": [],
   "source": [
    "features = model.best_estimator_.feature_importances_\n",
    "features"
   ]
  },
  {
   "cell_type": "code",
   "execution_count": null,
   "id": "86b5e8c4-7628-4735-ba3d-54c850b607a4",
   "metadata": {},
   "outputs": [],
   "source": [
    "fit_imp = pd.DataFrame(index=X.columns, data=features, columns=['Importance'])\n",
    "fit_imp.head()"
   ]
  },
  {
   "cell_type": "code",
   "execution_count": null,
   "id": "779e1849-8ad3-4e7a-82b1-6f23127074ce",
   "metadata": {},
   "outputs": [],
   "source": [
    "fit_imp = fit_imp[fit_imp['Importance'] > 0.0005].sort_values('Importance')"
   ]
  },
  {
   "cell_type": "code",
   "execution_count": null,
   "id": "8f72954b-3e86-406a-9c73-cf0d8c065dd6",
   "metadata": {},
   "outputs": [],
   "source": [
    "plt.figure(figsize=(16, 6), dpi=290)\n",
    "sns.barplot(\n",
    "    data=fit_imp, \n",
    "    x=fit_imp.index,\n",
    "    y='Importance',\n",
    "    hue='Importance'\n",
    "    \n",
    ")\n",
    "\n",
    "plt.xticks(rotation=90)\n",
    "plt.show()"
   ]
  },
  {
   "cell_type": "code",
   "execution_count": null,
   "id": "8c8c2a07-59f2-45ef-83c4-ad21a14b5034",
   "metadata": {},
   "outputs": [],
   "source": []
  }
 ],
 "metadata": {
  "kernelspec": {
   "display_name": "LLM Environment",
   "language": "python",
   "name": "llm_env"
  },
  "language_info": {
   "codemirror_mode": {
    "name": "ipython",
    "version": 3
   },
   "file_extension": ".py",
   "mimetype": "text/x-python",
   "name": "python",
   "nbconvert_exporter": "python",
   "pygments_lexer": "ipython3",
   "version": "3.13.3"
  }
 },
 "nbformat": 4,
 "nbformat_minor": 5
}
