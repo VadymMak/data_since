{
 "cells": [
  {
   "cell_type": "code",
   "execution_count": 47,
   "id": "275a4446-5fca-4070-8b5c-48ee91f4d500",
   "metadata": {},
   "outputs": [],
   "source": [
    "import numpy as np"
   ]
  },
  {
   "cell_type": "code",
   "execution_count": 21,
   "id": "c3c3848f-3592-44e3-9b04-2d17bb2cc00c",
   "metadata": {},
   "outputs": [],
   "source": [
    "data = np.array([\n",
    "    [0.5, -0.2, 0.8],  # Day 1\n",
    "    [0.1, 0.4, -0.3],  # Day 2\n",
    "    [-0.6, 0.7, 0.2],  # Day 3\n",
    "    [0.9, -0.1, 0.5],  # Day 4\n",
    "    [-0.3, 0.0, -0.8]   # Day 5\n",
    "])"
   ]
  },
  {
   "cell_type": "markdown",
   "id": "6d9d277c-931f-451d-9033-6f0aa9fb63f4",
   "metadata": {},
   "source": [
    "1. Days 2 to 4:\n",
    " [[ 0.1  0.4 -0.3]\n",
    " [-0.6  0.7  0.2]\n",
    " [ 0.9 -0.1  0.5]]"
   ]
  },
  {
   "cell_type": "code",
   "execution_count": 5,
   "id": "13083bf2-dc05-4786-9a6c-cc3521519d73",
   "metadata": {},
   "outputs": [
    {
     "data": {
      "text/plain": [
       "array([[ 0.1,  0.4, -0.3],\n",
       "       [-0.6,  0.7,  0.2],\n",
       "       [ 0.9, -0.1,  0.5]])"
      ]
     },
     "execution_count": 5,
     "metadata": {},
     "output_type": "execute_result"
    }
   ],
   "source": [
    "data[1:4]"
   ]
  },
  {
   "cell_type": "markdown",
   "id": "2766a97c-3247-41f9-8db8-7ff5c3019745",
   "metadata": {},
   "source": [
    "2. Asset 1 and 3:\n",
    " [[ 0.5  0.8]\n",
    " [ 0.1 -0.3]\n",
    " [-0.6  0.2]\n",
    " [ 0.9  0.5]\n",
    " [ 0.3 -0.8]]"
   ]
  },
  {
   "cell_type": "code",
   "execution_count": 8,
   "id": "e780c01a-6847-4780-bea9-1bdec63fb1a4",
   "metadata": {},
   "outputs": [
    {
     "data": {
      "text/plain": [
       "array([[ 0.5,  0.8],\n",
       "       [ 0.1, -0.3],\n",
       "       [-0.6,  0.2],\n",
       "       [ 0.9,  0.5],\n",
       "       [ 0.3, -0.8]])"
      ]
     },
     "execution_count": 8,
     "metadata": {},
     "output_type": "execute_result"
    }
   ],
   "source": [
    "data[:, [0,2]]"
   ]
  },
  {
   "cell_type": "markdown",
   "id": "7bf4213e-d4f8-42ee-9ec7-bbd6d63b042c",
   "metadata": {},
   "source": [
    "3. Scores > 0.5:\n",
    " [0.8 0.7 0.9]"
   ]
  },
  {
   "cell_type": "code",
   "execution_count": 10,
   "id": "601d57d8-aa73-417a-8150-8b6245d10cb5",
   "metadata": {},
   "outputs": [
    {
     "data": {
      "text/plain": [
       "array([0.8, 0.7, 0.9])"
      ]
     },
     "execution_count": 10,
     "metadata": {},
     "output_type": "execute_result"
    }
   ],
   "source": [
    "data[data > 0.5]"
   ]
  },
  {
   "cell_type": "markdown",
   "id": "55be822e-f57e-4161-b605-c47c81453b75",
   "metadata": {},
   "source": [
    "4. Scores > 0.2 for asset 2:\n",
    " [0.4 0.7]"
   ]
  },
  {
   "cell_type": "code",
   "execution_count": 16,
   "id": "84d52a5c-8d4f-4acc-b3c7-8d2e9b52ddb4",
   "metadata": {},
   "outputs": [
    {
     "data": {
      "text/plain": [
       "array([0.4, 0.7])"
      ]
     },
     "execution_count": 16,
     "metadata": {},
     "output_type": "execute_result"
    }
   ],
   "source": [
    "assets_2 = data[:, 1]\n",
    "assets_2[assets_2 > 0.2]"
   ]
  },
  {
   "cell_type": "markdown",
   "id": "af899373-a018-4b95-b134-0e8d216d220e",
   "metadata": {},
   "source": [
    "5. Days where asset 1's score is negative:\n",
    " [[-0.6  0.7  0.2]]"
   ]
  },
  {
   "cell_type": "code",
   "execution_count": 22,
   "id": "455fcaf7-c5e5-41b4-9b74-396b96826e8e",
   "metadata": {},
   "outputs": [
    {
     "data": {
      "text/plain": [
       "array([[-0.6,  0.7,  0.2],\n",
       "       [-0.3,  0. , -0.8]])"
      ]
     },
     "execution_count": 22,
     "metadata": {},
     "output_type": "execute_result"
    }
   ],
   "source": [
    "data[data[:, 0] < 0]"
   ]
  },
  {
   "cell_type": "code",
   "execution_count": 23,
   "id": "9bbd797b-642c-4e6d-9a13-2a3c328f80c8",
   "metadata": {},
   "outputs": [],
   "source": [
    "prices = np.array([\n",
    "    [100, 150, 200],\n",
    "    [110, 145, 210],\n",
    "    [105, 155, 195],\n",
    "    [115, 160, 205]\n",
    "])"
   ]
  },
  {
   "cell_type": "markdown",
   "id": "f50199c8-d7db-44f4-9ff5-f35289d27813",
   "metadata": {},
   "source": [
    "6. Mean prices per asset:\n",
    " [107.5 152.5 202.5]"
   ]
  },
  {
   "cell_type": "code",
   "execution_count": 28,
   "id": "5bf325e0-1d70-4006-9315-8377a9313147",
   "metadata": {},
   "outputs": [
    {
     "data": {
      "text/plain": [
       "array([107.5, 152.5, 202.5])"
      ]
     },
     "execution_count": 28,
     "metadata": {},
     "output_type": "execute_result"
    }
   ],
   "source": [
    "mean_prices = np.mean(prices, axis=0)\n",
    "mean_prices"
   ]
  },
  {
   "cell_type": "markdown",
   "id": "6084fc8e-3bcd-4448-b27d-5db9bf302d9a",
   "metadata": {},
   "source": [
    "7. Centered prices (prices - mean):\n",
    " [[ -7.5  -2.5  -2.5]\n",
    " [  2.5  -7.5   7.5]\n",
    " [ -2.5   2.5  -7.5]\n",
    " [  7.5   7.5   2.5]]"
   ]
  },
  {
   "cell_type": "code",
   "execution_count": 30,
   "id": "763cef42-0672-4c29-8c66-0e8466fa6fbc",
   "metadata": {},
   "outputs": [
    {
     "data": {
      "text/plain": [
       "array([[-7.5, -2.5, -2.5],\n",
       "       [ 2.5, -7.5,  7.5],\n",
       "       [-2.5,  2.5, -7.5],\n",
       "       [ 7.5,  7.5,  2.5]])"
      ]
     },
     "execution_count": 30,
     "metadata": {},
     "output_type": "execute_result"
    }
   ],
   "source": [
    "centered_prices = prices - mean_prices\n",
    "centered_prices"
   ]
  },
  {
   "cell_type": "markdown",
   "id": "677a5ed7-9b26-46ad-9b67-e8d06fe44212",
   "metadata": {},
   "source": [
    "8. Percentage change from day 1:\n",
    " [[  0.           0.           0.        ]\n",
    " [ 10.          -3.33333333   5.        ]\n",
    " [  5.           3.33333333  -2.5       ]\n",
    " [ 15.           6.66666667   2.5       ]]"
   ]
  },
  {
   "cell_type": "code",
   "execution_count": 38,
   "id": "70e64057-60a4-44d5-aa87-ef8898b7d319",
   "metadata": {},
   "outputs": [
    {
     "data": {
      "text/plain": [
       "array([[ 0.        ,  0.        ,  0.        ],\n",
       "       [10.        , -3.33333333,  5.        ],\n",
       "       [ 5.        ,  3.33333333, -2.5       ],\n",
       "       [15.        ,  6.66666667,  2.5       ]])"
      ]
     },
     "execution_count": 38,
     "metadata": {},
     "output_type": "execute_result"
    }
   ],
   "source": [
    "initial_prices = prices[0]\n",
    "persentage_change = ((prices - initial_prices ) / initial_prices)  *100\n",
    "persentage_change"
   ]
  },
  {
   "cell_type": "markdown",
   "id": "d8fc975d-0ff2-4894-a969-b509186feedb",
   "metadata": {},
   "source": [
    "9. Scaled prices (10% increase):\n",
    " [[110. 165. 220.]\n",
    " [121. 159.5 231.]\n",
    " [115.5 170.5 214.5]\n",
    " [126.5 176. 225.5]]"
   ]
  },
  {
   "cell_type": "code",
   "execution_count": 39,
   "id": "f2728fa5-d662-4ddf-a183-0f4f41e960fd",
   "metadata": {},
   "outputs": [
    {
     "data": {
      "text/plain": [
       "array([[110. , 165. , 220. ],\n",
       "       [121. , 159.5, 231. ],\n",
       "       [115.5, 170.5, 214.5],\n",
       "       [126.5, 176. , 225.5]])"
      ]
     },
     "execution_count": 39,
     "metadata": {},
     "output_type": "execute_result"
    }
   ],
   "source": [
    "scaled_prices = prices * 1.1\n",
    "scaled_prices"
   ]
  },
  {
   "cell_type": "code",
   "execution_count": 50,
   "id": "bb769a97-958a-4557-8bea-dd4bee6bb32d",
   "metadata": {},
   "outputs": [],
   "source": [
    "data = np.array([\n",
    "    [0.5, np.nan, 0.8],\n",
    "    [0.1, 0.4, -0.3],\n",
    "    [-0.6, 0.7, 2.5],  # Outlier in last column\n",
    "    [0.9, -0.1, 0.5],\n",
    "    [np.nan, 0.0, -0.8]\n",
    "])"
   ]
  },
  {
   "cell_type": "markdown",
   "id": "8c8ca2c2-28a8-450e-b781-25b39cba8a9b",
   "metadata": {},
   "source": [
    "10. Column means (ignoring NaN):\n",
    " [ 0.225  0.25   0.54 ]"
   ]
  },
  {
   "cell_type": "code",
   "execution_count": 52,
   "id": "097e2700-7c65-4369-866c-0a2bcc89a2f0",
   "metadata": {},
   "outputs": [
    {
     "data": {
      "text/plain": [
       "array([0.225, 0.25 , 0.54 ])"
      ]
     },
     "execution_count": 52,
     "metadata": {},
     "output_type": "execute_result"
    }
   ],
   "source": [
    "column_means = np.nanmean(data, axis=0)\n",
    "column_means"
   ]
  },
  {
   "cell_type": "markdown",
   "id": "8dbd9d26-d34f-4c92-a33f-7fab37107900",
   "metadata": {},
   "source": [
    "11. Data with NaN replaced by column means:\n",
    " [[ 0.5    0.25   0.8  ]\n",
    " [ 0.1    0.4   -0.3  ]\n",
    " [-0.6    0.7    2.5  ]\n",
    " [ 0.9   -0.1    0.5  ]\n",
    " [ 0.225  0.     -0.8  ]]"
   ]
  },
  {
   "cell_type": "code",
   "execution_count": 54,
   "id": "e8965789-6f92-48ab-94b8-8dd215a1aee6",
   "metadata": {},
   "outputs": [
    {
     "data": {
      "text/plain": [
       "array([[ 0.5  ,  0.25 ,  0.8  ],\n",
       "       [ 0.1  ,  0.4  , -0.3  ],\n",
       "       [-0.6  ,  0.7  ,  2.5  ],\n",
       "       [ 0.9  , -0.1  ,  0.5  ],\n",
       "       [ 0.225,  0.   , -0.8  ]])"
      ]
     },
     "execution_count": 54,
     "metadata": {},
     "output_type": "execute_result"
    }
   ],
   "source": [
    "data_filled = np.where(np.isnan(data), column_means, data)\n",
    "data_filled"
   ]
  },
  {
   "cell_type": "markdown",
   "id": "ec94473a-d921-47e0-973a-608e0f9647fc",
   "metadata": {},
   "source": [
    "12. Lower bound:\n",
    " [-0.8625 -0.55  -1.4625]\n",
    "\n",
    "Upper bound:\n",
    " [ 1.2125  0.75   1.6625]"
   ]
  },
  {
   "cell_type": "code",
   "execution_count": 55,
   "id": "9aae1a30-7c12-4258-b6c9-6e072e053b65",
   "metadata": {},
   "outputs": [
    {
     "name": "stdout",
     "output_type": "stream",
     "text": [
      "lower bound: [-0.5  -0.6  -1.95]\n",
      "upper bound: [1.1  1.   2.45]\n"
     ]
    }
   ],
   "source": [
    "Q1 = np.percentile(data_filled, 25, axis=0)\n",
    "Q3 = np.percentile(data_filled, 75, axis=0)\n",
    "IQR = Q3 - Q1\n",
    "lower_bound = Q1 - 1.5 * IQR\n",
    "upper_bound = Q3 + 1.5 * IQR\n",
    "print(f'lower bound: {lower_bound}')\n",
    "print(f'upper bound: {upper_bound}')"
   ]
  },
  {
   "cell_type": "code",
   "execution_count": null,
   "id": "118c3556-22c7-4912-b393-7a151ee6609c",
   "metadata": {},
   "outputs": [],
   "source": []
  }
 ],
 "metadata": {
  "kernelspec": {
   "display_name": "LLM Environment",
   "language": "python",
   "name": "llm_env"
  },
  "language_info": {
   "codemirror_mode": {
    "name": "ipython",
    "version": 3
   },
   "file_extension": ".py",
   "mimetype": "text/x-python",
   "name": "python",
   "nbconvert_exporter": "python",
   "pygments_lexer": "ipython3",
   "version": "3.8.20"
  }
 },
 "nbformat": 4,
 "nbformat_minor": 5
}
