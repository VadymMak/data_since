{
 "cells": [
  {
   "cell_type": "code",
   "execution_count": 2,
   "id": "ea4303e6-9a79-4507-8dcb-eab19793ddfd",
   "metadata": {},
   "outputs": [],
   "source": [
    "import pandas as pd"
   ]
  },
  {
   "cell_type": "code",
   "execution_count": 3,
   "id": "680e9363-7133-4560-9050-5562297f529f",
   "metadata": {},
   "outputs": [
    {
     "data": {
      "text/html": [
       "<div>\n",
       "<style scoped>\n",
       "    .dataframe tbody tr th:only-of-type {\n",
       "        vertical-align: middle;\n",
       "    }\n",
       "\n",
       "    .dataframe tbody tr th {\n",
       "        vertical-align: top;\n",
       "    }\n",
       "\n",
       "    .dataframe thead th {\n",
       "        text-align: right;\n",
       "    }\n",
       "</style>\n",
       "<table border=\"1\" class=\"dataframe\">\n",
       "  <thead>\n",
       "    <tr style=\"text-align: right;\">\n",
       "      <th></th>\n",
       "      <th>date</th>\n",
       "      <th>close_bnb</th>\n",
       "      <th>close_btc</th>\n",
       "      <th>close_eth</th>\n",
       "      <th>high_bnb</th>\n",
       "      <th>high_btc</th>\n",
       "      <th>high_eth</th>\n",
       "      <th>low_bnb</th>\n",
       "      <th>low_btc</th>\n",
       "      <th>low_eth</th>\n",
       "      <th>open_bnb</th>\n",
       "      <th>open_btc</th>\n",
       "      <th>open_eth</th>\n",
       "      <th>volume_bnb</th>\n",
       "      <th>volume_btc</th>\n",
       "      <th>volume_eth</th>\n",
       "    </tr>\n",
       "  </thead>\n",
       "  <tbody>\n",
       "    <tr>\n",
       "      <th>0</th>\n",
       "      <td>2025-03-30</td>\n",
       "      <td>601.830200</td>\n",
       "      <td>82334.523438</td>\n",
       "      <td>1806.218628</td>\n",
       "      <td>612.789368</td>\n",
       "      <td>83505.000000</td>\n",
       "      <td>1847.570557</td>\n",
       "      <td>594.214355</td>\n",
       "      <td>81573.250000</td>\n",
       "      <td>1769.412720</td>\n",
       "      <td>603.191345</td>\n",
       "      <td>82596.984375</td>\n",
       "      <td>1827.311035</td>\n",
       "      <td>1204098085</td>\n",
       "      <td>14763760943</td>\n",
       "      <td>9854857162</td>\n",
       "    </tr>\n",
       "    <tr>\n",
       "      <th>1</th>\n",
       "      <td>2025-03-31</td>\n",
       "      <td>0.000000</td>\n",
       "      <td>82548.914062</td>\n",
       "      <td>1823.479980</td>\n",
       "      <td>608.501099</td>\n",
       "      <td>83870.125000</td>\n",
       "      <td>1852.551392</td>\n",
       "      <td>588.086182</td>\n",
       "      <td>81293.890625</td>\n",
       "      <td>1778.692261</td>\n",
       "      <td>601.830200</td>\n",
       "      <td>82336.062500</td>\n",
       "      <td>1806.316528</td>\n",
       "      <td>1538796118</td>\n",
       "      <td>29004228247</td>\n",
       "      <td>15765030938</td>\n",
       "    </tr>\n",
       "    <tr>\n",
       "      <th>2</th>\n",
       "      <td>2025-04-01</td>\n",
       "      <td>611.297119</td>\n",
       "      <td>85169.171875</td>\n",
       "      <td>1905.491455</td>\n",
       "      <td>618.123779</td>\n",
       "      <td>85487.367188</td>\n",
       "      <td>1926.302979</td>\n",
       "      <td>604.754761</td>\n",
       "      <td>82429.359375</td>\n",
       "      <td>1820.350342</td>\n",
       "      <td>605.072815</td>\n",
       "      <td>82551.921875</td>\n",
       "      <td>1823.562378</td>\n",
       "      <td>2091803391</td>\n",
       "      <td>28175650319</td>\n",
       "      <td>1000000000000</td>\n",
       "    </tr>\n",
       "    <tr>\n",
       "      <th>3</th>\n",
       "      <td>2025-04-02</td>\n",
       "      <td>590.637573</td>\n",
       "      <td>NaN</td>\n",
       "      <td>1795.313232</td>\n",
       "      <td>611.518188</td>\n",
       "      <td>88466.953125</td>\n",
       "      <td>1951.180298</td>\n",
       "      <td>585.121887</td>\n",
       "      <td>82343.539062</td>\n",
       "      <td>1782.760254</td>\n",
       "      <td>611.297119</td>\n",
       "      <td>85180.609375</td>\n",
       "      <td>1905.484619</td>\n",
       "      <td>1835749587</td>\n",
       "      <td>47584398470</td>\n",
       "      <td>22593742104</td>\n",
       "    </tr>\n",
       "    <tr>\n",
       "      <th>4</th>\n",
       "      <td>2025-04-03</td>\n",
       "      <td>592.124451</td>\n",
       "      <td>NaN</td>\n",
       "      <td>1815.637207</td>\n",
       "      <td>609.344666</td>\n",
       "      <td>83909.296875</td>\n",
       "      <td>1844.071045</td>\n",
       "      <td>579.444092</td>\n",
       "      <td>81282.101562</td>\n",
       "      <td>1751.380859</td>\n",
       "      <td>590.637573</td>\n",
       "      <td>82487.476562</td>\n",
       "      <td>1794.976074</td>\n",
       "      <td>2067033502</td>\n",
       "      <td>36852112080</td>\n",
       "      <td>16450974373</td>\n",
       "    </tr>\n",
       "  </tbody>\n",
       "</table>\n",
       "</div>"
      ],
      "text/plain": [
       "         date   close_bnb     close_btc    close_eth    high_bnb  \\\n",
       "0  2025-03-30  601.830200  82334.523438  1806.218628  612.789368   \n",
       "1  2025-03-31    0.000000  82548.914062  1823.479980  608.501099   \n",
       "2  2025-04-01  611.297119  85169.171875  1905.491455  618.123779   \n",
       "3  2025-04-02  590.637573           NaN  1795.313232  611.518188   \n",
       "4  2025-04-03  592.124451           NaN  1815.637207  609.344666   \n",
       "\n",
       "       high_btc     high_eth     low_bnb       low_btc      low_eth  \\\n",
       "0  83505.000000  1847.570557  594.214355  81573.250000  1769.412720   \n",
       "1  83870.125000  1852.551392  588.086182  81293.890625  1778.692261   \n",
       "2  85487.367188  1926.302979  604.754761  82429.359375  1820.350342   \n",
       "3  88466.953125  1951.180298  585.121887  82343.539062  1782.760254   \n",
       "4  83909.296875  1844.071045  579.444092  81282.101562  1751.380859   \n",
       "\n",
       "     open_bnb      open_btc     open_eth  volume_bnb   volume_btc  \\\n",
       "0  603.191345  82596.984375  1827.311035  1204098085  14763760943   \n",
       "1  601.830200  82336.062500  1806.316528  1538796118  29004228247   \n",
       "2  605.072815  82551.921875  1823.562378  2091803391  28175650319   \n",
       "3  611.297119  85180.609375  1905.484619  1835749587  47584398470   \n",
       "4  590.637573  82487.476562  1794.976074  2067033502  36852112080   \n",
       "\n",
       "      volume_eth  \n",
       "0     9854857162  \n",
       "1    15765030938  \n",
       "2  1000000000000  \n",
       "3    22593742104  \n",
       "4    16450974373  "
      ]
     },
     "execution_count": 3,
     "metadata": {},
     "output_type": "execute_result"
    }
   ],
   "source": [
    "df = pd.read_csv('crypto_market_data.csv')\n",
    "df.head()"
   ]
  },
  {
   "cell_type": "markdown",
   "id": "bba0b222-0ea7-48bb-826d-9844a9aa5910",
   "metadata": {},
   "source": [
    "#### Day 3 Detect and handle missing values (`NaN`) in `close_btc`"
   ]
  },
  {
   "cell_type": "markdown",
   "id": "ac46b4ea-8a65-43b9-a1eb-c91f722620d4",
   "metadata": {},
   "source": [
    "#### Detect missing values"
   ]
  },
  {
   "cell_type": "code",
   "execution_count": null,
   "id": "cd46a65b-6752-4e06-8e58-3fb10f524fdb",
   "metadata": {},
   "outputs": [],
   "source": [
    "df.isna().sum()"
   ]
  },
  {
   "cell_type": "markdown",
   "id": "756cf43c-e8e1-4d2d-8a67-c23837f71529",
   "metadata": {},
   "source": [
    "#### Fill with mean"
   ]
  },
  {
   "cell_type": "code",
   "execution_count": 4,
   "id": "4f97a9b0-930c-4f30-b289-df39882943c3",
   "metadata": {},
   "outputs": [
    {
     "data": {
      "text/html": [
       "<div>\n",
       "<style scoped>\n",
       "    .dataframe tbody tr th:only-of-type {\n",
       "        vertical-align: middle;\n",
       "    }\n",
       "\n",
       "    .dataframe tbody tr th {\n",
       "        vertical-align: top;\n",
       "    }\n",
       "\n",
       "    .dataframe thead th {\n",
       "        text-align: right;\n",
       "    }\n",
       "</style>\n",
       "<table border=\"1\" class=\"dataframe\">\n",
       "  <thead>\n",
       "    <tr style=\"text-align: right;\">\n",
       "      <th></th>\n",
       "      <th>date</th>\n",
       "      <th>close_bnb</th>\n",
       "      <th>close_btc</th>\n",
       "      <th>close_eth</th>\n",
       "      <th>high_bnb</th>\n",
       "      <th>high_btc</th>\n",
       "      <th>high_eth</th>\n",
       "      <th>low_bnb</th>\n",
       "      <th>low_btc</th>\n",
       "      <th>low_eth</th>\n",
       "      <th>open_bnb</th>\n",
       "      <th>open_btc</th>\n",
       "      <th>open_eth</th>\n",
       "      <th>volume_bnb</th>\n",
       "      <th>volume_btc</th>\n",
       "      <th>volume_eth</th>\n",
       "    </tr>\n",
       "  </thead>\n",
       "  <tbody>\n",
       "    <tr>\n",
       "      <th>0</th>\n",
       "      <td>2025-03-30</td>\n",
       "      <td>601.830200</td>\n",
       "      <td>82334.523438</td>\n",
       "      <td>1806.218628</td>\n",
       "      <td>612.789368</td>\n",
       "      <td>83505.000000</td>\n",
       "      <td>1847.570557</td>\n",
       "      <td>594.214355</td>\n",
       "      <td>81573.250000</td>\n",
       "      <td>1769.412720</td>\n",
       "      <td>603.191345</td>\n",
       "      <td>82596.984375</td>\n",
       "      <td>1827.311035</td>\n",
       "      <td>1204098085</td>\n",
       "      <td>14763760943</td>\n",
       "      <td>9854857162</td>\n",
       "    </tr>\n",
       "    <tr>\n",
       "      <th>1</th>\n",
       "      <td>2025-03-31</td>\n",
       "      <td>0.000000</td>\n",
       "      <td>82548.914062</td>\n",
       "      <td>1823.479980</td>\n",
       "      <td>608.501099</td>\n",
       "      <td>83870.125000</td>\n",
       "      <td>1852.551392</td>\n",
       "      <td>588.086182</td>\n",
       "      <td>81293.890625</td>\n",
       "      <td>1778.692261</td>\n",
       "      <td>601.830200</td>\n",
       "      <td>82336.062500</td>\n",
       "      <td>1806.316528</td>\n",
       "      <td>1538796118</td>\n",
       "      <td>29004228247</td>\n",
       "      <td>15765030938</td>\n",
       "    </tr>\n",
       "    <tr>\n",
       "      <th>2</th>\n",
       "      <td>2025-04-01</td>\n",
       "      <td>611.297119</td>\n",
       "      <td>85169.171875</td>\n",
       "      <td>1905.491455</td>\n",
       "      <td>618.123779</td>\n",
       "      <td>85487.367188</td>\n",
       "      <td>1926.302979</td>\n",
       "      <td>604.754761</td>\n",
       "      <td>82429.359375</td>\n",
       "      <td>1820.350342</td>\n",
       "      <td>605.072815</td>\n",
       "      <td>82551.921875</td>\n",
       "      <td>1823.562378</td>\n",
       "      <td>2091803391</td>\n",
       "      <td>28175650319</td>\n",
       "      <td>1000000000000</td>\n",
       "    </tr>\n",
       "    <tr>\n",
       "      <th>3</th>\n",
       "      <td>2025-04-02</td>\n",
       "      <td>590.637573</td>\n",
       "      <td>NaN</td>\n",
       "      <td>1795.313232</td>\n",
       "      <td>611.518188</td>\n",
       "      <td>88466.953125</td>\n",
       "      <td>1951.180298</td>\n",
       "      <td>585.121887</td>\n",
       "      <td>82343.539062</td>\n",
       "      <td>1782.760254</td>\n",
       "      <td>611.297119</td>\n",
       "      <td>85180.609375</td>\n",
       "      <td>1905.484619</td>\n",
       "      <td>1835749587</td>\n",
       "      <td>47584398470</td>\n",
       "      <td>22593742104</td>\n",
       "    </tr>\n",
       "    <tr>\n",
       "      <th>4</th>\n",
       "      <td>2025-04-03</td>\n",
       "      <td>592.124451</td>\n",
       "      <td>NaN</td>\n",
       "      <td>1815.637207</td>\n",
       "      <td>609.344666</td>\n",
       "      <td>83909.296875</td>\n",
       "      <td>1844.071045</td>\n",
       "      <td>579.444092</td>\n",
       "      <td>81282.101562</td>\n",
       "      <td>1751.380859</td>\n",
       "      <td>590.637573</td>\n",
       "      <td>82487.476562</td>\n",
       "      <td>1794.976074</td>\n",
       "      <td>2067033502</td>\n",
       "      <td>36852112080</td>\n",
       "      <td>16450974373</td>\n",
       "    </tr>\n",
       "  </tbody>\n",
       "</table>\n",
       "</div>"
      ],
      "text/plain": [
       "         date   close_bnb     close_btc    close_eth    high_bnb  \\\n",
       "0  2025-03-30  601.830200  82334.523438  1806.218628  612.789368   \n",
       "1  2025-03-31    0.000000  82548.914062  1823.479980  608.501099   \n",
       "2  2025-04-01  611.297119  85169.171875  1905.491455  618.123779   \n",
       "3  2025-04-02  590.637573           NaN  1795.313232  611.518188   \n",
       "4  2025-04-03  592.124451           NaN  1815.637207  609.344666   \n",
       "\n",
       "       high_btc     high_eth     low_bnb       low_btc      low_eth  \\\n",
       "0  83505.000000  1847.570557  594.214355  81573.250000  1769.412720   \n",
       "1  83870.125000  1852.551392  588.086182  81293.890625  1778.692261   \n",
       "2  85487.367188  1926.302979  604.754761  82429.359375  1820.350342   \n",
       "3  88466.953125  1951.180298  585.121887  82343.539062  1782.760254   \n",
       "4  83909.296875  1844.071045  579.444092  81282.101562  1751.380859   \n",
       "\n",
       "     open_bnb      open_btc     open_eth  volume_bnb   volume_btc  \\\n",
       "0  603.191345  82596.984375  1827.311035  1204098085  14763760943   \n",
       "1  601.830200  82336.062500  1806.316528  1538796118  29004228247   \n",
       "2  605.072815  82551.921875  1823.562378  2091803391  28175650319   \n",
       "3  611.297119  85180.609375  1905.484619  1835749587  47584398470   \n",
       "4  590.637573  82487.476562  1794.976074  2067033502  36852112080   \n",
       "\n",
       "      volume_eth  \n",
       "0     9854857162  \n",
       "1    15765030938  \n",
       "2  1000000000000  \n",
       "3    22593742104  \n",
       "4    16450974373  "
      ]
     },
     "execution_count": 4,
     "metadata": {},
     "output_type": "execute_result"
    }
   ],
   "source": [
    "df_filled = df.copy()\n",
    "df_filled.head()"
   ]
  },
  {
   "cell_type": "code",
   "execution_count": null,
   "id": "9dfcc64f-e535-4c26-9481-a0954de31d77",
   "metadata": {},
   "outputs": [],
   "source": [
    "df_filled['df_filled_mean'] = df_filled['close_btc'].fillna(df['close_btc'].mean())\n",
    "df_filled[['close_btc', 'df_filled_mean']].head()"
   ]
  },
  {
   "cell_type": "markdown",
   "id": "fae4164e-6087-44bd-af1d-77ad98195715",
   "metadata": {},
   "source": [
    "#### Interpolate"
   ]
  },
  {
   "cell_type": "code",
   "execution_count": null,
   "id": "d24124ff-37aa-48d1-a802-17f8c28092b1",
   "metadata": {},
   "outputs": [],
   "source": [
    "df_filled['df_interpolated'] = df_filled['close_btc'].interpolate()\n",
    "df_filled[['close_btc', 'df_filled_mean', 'df_interpolated']].head()"
   ]
  },
  {
   "cell_type": "markdown",
   "id": "5e594c7b-2015-4d91-938b-99c0844ec8cf",
   "metadata": {},
   "source": [
    "#### Count missing values in `close_btc` and `close_bnb`."
   ]
  },
  {
   "cell_type": "code",
   "execution_count": null,
   "id": "350a5223-82b7-41cf-8e8f-6991726bf247",
   "metadata": {},
   "outputs": [],
   "source": [
    "df_filled[['close_btc', 'close_bnb']].isna().sum()"
   ]
  },
  {
   "cell_type": "markdown",
   "id": "6810d9d5-688a-45e2-b4b8-d2ffd6c96e25",
   "metadata": {},
   "source": [
    "#### Fill missing `close_btc` values with the median."
   ]
  },
  {
   "cell_type": "code",
   "execution_count": null,
   "id": "4957010a-af0a-42bd-ab77-639dd500c0d7",
   "metadata": {},
   "outputs": [],
   "source": [
    "# Fill some rows with NAN\n",
    "df_filled.loc[0:3, ['close_bnb']] = float(\"nan\")"
   ]
  },
  {
   "cell_type": "code",
   "execution_count": null,
   "id": "50b9d2d0-1f7b-4f10-a909-4f5cf4d0df53",
   "metadata": {},
   "outputs": [],
   "source": [
    "medians = df_filled[['close_btc', 'close_bnb']].median()\n",
    "# df_filled[['close_btc_na', 'close_bnb_na']] = medians.tolist()\n",
    "# df_filled[['close_btc', 'close_btc_na', 'close_bnb', 'close_bnb_na']].head()\n",
    "\n",
    "df_filled['close_btc_na'] = medians['close_btc']\n",
    "df_filled['close_bnb+na'] = medians['close_bnb']\n",
    "df_filled[['close_btc', 'close_btc_na', 'close_bnb', 'close_bnb_na']].head()"
   ]
  },
  {
   "cell_type": "markdown",
   "id": "1b1534b9-03ff-4577-bba3-a74d14c4c488",
   "metadata": {},
   "source": [
    "#### Compare the mean of `close_btc` before and after filling (using `df_filled`)"
   ]
  },
  {
   "cell_type": "code",
   "execution_count": null,
   "id": "e9952a7b-4055-4c26-82e3-9a4c5d9c4aeb",
   "metadata": {},
   "outputs": [],
   "source": [
    "df_filled[['close_btc', 'close_btc_na']].mean()"
   ]
  },
  {
   "cell_type": "markdown",
   "id": "d4eccec9-708c-4922-bc74-183f368e3e87",
   "metadata": {},
   "source": [
    "#### Mini-Project**: Create a DataFrame with no missing `close_btc` (use interpolation), \n",
    "#### compute average `close_btc` for first vs. second half of the dataset."
   ]
  },
  {
   "cell_type": "code",
   "execution_count": 5,
   "id": "de0eee5e-b9e2-41d7-b9ad-3b60e1d20e3f",
   "metadata": {},
   "outputs": [
    {
     "data": {
      "text/plain": [
       "np.False_"
      ]
     },
     "execution_count": 5,
     "metadata": {},
     "output_type": "execute_result"
    }
   ],
   "source": [
    "df_filled['close_btc_interpolated'] = df_filled['close_btc'].interpolate()\n",
    "\n",
    "total_rows = len(df_filled)\n",
    "\n",
    "mid_point = total_rows // 2\n",
    "\n",
    "first_half = df_filled.iloc[:mid_point]\n",
    "second_half = df_filled.iloc[mid_point:]\n",
    "\n",
    "dif = first_half['close_btc_interpolated'].mean() > second_half['close_btc_interpolated'].mean()\n",
    "\n",
    "dif\n"
   ]
  },
  {
   "cell_type": "code",
   "execution_count": null,
   "id": "20f83221-d145-462e-86bf-43df889387e0",
   "metadata": {},
   "outputs": [],
   "source": []
  }
 ],
 "metadata": {
  "kernelspec": {
   "display_name": "LLM Environment",
   "language": "python",
   "name": "llm_env"
  },
  "language_info": {
   "codemirror_mode": {
    "name": "ipython",
    "version": 3
   },
   "file_extension": ".py",
   "mimetype": "text/x-python",
   "name": "python",
   "nbconvert_exporter": "python",
   "pygments_lexer": "ipython3",
   "version": "3.13.3"
  }
 },
 "nbformat": 4,
 "nbformat_minor": 5
}
