{
 "cells": [
  {
   "cell_type": "code",
   "execution_count": null,
   "id": "9652651b-90bb-4be9-88c7-58f6af139255",
   "metadata": {},
   "outputs": [],
   "source": [
    "import pandas as pd\n",
    "import numpy as np\n",
    "import yfinance as yf\n",
    "from datetime import datetime\n",
    "import matplotlib.pyplot as plt"
   ]
  },
  {
   "cell_type": "code",
   "execution_count": null,
   "id": "2c671769-1626-4ac2-b89c-e86174465aee",
   "metadata": {},
   "outputs": [],
   "source": [
    "start_date = '2020-01-01'\n",
    "end_date = '2025-05-01'\n",
    "tickers = ['BTC-USD', 'ETH-USD']"
   ]
  },
  {
   "cell_type": "code",
   "execution_count": null,
   "id": "0ed1c971-a273-4eab-a230-c794d4fad7fa",
   "metadata": {},
   "outputs": [],
   "source": [
    "data = yf.download(tickers, start_date, end_date)"
   ]
  },
  {
   "cell_type": "code",
   "execution_count": null,
   "id": "75e76419-6b56-485b-993a-6f5b83257a41",
   "metadata": {},
   "outputs": [],
   "source": [
    "data = data.reset_index()\n",
    "data.head()"
   ]
  },
  {
   "cell_type": "code",
   "execution_count": null,
   "id": "2801aa42-8aaf-4252-970b-6c36b15d238e",
   "metadata": {},
   "outputs": [],
   "source": [
    "data = data.rename(columns={\n",
    "    'Date': 'date',\n",
    "    'BTC-USD': 'btc',\n",
    "    'ETH-USD': 'eth',\n",
    "    'Close': 'close',\n",
    "    'Open': 'open',\n",
    "    'High': 'high',\n",
    "    'Low': 'low',\n",
    "    'Volume': 'volume'\n",
    "})\n",
    "data.head()"
   ]
  },
  {
   "cell_type": "code",
   "execution_count": null,
   "id": "84b485cc-97f1-41da-9177-d8666991749f",
   "metadata": {},
   "outputs": [],
   "source": [
    "data.columns = ['_'.join(col).strip() for col in data.columns]\n",
    "data.head()"
   ]
  },
  {
   "cell_type": "code",
   "execution_count": null,
   "id": "8360bb98-1a96-4249-930b-814fdc720740",
   "metadata": {},
   "outputs": [],
   "source": [
    "data.dtypes"
   ]
  },
  {
   "cell_type": "code",
   "execution_count": null,
   "id": "39cc9398-8302-496b-9bdb-4de6061fae0e",
   "metadata": {},
   "outputs": [],
   "source": [
    "data['date_'] = pd.to_datetime(data['date_'])\n",
    "data = data.rename(columns={'date_': 'date'})\n",
    "data.head(6)"
   ]
  },
  {
   "cell_type": "code",
   "execution_count": null,
   "id": "3f1f9aaf-e412-42e9-bc59-ed7713404360",
   "metadata": {},
   "outputs": [],
   "source": [
    "data.to_csv('eth_btc_5_year.csv', index=False)\n",
    "print('Saved to csv file')"
   ]
  },
  {
   "cell_type": "code",
   "execution_count": null,
   "id": "427c5ef5-347d-4573-a25f-b4dce4755e8d",
   "metadata": {},
   "outputs": [],
   "source": [
    "df = pd.read_csv('eth_btc_5_year.csv')\n",
    "df['date_'] = pd.to_datetime(df['date_'])\n",
    "df.head()"
   ]
  },
  {
   "cell_type": "code",
   "execution_count": null,
   "id": "3a4c1eed-93a3-4990-a97a-2e2469a67c7e",
   "metadata": {},
   "outputs": [],
   "source": [
    "df.loc[1:5, 'close_btc'] = float('nan')\n",
    "df.loc[2:4, 'volume_eth'] = 0\n",
    "df.head(6)"
   ]
  },
  {
   "cell_type": "code",
   "execution_count": null,
   "id": "41e7c165-6716-4fc1-b271-91e05d98669c",
   "metadata": {},
   "outputs": [],
   "source": [
    "df.isna().sum()"
   ]
  },
  {
   "cell_type": "code",
   "execution_count": null,
   "id": "b42ac220-a686-4489-9c76-ae57fc69add3",
   "metadata": {},
   "outputs": [],
   "source": [
    "df = df.replace(0, np.nan)\n",
    "df.isna().sum()"
   ]
  },
  {
   "cell_type": "code",
   "execution_count": null,
   "id": "df319438-8cdd-442e-93e8-585b23037251",
   "metadata": {},
   "outputs": [],
   "source": [
    "df = df.interpolate()\n",
    "df.head(6)"
   ]
  },
  {
   "cell_type": "code",
   "execution_count": null,
   "id": "888ac035-b556-4e76-b51a-0886b221b49f",
   "metadata": {},
   "outputs": [],
   "source": [
    "df.isna().sum()"
   ]
  },
  {
   "cell_type": "code",
   "execution_count": null,
   "id": "66eb5733-11c9-4fcb-8d77-78c240c2d9bd",
   "metadata": {},
   "outputs": [],
   "source": [
    "df.dtypes"
   ]
  },
  {
   "cell_type": "code",
   "execution_count": null,
   "id": "8ba83ca9-89a3-4d2d-80e6-091b0ea538f1",
   "metadata": {},
   "outputs": [],
   "source": [
    "df = df.set_index('date_')\n",
    "# df.head()"
   ]
  },
  {
   "cell_type": "code",
   "execution_count": null,
   "id": "49ed38e1-c381-4403-9bb8-1067e6b55098",
   "metadata": {},
   "outputs": [],
   "source": [
    "df.describe"
   ]
  },
  {
   "cell_type": "code",
   "execution_count": null,
   "id": "8a10c07e-06b9-43fa-9d2e-3af9a7fb804a",
   "metadata": {},
   "outputs": [],
   "source": [
    "plt.figure(figsize=(12, 6))\n",
    "plt.plot(df.index, df['volume_btc'], label='BTC Volume', color='blue')\n",
    "plt.plot(df.index, df['volume_eth'], label='ETH Volume', color='orange')\n",
    "plt.title('BTC and ETH Trading Volumes (2020 - 01) after interpolation')\n",
    "plt.xlabel('Date')\n",
    "plt.ylabel('Volume')\n",
    "plt.legend()\n",
    "plt.grid(True)\n",
    "\n",
    "# Step 4: Save the plot to a file\n",
    "plt.savefig('btc_eth_volumes_interpolated.png')\n",
    "\n",
    "# Step 5: Display the plot\n",
    "plt.show()\n",
    "\n",
    "# Step 6: Close the figure to free memory\n",
    "plt.close()"
   ]
  },
  {
   "cell_type": "code",
   "execution_count": null,
   "id": "a8055fbe-e985-4f02-a091-1080abc93a6b",
   "metadata": {},
   "outputs": [],
   "source": [
    "max_volume = df['volume_btc'].max()\n",
    "max_volume"
   ]
  },
  {
   "cell_type": "code",
   "execution_count": null,
   "id": "cec068c4-d1d8-4628-8e44-47be838b34b5",
   "metadata": {},
   "outputs": [],
   "source": [
    "max_volume_date = df.index[df['volume_btc'] == max_volume][0]\n",
    "max_volume_date"
   ]
  },
  {
   "cell_type": "code",
   "execution_count": null,
   "id": "f594dfb7-06cc-405b-b8ee-528a73beb087",
   "metadata": {},
   "outputs": [],
   "source": [
    "# Use IQR to detect outliers in volume_btc\n",
    "Q1 = df['volume_btc'].quantile(0.25)\n",
    "Q3 = df['volume_btc'].quantile(.75)\n",
    "\n",
    "IQR = Q3 - Q1\n",
    "\n",
    "upper_bounds = Q3 + 1.5 * IQR\n",
    "lower_bounds = Q1 - 1.5 * IQR\n",
    "\n",
    "df_no_outliers = df[(df['volume_btc'] >= lower_bounds) & (df['volume_btc'] <= upper_bound)]\n",
    "df_no_outliers.head()"
   ]
  },
  {
   "cell_type": "code",
   "execution_count": null,
   "id": "e5dbe254-3fb2-4b48-9f8f-23d6f49f5104",
   "metadata": {},
   "outputs": [],
   "source": [
    "# Step 5: Print summary\n",
    "print(\"Original DataFrame shape:\", df.shape)\n",
    "print(\"DataFrame shape after removing outliers:\", df_no_outliers.shape)\n",
    "print(\"\\nOutliers removed (if any):\")\n",
    "outliers = df[(df['volume_btc'] < lower_bound) | (df['volume_btc'] > upper_bound)]\n",
    "if not outliers.empty:\n",
    "    for date, row in outliers.iterrows():\n",
    "        print(f\"Date: {date}, Volume: {row['volume_btc']}\")\n",
    "else:\n",
    "    print(\"No outliers detected.\")"
   ]
  },
  {
   "cell_type": "code",
   "execution_count": null,
   "id": "58bcfc8a-6b22-4b02-9c60-c2e926dff451",
   "metadata": {},
   "outputs": [],
   "source": [
    "# Step 6: Visualize original and cleaned data\n",
    "plt.figure(figsize=(12, 6))\n",
    "plt.plot(df.index, df['volume_btc'], label='Original BTC Volume', color='blue', alpha=0.5)\n",
    "plt.plot(df_no_outliers.index, df_no_outliers['volume_btc'], label='BTC Volume (No Outliers)', color='green')\n",
    "plt.plot(df.index, df['volume_eth'], label='ETH Volume', color='orange', alpha=0.5)\n",
    "if not outliers.empty:\n",
    "    plt.scatter(outliers.index, outliers['volume_btc'], color='red', label='Outliers', zorder=5)\n",
    "plt.title('BTC and ETH Trading Volumes (2020-01) with Outlier Analysis')\n",
    "plt.xlabel('Date')\n",
    "plt.ylabel('Volume')\n",
    "plt.legend()\n",
    "plt.grid(True)\n",
    "plt.savefig('btc_eth_volumes_outlier_analysis.png')\n",
    "plt.show()\n",
    "plt.close()"
   ]
  },
  {
   "cell_type": "code",
   "execution_count": null,
   "id": "2a743501-2ffe-412c-82fd-768c0e578b7e",
   "metadata": {},
   "outputs": [],
   "source": [
    "df_no_outliers.info()"
   ]
  },
  {
   "cell_type": "code",
   "execution_count": null,
   "id": "8fb9bf27-c8d6-4e0b-9f48-846c2c43a693",
   "metadata": {},
   "outputs": [],
   "source": [
    "df.info()"
   ]
  },
  {
   "cell_type": "code",
   "execution_count": null,
   "id": "3ca2b34b-dd3d-43f6-b363-536d65cfa39a",
   "metadata": {},
   "outputs": [],
   "source": []
  }
 ],
 "metadata": {
  "kernelspec": {
   "display_name": "LLM Environment",
   "language": "python",
   "name": "llm_env"
  },
  "language_info": {
   "codemirror_mode": {
    "name": "ipython",
    "version": 3
   },
   "file_extension": ".py",
   "mimetype": "text/x-python",
   "name": "python",
   "nbconvert_exporter": "python",
   "pygments_lexer": "ipython3",
   "version": "3.13.3"
  }
 },
 "nbformat": 4,
 "nbformat_minor": 5
}
