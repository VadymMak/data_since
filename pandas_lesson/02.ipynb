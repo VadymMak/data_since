{
 "cells": [
  {
   "cell_type": "markdown",
   "id": "5b80560f-9896-4335-8df0-74e014a425e1",
   "metadata": {},
   "source": [
    "#### Day 2 Week 1"
   ]
  },
  {
   "cell_type": "code",
   "execution_count": 21,
   "id": "254da6e1-b815-415d-9209-fe4965e8099b",
   "metadata": {},
   "outputs": [],
   "source": [
    "import pandas as pd"
   ]
  },
  {
   "cell_type": "code",
   "execution_count": 23,
   "id": "2f47be3c-3177-4cb9-81b6-410754f00dd1",
   "metadata": {},
   "outputs": [
    {
     "data": {
      "text/html": [
       "<div>\n",
       "<style scoped>\n",
       "    .dataframe tbody tr th:only-of-type {\n",
       "        vertical-align: middle;\n",
       "    }\n",
       "\n",
       "    .dataframe tbody tr th {\n",
       "        vertical-align: top;\n",
       "    }\n",
       "\n",
       "    .dataframe thead th {\n",
       "        text-align: right;\n",
       "    }\n",
       "</style>\n",
       "<table border=\"1\" class=\"dataframe\">\n",
       "  <thead>\n",
       "    <tr style=\"text-align: right;\">\n",
       "      <th></th>\n",
       "      <th>Date_</th>\n",
       "      <th>close_bnb</th>\n",
       "      <th>close_btc</th>\n",
       "      <th>close_eth</th>\n",
       "      <th>high_bnb</th>\n",
       "      <th>high_btc</th>\n",
       "      <th>high_eth</th>\n",
       "      <th>low_bnb</th>\n",
       "      <th>low_btc</th>\n",
       "      <th>low_eth</th>\n",
       "      <th>open_bnb</th>\n",
       "      <th>open_btc</th>\n",
       "      <th>open_eth</th>\n",
       "      <th>volume_bnb</th>\n",
       "      <th>volume_btc</th>\n",
       "      <th>volume_eth</th>\n",
       "    </tr>\n",
       "  </thead>\n",
       "  <tbody>\n",
       "    <tr>\n",
       "      <th>0</th>\n",
       "      <td>2025-03-30</td>\n",
       "      <td>601.830200</td>\n",
       "      <td>82334.523438</td>\n",
       "      <td>1806.218628</td>\n",
       "      <td>612.789368</td>\n",
       "      <td>83505.000000</td>\n",
       "      <td>1847.570557</td>\n",
       "      <td>594.214355</td>\n",
       "      <td>81573.250000</td>\n",
       "      <td>1769.412720</td>\n",
       "      <td>603.191345</td>\n",
       "      <td>82596.984375</td>\n",
       "      <td>1827.311035</td>\n",
       "      <td>1204098085</td>\n",
       "      <td>14763760943</td>\n",
       "      <td>9854857162</td>\n",
       "    </tr>\n",
       "    <tr>\n",
       "      <th>1</th>\n",
       "      <td>2025-03-31</td>\n",
       "      <td>0.000000</td>\n",
       "      <td>82548.914062</td>\n",
       "      <td>1823.479980</td>\n",
       "      <td>608.501099</td>\n",
       "      <td>83870.125000</td>\n",
       "      <td>1852.551392</td>\n",
       "      <td>588.086182</td>\n",
       "      <td>81293.890625</td>\n",
       "      <td>1778.692261</td>\n",
       "      <td>601.830200</td>\n",
       "      <td>82336.062500</td>\n",
       "      <td>1806.316528</td>\n",
       "      <td>1538796118</td>\n",
       "      <td>29004228247</td>\n",
       "      <td>15765030938</td>\n",
       "    </tr>\n",
       "    <tr>\n",
       "      <th>2</th>\n",
       "      <td>2025-04-01</td>\n",
       "      <td>611.297119</td>\n",
       "      <td>85169.171875</td>\n",
       "      <td>1905.491455</td>\n",
       "      <td>618.123779</td>\n",
       "      <td>85487.367188</td>\n",
       "      <td>1926.302979</td>\n",
       "      <td>604.754761</td>\n",
       "      <td>82429.359375</td>\n",
       "      <td>1820.350342</td>\n",
       "      <td>605.072815</td>\n",
       "      <td>82551.921875</td>\n",
       "      <td>1823.562378</td>\n",
       "      <td>2091803391</td>\n",
       "      <td>28175650319</td>\n",
       "      <td>1000000000000</td>\n",
       "    </tr>\n",
       "    <tr>\n",
       "      <th>3</th>\n",
       "      <td>2025-04-02</td>\n",
       "      <td>590.637573</td>\n",
       "      <td>NaN</td>\n",
       "      <td>1795.313232</td>\n",
       "      <td>611.518188</td>\n",
       "      <td>88466.953125</td>\n",
       "      <td>1951.180298</td>\n",
       "      <td>585.121887</td>\n",
       "      <td>82343.539062</td>\n",
       "      <td>1782.760254</td>\n",
       "      <td>611.297119</td>\n",
       "      <td>85180.609375</td>\n",
       "      <td>1905.484619</td>\n",
       "      <td>1835749587</td>\n",
       "      <td>47584398470</td>\n",
       "      <td>22593742104</td>\n",
       "    </tr>\n",
       "    <tr>\n",
       "      <th>4</th>\n",
       "      <td>2025-04-03</td>\n",
       "      <td>592.124451</td>\n",
       "      <td>NaN</td>\n",
       "      <td>1815.637207</td>\n",
       "      <td>609.344666</td>\n",
       "      <td>83909.296875</td>\n",
       "      <td>1844.071045</td>\n",
       "      <td>579.444092</td>\n",
       "      <td>81282.101562</td>\n",
       "      <td>1751.380859</td>\n",
       "      <td>590.637573</td>\n",
       "      <td>82487.476562</td>\n",
       "      <td>1794.976074</td>\n",
       "      <td>2067033502</td>\n",
       "      <td>36852112080</td>\n",
       "      <td>16450974373</td>\n",
       "    </tr>\n",
       "  </tbody>\n",
       "</table>\n",
       "</div>"
      ],
      "text/plain": [
       "        Date_   close_bnb     close_btc    close_eth    high_bnb  \\\n",
       "0  2025-03-30  601.830200  82334.523438  1806.218628  612.789368   \n",
       "1  2025-03-31    0.000000  82548.914062  1823.479980  608.501099   \n",
       "2  2025-04-01  611.297119  85169.171875  1905.491455  618.123779   \n",
       "3  2025-04-02  590.637573           NaN  1795.313232  611.518188   \n",
       "4  2025-04-03  592.124451           NaN  1815.637207  609.344666   \n",
       "\n",
       "       high_btc     high_eth     low_bnb       low_btc      low_eth  \\\n",
       "0  83505.000000  1847.570557  594.214355  81573.250000  1769.412720   \n",
       "1  83870.125000  1852.551392  588.086182  81293.890625  1778.692261   \n",
       "2  85487.367188  1926.302979  604.754761  82429.359375  1820.350342   \n",
       "3  88466.953125  1951.180298  585.121887  82343.539062  1782.760254   \n",
       "4  83909.296875  1844.071045  579.444092  81282.101562  1751.380859   \n",
       "\n",
       "     open_bnb      open_btc     open_eth  volume_bnb   volume_btc  \\\n",
       "0  603.191345  82596.984375  1827.311035  1204098085  14763760943   \n",
       "1  601.830200  82336.062500  1806.316528  1538796118  29004228247   \n",
       "2  605.072815  82551.921875  1823.562378  2091803391  28175650319   \n",
       "3  611.297119  85180.609375  1905.484619  1835749587  47584398470   \n",
       "4  590.637573  82487.476562  1794.976074  2067033502  36852112080   \n",
       "\n",
       "      volume_eth  \n",
       "0     9854857162  \n",
       "1    15765030938  \n",
       "2  1000000000000  \n",
       "3    22593742104  \n",
       "4    16450974373  "
      ]
     },
     "execution_count": 23,
     "metadata": {},
     "output_type": "execute_result"
    }
   ],
   "source": [
    "df = pd.read_csv('crypto_market_data.csv')\n",
    "df.head()"
   ]
  },
  {
   "cell_type": "markdown",
   "id": "cba4c18f-c76d-4829-8f44-12fbb3a38e38",
   "metadata": {},
   "source": [
    "#### Select closing prices columns"
   ]
  },
  {
   "cell_type": "code",
   "execution_count": null,
   "id": "3e51f2bb-8849-4032-a33e-bcb1333dce37",
   "metadata": {},
   "outputs": [],
   "source": [
    "closing_prices = df[['close_btc', 'close_eth', 'close_bnb']]\n",
    "closing_prices"
   ]
  },
  {
   "cell_type": "code",
   "execution_count": null,
   "id": "398f4295-542b-4c3a-b133-b9818a75363d",
   "metadata": {},
   "outputs": [],
   "source": [
    "first_4_days = df.iloc[1:5]\n",
    "first_4_days"
   ]
  },
  {
   "cell_type": "markdown",
   "id": "d1d26339-99a5-40b8-9947-c1d02e36aee8",
   "metadata": {},
   "source": [
    "#### Filter high volume days for btc"
   ]
  },
  {
   "cell_type": "code",
   "execution_count": null,
   "id": "5458beba-eafc-4517-a547-5abe34990f36",
   "metadata": {},
   "outputs": [],
   "source": [
    "btc_volume_treshold = df['volume_btc'].quantile(0.75)\n",
    "high_volume_btc = df[df['volume_btc'] > btc_volume_treshold]\n",
    "high_volume_btc"
   ]
  },
  {
   "cell_type": "code",
   "execution_count": 17,
   "id": "bc2ccb13-cbed-4860-8321-792fe00f7b18",
   "metadata": {},
   "outputs": [
    {
     "data": {
      "text/html": [
       "<div>\n",
       "<style scoped>\n",
       "    .dataframe tbody tr th:only-of-type {\n",
       "        vertical-align: middle;\n",
       "    }\n",
       "\n",
       "    .dataframe tbody tr th {\n",
       "        vertical-align: top;\n",
       "    }\n",
       "\n",
       "    .dataframe thead th {\n",
       "        text-align: right;\n",
       "    }\n",
       "</style>\n",
       "<table border=\"1\" class=\"dataframe\">\n",
       "  <thead>\n",
       "    <tr style=\"text-align: right;\">\n",
       "      <th></th>\n",
       "      <th>volume_btc</th>\n",
       "      <th>close_btc</th>\n",
       "    </tr>\n",
       "  </thead>\n",
       "  <tbody>\n",
       "    <tr>\n",
       "      <th>1</th>\n",
       "      <td>55899038456</td>\n",
       "      <td>93441.890625</td>\n",
       "    </tr>\n",
       "  </tbody>\n",
       "</table>\n",
       "</div>"
      ],
      "text/plain": [
       "    volume_btc     close_btc\n",
       "1  55899038456  93441.890625"
      ]
     },
     "execution_count": 17,
     "metadata": {},
     "output_type": "execute_result"
    }
   ],
   "source": [
    "btc_threshold = df['volume_btc'].quantile(0.9)\n",
    "\n",
    "# Complex filtering conditionally with columns selection\n",
    "high_btc_volume = df.loc[(df['volume_btc'] > btc_threshold) & (df['volume_btc'].notna()), ['volume_btc', 'close_btc']]\n",
    "\n",
    "# In this case simple filtering -> without columns selection\n",
    "# high_btc_volume = df[df['volume_btc'] > btc_treshold]\n",
    "\n",
    "high_btc_volume"
   ]
  },
  {
   "cell_type": "markdown",
   "id": "cad54cef-88fe-464f-8b4b-ba5accae9165",
   "metadata": {},
   "source": [
    "#### . Select `volume_btc` and `volume_eth` columns, print the first 5 rows."
   ]
  },
  {
   "cell_type": "code",
   "execution_count": null,
   "id": "adc108f2-d1e3-4fda-93f4-10f995c6acdf",
   "metadata": {},
   "outputs": [],
   "source": [
    "volume_btc_eth = df[[\"volume_btc\", \"volume_eth\"]]\n",
    "first_5_rows = volume_btc_eth.head().reset_index(drop=True)\n",
    "volume_str = f\"BTC: {volume_btc_eth['volume_btc']}\\nETH: {volume_btc_eth['volume_eth']}\"\n",
    "print(volume_str)"
   ]
  },
  {
   "cell_type": "markdown",
   "id": "11abfb74-8f8f-409d-9677-35560f2f35b3",
   "metadata": {},
   "source": [
    "#### Use `loc` to select rows where `close_btc` > its median (handle `NaN` with `notna()`)."
   ]
  },
  {
   "cell_type": "code",
   "execution_count": 20,
   "id": "8168a18d-5911-4d4c-87e1-a987d541c804",
   "metadata": {},
   "outputs": [
    {
     "data": {
      "text/html": [
       "<div>\n",
       "<style scoped>\n",
       "    .dataframe tbody tr th:only-of-type {\n",
       "        vertical-align: middle;\n",
       "    }\n",
       "\n",
       "    .dataframe tbody tr th {\n",
       "        vertical-align: top;\n",
       "    }\n",
       "\n",
       "    .dataframe thead th {\n",
       "        text-align: right;\n",
       "    }\n",
       "</style>\n",
       "<table border=\"1\" class=\"dataframe\">\n",
       "  <thead>\n",
       "    <tr style=\"text-align: right;\">\n",
       "      <th></th>\n",
       "      <th>date_</th>\n",
       "      <th>close_bnb</th>\n",
       "      <th>close_btc</th>\n",
       "      <th>close_eth</th>\n",
       "      <th>high_bnb</th>\n",
       "      <th>high_btc</th>\n",
       "      <th>high_eth</th>\n",
       "      <th>low_bnb</th>\n",
       "      <th>low_btc</th>\n",
       "      <th>low_eth</th>\n",
       "      <th>open_bnb</th>\n",
       "      <th>open_btc</th>\n",
       "      <th>open_eth</th>\n",
       "      <th>volume_bnb</th>\n",
       "      <th>volume_btc</th>\n",
       "      <th>volume_eth</th>\n",
       "    </tr>\n",
       "  </thead>\n",
       "  <tbody>\n",
       "    <tr>\n",
       "      <th>2</th>\n",
       "      <td>2025-04-23</td>\n",
       "      <td>605.815002</td>\n",
       "      <td>93699.109375</td>\n",
       "      <td>1796.104248</td>\n",
       "      <td>619.862488</td>\n",
       "      <td>94535.734375</td>\n",
       "      <td>1829.709961</td>\n",
       "      <td>601.954163</td>\n",
       "      <td>91962.960938</td>\n",
       "      <td>1746.924072</td>\n",
       "      <td>618.826965</td>\n",
       "      <td>93427.585938</td>\n",
       "      <td>1757.196533</td>\n",
       "      <td>1834047719</td>\n",
       "      <td>41719568821</td>\n",
       "      <td>1000000000000</td>\n",
       "    </tr>\n",
       "    <tr>\n",
       "      <th>6</th>\n",
       "      <td>2025-04-27</td>\n",
       "      <td>599.921265</td>\n",
       "      <td>94228.250000</td>\n",
       "      <td>1808.597290</td>\n",
       "      <td>608.269043</td>\n",
       "      <td>95172.210938</td>\n",
       "      <td>1852.489990</td>\n",
       "      <td>598.159851</td>\n",
       "      <td>93815.500000</td>\n",
       "      <td>1794.670654</td>\n",
       "      <td>607.694458</td>\n",
       "      <td>94662.343750</td>\n",
       "      <td>1821.758911</td>\n",
       "      <td>1514839424</td>\n",
       "      <td>18701733888</td>\n",
       "      <td>12018830336</td>\n",
       "    </tr>\n",
       "  </tbody>\n",
       "</table>\n",
       "</div>"
      ],
      "text/plain": [
       "        date_   close_bnb     close_btc    close_eth    high_bnb  \\\n",
       "2  2025-04-23  605.815002  93699.109375  1796.104248  619.862488   \n",
       "6  2025-04-27  599.921265  94228.250000  1808.597290  608.269043   \n",
       "\n",
       "       high_btc     high_eth     low_bnb       low_btc      low_eth  \\\n",
       "2  94535.734375  1829.709961  601.954163  91962.960938  1746.924072   \n",
       "6  95172.210938  1852.489990  598.159851  93815.500000  1794.670654   \n",
       "\n",
       "     open_bnb      open_btc     open_eth  volume_bnb   volume_btc  \\\n",
       "2  618.826965  93427.585938  1757.196533  1834047719  41719568821   \n",
       "6  607.694458  94662.343750  1821.758911  1514839424  18701733888   \n",
       "\n",
       "      volume_eth  \n",
       "2  1000000000000  \n",
       "6    12018830336  "
      ]
     },
     "execution_count": 20,
     "metadata": {},
     "output_type": "execute_result"
    }
   ],
   "source": [
    "median_close = df['close_btc'].median()\n",
    "filtered_df = df.loc[(df['close_btc'].notna()) & (df['close_btc'] > median_close)]\n",
    "filtered_df"
   ]
  },
  {
   "cell_type": "markdown",
   "id": "07b4ea78-39b3-4e8c-a492-0e4c41fb07fa",
   "metadata": {},
   "source": [
    "#### Filter days where `close_btc` increased from the previous day (use `diff()`)."
   ]
  },
  {
   "cell_type": "code",
   "execution_count": null,
   "id": "7c66ce5e-850d-4f47-9390-06b24138019b",
   "metadata": {},
   "outputs": [],
   "source": [
    "filtered_days = df[(df['close_btc'].diff() > 0) & (df['close_btc'].notna()) ]\n",
    "filtered_days"
   ]
  },
  {
   "cell_type": "markdown",
   "id": "72a8fab1-d29b-485d-b05c-eec3807d91dd",
   "metadata": {},
   "source": [
    "#### **Mini-Project**: Create a DataFrame with days where `volume_btc` > 90th percentile, save to `high_volume_btc.csv`."
   ]
  },
  {
   "cell_type": "code",
   "execution_count": null,
   "id": "d833d90b-e16d-4955-9cdc-68c38ce0e281",
   "metadata": {},
   "outputs": [],
   "source": [
    "volume_btc_treshould = df['volume_btc'].quantile(0.9)\n",
    "high_btc_volume = df.loc[df['volume_btc'] > volume_btc_treshould]\n",
    "df.to_csv(\"high_btc_volume.csv\")\n",
    "print('Saved to csv file')\n",
    "high_btc_volume"
   ]
  },
  {
   "cell_type": "code",
   "execution_count": null,
   "id": "71eb0296-d60d-44ac-9d44-538fccfcf41c",
   "metadata": {},
   "outputs": [],
   "source": []
  }
 ],
 "metadata": {
  "kernelspec": {
   "display_name": "LLM Environment",
   "language": "python",
   "name": "llm_env"
  },
  "language_info": {
   "codemirror_mode": {
    "name": "ipython",
    "version": 3
   },
   "file_extension": ".py",
   "mimetype": "text/x-python",
   "name": "python",
   "nbconvert_exporter": "python",
   "pygments_lexer": "ipython3",
   "version": "3.13.3"
  }
 },
 "nbformat": 4,
 "nbformat_minor": 5
}
