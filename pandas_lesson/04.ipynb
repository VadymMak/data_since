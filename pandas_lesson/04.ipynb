{
 "cells": [
  {
   "cell_type": "markdown",
   "id": "cbdddc2d-9a04-4090-85f3-55a47aa3cdf3",
   "metadata": {},
   "source": [
    "#### Day 4: Tuesday, April 29, 2025 – Cleaning Outliers in Crypto Data"
   ]
  },
  {
   "cell_type": "code",
   "execution_count": null,
   "id": "2c09276a-beda-479d-a091-9bd79a88e8b7",
   "metadata": {},
   "outputs": [],
   "source": [
    "import pandas as pd"
   ]
  },
  {
   "cell_type": "markdown",
   "id": "c3539829-480e-4bc7-a5bc-01f7a2c57419",
   "metadata": {},
   "source": [
    "#### Detect and handle outliers in `volume_eth` (1e12 at row 10) using IQR method."
   ]
  },
  {
   "cell_type": "code",
   "execution_count": null,
   "id": "bf5e2e92-baeb-4f04-bcc8-3301cd326eb5",
   "metadata": {},
   "outputs": [],
   "source": [
    "df_cleaned = pd.read_csv('crypto_market_data.csv')\n",
    "df_cleaned.head()"
   ]
  },
  {
   "cell_type": "markdown",
   "id": "c1c27d29-5a4b-4157-ac4e-d578a046fd57",
   "metadata": {},
   "source": [
    "#### # Detect outliers in volume_eth Метод IQR считает любое значение ниже Q1 - 1.5 * IQR потенциальным выбросом. Множитель 1.5 — это стандартное значение, используемое в методе IQR для определения порога выбросов."
   ]
  },
  {
   "cell_type": "code",
   "execution_count": null,
   "id": "447f3c60-735e-4266-8bab-2d2a4785ce44",
   "metadata": {},
   "outputs": [],
   "source": [
    "Q1 = df_cleaned['volume_eth'].quantile(0.25)\n",
    "Q1"
   ]
  },
  {
   "cell_type": "code",
   "execution_count": null,
   "id": "7c1333bc-6c93-4a1f-8ad9-5e309aa99d1e",
   "metadata": {},
   "outputs": [],
   "source": [
    "Q3 = df_cleaned['volume_eth'].quantile(.75)\n",
    "Q3"
   ]
  },
  {
   "cell_type": "code",
   "execution_count": null,
   "id": "4f152952-fead-424b-9b79-135f6609436a",
   "metadata": {},
   "outputs": [],
   "source": [
    "# IQR означает межквартильный размах (Interquartile Range), который равен разнице между \n",
    "# третьим квартилем (Q3) и первым квартилем (Q1).\n",
    "\n",
    "IQR = Q3 - Q1\n",
    "IQR"
   ]
  },
  {
   "cell_type": "code",
   "execution_count": null,
   "id": "3027ddcc-ca89-44bd-bd19-1bceda30061e",
   "metadata": {},
   "outputs": [],
   "source": [
    "# Эта строка вычисляет нижнюю границу для определения выбросов.\n",
    "# Метод IQR считает любое значение ниже Q1 - 1.5 * IQR потенциальным выбросом\n",
    "# Множитель 1.5 — это стандартное значение, используемое в методе IQR для определения порога выбросов.\n",
    "\n",
    "lower_bound = Q1 - 1.5 * IQR\n",
    "lower_bound"
   ]
  },
  {
   "cell_type": "code",
   "execution_count": null,
   "id": "5d42a9eb-cb69-4581-85f4-7c79d47aa41d",
   "metadata": {},
   "outputs": [],
   "source": [
    "upper_bound = Q3 + 1.5 * IQR\n",
    "upper_bound"
   ]
  },
  {
   "cell_type": "code",
   "execution_count": null,
   "id": "3ad44544-d741-44f8-ae92-285cc33b800c",
   "metadata": {},
   "outputs": [],
   "source": [
    "outliers = (df_cleaned[\"volume_eth\"] < lower_bound) | (df_cleaned[\"volume_eth\"] > upper_bound)\n",
    "print(\"Outliers in volume_eth:\\n\", df_cleaned[outliers][[\"date\", \"volume_eth\"]])"
   ]
  },
  {
   "cell_type": "markdown",
   "id": "714fba68-59e7-4e77-9786-5ab6effd2250",
   "metadata": {},
   "source": [
    "#### Replace with median"
   ]
  },
  {
   "cell_type": "code",
   "execution_count": null,
   "id": "0f1d59bd-a2fd-4db5-8b12-565065a1acd4",
   "metadata": {},
   "outputs": [],
   "source": [
    "df_cleaned_replaced = df_cleaned.copy()\n",
    "df_cleaned_replaced.head()"
   ]
  },
  {
   "cell_type": "code",
   "execution_count": null,
   "id": "0c408613-602f-4c6c-bca7-dcaeb99dc4a0",
   "metadata": {},
   "outputs": [],
   "source": [
    "median_volume = df_cleaned['volume_eth'].median()\n",
    "\n",
    "# This line replaces the values in the volume_eth column of df_cleaned_replaced with median_volume \n",
    "# for all rows where outliers is True.\n",
    "df_cleaned_replaced.loc[outliers, 'volume_eth'] = median_volume\n",
    "\n",
    "print(\"Volume ETH after replacing:\\n\", df_cleaned_replaced[\"volume_eth\"].describe())"
   ]
  },
  {
   "cell_type": "markdown",
   "id": "a91aa431-1007-4c16-9b2b-44aa54024896",
   "metadata": {},
   "source": [
    "#### Apply IQR method to detect outliers in `close_bnb` (0 at row 15)."
   ]
  },
  {
   "cell_type": "code",
   "execution_count": null,
   "id": "86a42a71-fcab-4ca1-a555-03466b7218ec",
   "metadata": {},
   "outputs": [],
   "source": [
    "df = pd.read_csv('crypto_market_data.csv')\n",
    "df_cleaned = df.copy()"
   ]
  },
  {
   "cell_type": "code",
   "execution_count": null,
   "id": "019a1782-4e09-46f7-aa62-03a78cb7bf36",
   "metadata": {},
   "outputs": [],
   "source": [
    "Q1 = df_cleaned['close_bnb'].quantile(.25)\n",
    "Q1"
   ]
  },
  {
   "cell_type": "code",
   "execution_count": null,
   "id": "ab15dd7c-9510-4689-8a0d-7314bdd0aec0",
   "metadata": {},
   "outputs": [],
   "source": [
    "Q3 = df_cleaned['close_bnb'].quantile(.75)\n",
    "Q3"
   ]
  },
  {
   "cell_type": "code",
   "execution_count": null,
   "id": "ce58d980-7224-4b45-83cc-439487256aea",
   "metadata": {},
   "outputs": [],
   "source": [
    "IQR = Q3 - Q1\n",
    "IQR"
   ]
  },
  {
   "cell_type": "code",
   "execution_count": null,
   "id": "826b70d8-4796-45a4-b1bb-63a67f245c7d",
   "metadata": {},
   "outputs": [],
   "source": [
    "lower_bound = Q1 - 1.5 * IQR\n",
    "lower_bound"
   ]
  },
  {
   "cell_type": "code",
   "execution_count": null,
   "id": "bb477cab-42ca-403b-90ec-0ee43c603980",
   "metadata": {},
   "outputs": [],
   "source": [
    "upper_bound = Q3 + 1.5 * IQR\n",
    "upper_bound"
   ]
  },
  {
   "cell_type": "code",
   "execution_count": null,
   "id": "47701681-0572-4c38-b8d4-b1d496894848",
   "metadata": {},
   "outputs": [],
   "source": [
    "outliers = (df_cleaned['close_bnb'] < lower_bound) | (df_cleaned['close_bnb'] > upper_bound)\n",
    "print(\"Outliers in close_bnb:\\n\", df_cleaned[outliers][[\"date\", \"close_bnb\"]])"
   ]
  },
  {
   "cell_type": "markdown",
   "id": "98e8fe6e-17e4-4a7c-8234-7ecad7979dd0",
   "metadata": {},
   "source": [
    "#### Replace outliers in `close_bnb` with the mean."
   ]
  },
  {
   "cell_type": "code",
   "execution_count": null,
   "id": "8a31605a-0132-4696-84f4-11302008144d",
   "metadata": {},
   "outputs": [],
   "source": [
    "mean = df_cleaned['close_bnb'].mean()\n",
    "mean"
   ]
  },
  {
   "cell_type": "code",
   "execution_count": null,
   "id": "9195d3ed-fa71-4022-b762-80055bdc90d9",
   "metadata": {},
   "outputs": [],
   "source": [
    "df_cleaned.loc[outliers, ['close_bnb']] = mean\n",
    "df_cleaned['close_bnb'].describe()"
   ]
  },
  {
   "cell_type": "markdown",
   "id": "41351c75-ca2e-40b5-b813-6ef0d02d1a51",
   "metadata": {},
   "source": [
    "#### Compare standard deviation of `volume_eth` before and after outlier removal."
   ]
  },
  {
   "cell_type": "code",
   "execution_count": null,
   "id": "28d7e00f-1d9b-475d-ba45-c68ead59bbdf",
   "metadata": {},
   "outputs": [],
   "source": [
    "df['close_bnb'].describe()"
   ]
  },
  {
   "cell_type": "markdown",
   "id": "336663c7-5dd1-450b-849d-8337ddc40f07",
   "metadata": {},
   "source": [
    "#### Mini-Project**: Create a DataFrame with no outliers in `volume_eth` and `close_bnb`, save to `crypto_cleaned.csv`."
   ]
  },
  {
   "cell_type": "code",
   "execution_count": null,
   "id": "0d8797aa-b88e-4e87-9561-7b63f27b9d27",
   "metadata": {},
   "outputs": [],
   "source": [
    "df = pd.read_csv('crypto_market_data.csv')\n",
    "df.head()"
   ]
  },
  {
   "cell_type": "code",
   "execution_count": null,
   "id": "36d6a7ac-9ca1-475e-b12f-281d9347fb89",
   "metadata": {},
   "outputs": [],
   "source": [
    "df_cleaned = df.copy()\n",
    "df_cleaned.head()"
   ]
  },
  {
   "cell_type": "code",
   "execution_count": null,
   "id": "55a1201f-6893-496f-b337-bd02489b8c41",
   "metadata": {},
   "outputs": [],
   "source": [
    "medians = df_cleaned[['volume_eth', 'close_bnb']].median()\n",
    "medians['volume_eth']"
   ]
  },
  {
   "cell_type": "markdown",
   "id": "99bf91c4-a865-46c1-848c-2d797d0a88d3",
   "metadata": {},
   "source": [
    "#### For volume_eth"
   ]
  },
  {
   "cell_type": "code",
   "execution_count": null,
   "id": "ddf482db-dbb4-423d-8544-f7a1b88be8ce",
   "metadata": {},
   "outputs": [],
   "source": [
    "Q1 = df['volume_eth'].quantile(.25)\n",
    "Q1"
   ]
  },
  {
   "cell_type": "code",
   "execution_count": null,
   "id": "ad5f5e01-c326-4aaf-9fa4-69cd65b91671",
   "metadata": {},
   "outputs": [],
   "source": [
    "Q3 = df['volume_eth'].quantile(.75)\n",
    "Q3"
   ]
  },
  {
   "cell_type": "code",
   "execution_count": null,
   "id": "f2140816-9771-488a-9fc1-d25f85ce3243",
   "metadata": {},
   "outputs": [],
   "source": [
    "IQR = Q3 - Q1\n",
    "IQR"
   ]
  },
  {
   "cell_type": "code",
   "execution_count": null,
   "id": "af4208f8-5aaf-46ee-9a63-a8de4d64b0f7",
   "metadata": {},
   "outputs": [],
   "source": [
    "lower_bound = Q1 - 1.5 * IQR\n",
    "lower_bound"
   ]
  },
  {
   "cell_type": "code",
   "execution_count": null,
   "id": "ac44ba70-f521-48be-bcb9-d9dafb4dcd04",
   "metadata": {},
   "outputs": [],
   "source": [
    "upper_bound = Q3 + 1.5 * IQR\n",
    "upper_bound"
   ]
  },
  {
   "cell_type": "code",
   "execution_count": null,
   "id": "4ce42bff-8bba-44e7-9e2e-b6cf297d9953",
   "metadata": {},
   "outputs": [],
   "source": [
    "outliers = (df['volume_eth'] < lower_bound)  | (df['volume_eth'] > upper_bound)\n",
    "\n",
    "df_cleaned.loc[outliers, ['volume_eth']] = medians['volume_eth']\n",
    "df_cleaned['volume_eth'].describe()"
   ]
  },
  {
   "cell_type": "markdown",
   "id": "fd1c7036-a4fc-4673-84dc-072a87eea9de",
   "metadata": {},
   "source": [
    "#### For close_bnb"
   ]
  },
  {
   "cell_type": "code",
   "execution_count": null,
   "id": "5a7aac97-9699-41c1-b21b-275e3cbf82de",
   "metadata": {},
   "outputs": [],
   "source": [
    "Q1 = df['close_bnb'].quantile(.25)\n",
    "Q3 = df['close_bnb'].quantile(.75)\n",
    "IQR = Q3 - Q1\n",
    "\n",
    "lower_bound = Q1 - 1.5 * IQR\n",
    "upper_bound = Q3 + 1.5 * IQR\n",
    "\n",
    "outliers = (df['close_bnb'] < lower_bound) | (df['close_bnb'] > upper_bound)\n",
    "\n",
    "df_cleaned.loc[outliers, ['close_bnb']] = medians['close_bnb']\n",
    "\n",
    "df_cleaned['close_bnb'].describe()"
   ]
  },
  {
   "cell_type": "code",
   "execution_count": 1,
   "id": "9909630f-eb0d-43ab-8f28-8ce1c75de563",
   "metadata": {},
   "outputs": [
    {
     "name": "stdout",
     "output_type": "stream",
     "text": [
      "P(A) = 0.2413793103448276, P(B) = 0.3103448275862069, P(A и B) = 0.06896551724137931\n",
      "P(A) × P(B) = 0.07491082045184305\n",
      "События независимы\n"
     ]
    }
   ],
   "source": [
    "import pandas as pd\n",
    "df = pd.read_csv(\"crypto_market_data.csv\")\n",
    "# Определяем события\n",
    "A = df[\"close_btc\"] > 86206.417767\n",
    "B = df[\"volume_eth\"] > 18213370722.92413\n",
    "# Вычисляем вероятности\n",
    "P_A = A.mean()  # Доля строк, где A истинно\n",
    "P_B = B.mean()  # Доля строк, где B истинно\n",
    "P_A_and_B = (A & B).mean()  # Доля строк, где оба истинны\n",
    "print(f\"P(A) = {P_A}, P(B) = {P_B}, P(A и B) = {P_A_and_B}\")\n",
    "print(f\"P(A) × P(B) = {P_A * P_B}\")\n",
    "if abs(P_A_and_B - P_A * P_B) < 0.01:  # Небольшая погрешность\n",
    "    print(\"События независимы\")\n",
    "else:\n",
    "    print(\"События зависимы\")"
   ]
  },
  {
   "cell_type": "code",
   "execution_count": null,
   "id": "82d6398a-bf7e-4ef4-adca-14172c644bbd",
   "metadata": {},
   "outputs": [],
   "source": []
  },
  {
   "cell_type": "code",
   "execution_count": null,
   "id": "12bdbef7-a818-4e11-83ca-d75c76f0e84d",
   "metadata": {},
   "outputs": [],
   "source": []
  }
 ],
 "metadata": {
  "kernelspec": {
   "display_name": "LLM Environment",
   "language": "python",
   "name": "llm_env"
  },
  "language_info": {
   "codemirror_mode": {
    "name": "ipython",
    "version": 3
   },
   "file_extension": ".py",
   "mimetype": "text/x-python",
   "name": "python",
   "nbconvert_exporter": "python",
   "pygments_lexer": "ipython3",
   "version": "3.13.3"
  }
 },
 "nbformat": 4,
 "nbformat_minor": 5
}
