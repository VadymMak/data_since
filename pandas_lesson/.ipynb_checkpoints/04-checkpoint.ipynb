{
 "cells": [
  {
   "cell_type": "markdown",
   "id": "cbdddc2d-9a04-4090-85f3-55a47aa3cdf3",
   "metadata": {},
   "source": [
    "#### Day 4: Tuesday, April 29, 2025 – Cleaning Outliers in Crypto Data"
   ]
  },
  {
   "cell_type": "code",
   "execution_count": 1,
   "id": "2c09276a-beda-479d-a091-9bd79a88e8b7",
   "metadata": {},
   "outputs": [],
   "source": [
    "import pandas as pd"
   ]
  },
  {
   "cell_type": "markdown",
   "id": "c3539829-480e-4bc7-a5bc-01f7a2c57419",
   "metadata": {},
   "source": [
    "#### Detect and handle outliers in `volume_eth` (1e12 at row 10) using IQR method."
   ]
  },
  {
   "cell_type": "code",
   "execution_count": 22,
   "id": "bf5e2e92-baeb-4f04-bcc8-3301cd326eb5",
   "metadata": {},
   "outputs": [
    {
     "data": {
      "text/html": [
       "<div>\n",
       "<style scoped>\n",
       "    .dataframe tbody tr th:only-of-type {\n",
       "        vertical-align: middle;\n",
       "    }\n",
       "\n",
       "    .dataframe tbody tr th {\n",
       "        vertical-align: top;\n",
       "    }\n",
       "\n",
       "    .dataframe thead th {\n",
       "        text-align: right;\n",
       "    }\n",
       "</style>\n",
       "<table border=\"1\" class=\"dataframe\">\n",
       "  <thead>\n",
       "    <tr style=\"text-align: right;\">\n",
       "      <th></th>\n",
       "      <th>date</th>\n",
       "      <th>close_bnb</th>\n",
       "      <th>close_btc</th>\n",
       "      <th>close_eth</th>\n",
       "      <th>high_bnb</th>\n",
       "      <th>high_btc</th>\n",
       "      <th>high_eth</th>\n",
       "      <th>low_bnb</th>\n",
       "      <th>low_btc</th>\n",
       "      <th>low_eth</th>\n",
       "      <th>open_bnb</th>\n",
       "      <th>open_btc</th>\n",
       "      <th>open_eth</th>\n",
       "      <th>volume_bnb</th>\n",
       "      <th>volume_btc</th>\n",
       "      <th>volume_eth</th>\n",
       "    </tr>\n",
       "  </thead>\n",
       "  <tbody>\n",
       "    <tr>\n",
       "      <th>0</th>\n",
       "      <td>2025-03-30</td>\n",
       "      <td>601.830200</td>\n",
       "      <td>82334.523438</td>\n",
       "      <td>1806.218628</td>\n",
       "      <td>612.789368</td>\n",
       "      <td>83505.000000</td>\n",
       "      <td>1847.570557</td>\n",
       "      <td>594.214355</td>\n",
       "      <td>81573.250000</td>\n",
       "      <td>1769.412720</td>\n",
       "      <td>603.191345</td>\n",
       "      <td>82596.984375</td>\n",
       "      <td>1827.311035</td>\n",
       "      <td>1204098085</td>\n",
       "      <td>14763760943</td>\n",
       "      <td>9854857162</td>\n",
       "    </tr>\n",
       "    <tr>\n",
       "      <th>1</th>\n",
       "      <td>2025-03-31</td>\n",
       "      <td>0.000000</td>\n",
       "      <td>82548.914062</td>\n",
       "      <td>1823.479980</td>\n",
       "      <td>608.501099</td>\n",
       "      <td>83870.125000</td>\n",
       "      <td>1852.551392</td>\n",
       "      <td>588.086182</td>\n",
       "      <td>81293.890625</td>\n",
       "      <td>1778.692261</td>\n",
       "      <td>601.830200</td>\n",
       "      <td>82336.062500</td>\n",
       "      <td>1806.316528</td>\n",
       "      <td>1538796118</td>\n",
       "      <td>29004228247</td>\n",
       "      <td>15765030938</td>\n",
       "    </tr>\n",
       "    <tr>\n",
       "      <th>2</th>\n",
       "      <td>2025-04-01</td>\n",
       "      <td>611.297119</td>\n",
       "      <td>85169.171875</td>\n",
       "      <td>1905.491455</td>\n",
       "      <td>618.123779</td>\n",
       "      <td>85487.367188</td>\n",
       "      <td>1926.302979</td>\n",
       "      <td>604.754761</td>\n",
       "      <td>82429.359375</td>\n",
       "      <td>1820.350342</td>\n",
       "      <td>605.072815</td>\n",
       "      <td>82551.921875</td>\n",
       "      <td>1823.562378</td>\n",
       "      <td>2091803391</td>\n",
       "      <td>28175650319</td>\n",
       "      <td>1000000000000</td>\n",
       "    </tr>\n",
       "    <tr>\n",
       "      <th>3</th>\n",
       "      <td>2025-04-02</td>\n",
       "      <td>590.637573</td>\n",
       "      <td>NaN</td>\n",
       "      <td>1795.313232</td>\n",
       "      <td>611.518188</td>\n",
       "      <td>88466.953125</td>\n",
       "      <td>1951.180298</td>\n",
       "      <td>585.121887</td>\n",
       "      <td>82343.539062</td>\n",
       "      <td>1782.760254</td>\n",
       "      <td>611.297119</td>\n",
       "      <td>85180.609375</td>\n",
       "      <td>1905.484619</td>\n",
       "      <td>1835749587</td>\n",
       "      <td>47584398470</td>\n",
       "      <td>22593742104</td>\n",
       "    </tr>\n",
       "    <tr>\n",
       "      <th>4</th>\n",
       "      <td>2025-04-03</td>\n",
       "      <td>592.124451</td>\n",
       "      <td>NaN</td>\n",
       "      <td>1815.637207</td>\n",
       "      <td>609.344666</td>\n",
       "      <td>83909.296875</td>\n",
       "      <td>1844.071045</td>\n",
       "      <td>579.444092</td>\n",
       "      <td>81282.101562</td>\n",
       "      <td>1751.380859</td>\n",
       "      <td>590.637573</td>\n",
       "      <td>82487.476562</td>\n",
       "      <td>1794.976074</td>\n",
       "      <td>2067033502</td>\n",
       "      <td>36852112080</td>\n",
       "      <td>16450974373</td>\n",
       "    </tr>\n",
       "  </tbody>\n",
       "</table>\n",
       "</div>"
      ],
      "text/plain": [
       "         date   close_bnb     close_btc    close_eth    high_bnb  \\\n",
       "0  2025-03-30  601.830200  82334.523438  1806.218628  612.789368   \n",
       "1  2025-03-31    0.000000  82548.914062  1823.479980  608.501099   \n",
       "2  2025-04-01  611.297119  85169.171875  1905.491455  618.123779   \n",
       "3  2025-04-02  590.637573           NaN  1795.313232  611.518188   \n",
       "4  2025-04-03  592.124451           NaN  1815.637207  609.344666   \n",
       "\n",
       "       high_btc     high_eth     low_bnb       low_btc      low_eth  \\\n",
       "0  83505.000000  1847.570557  594.214355  81573.250000  1769.412720   \n",
       "1  83870.125000  1852.551392  588.086182  81293.890625  1778.692261   \n",
       "2  85487.367188  1926.302979  604.754761  82429.359375  1820.350342   \n",
       "3  88466.953125  1951.180298  585.121887  82343.539062  1782.760254   \n",
       "4  83909.296875  1844.071045  579.444092  81282.101562  1751.380859   \n",
       "\n",
       "     open_bnb      open_btc     open_eth  volume_bnb   volume_btc  \\\n",
       "0  603.191345  82596.984375  1827.311035  1204098085  14763760943   \n",
       "1  601.830200  82336.062500  1806.316528  1538796118  29004228247   \n",
       "2  605.072815  82551.921875  1823.562378  2091803391  28175650319   \n",
       "3  611.297119  85180.609375  1905.484619  1835749587  47584398470   \n",
       "4  590.637573  82487.476562  1794.976074  2067033502  36852112080   \n",
       "\n",
       "      volume_eth  \n",
       "0     9854857162  \n",
       "1    15765030938  \n",
       "2  1000000000000  \n",
       "3    22593742104  \n",
       "4    16450974373  "
      ]
     },
     "execution_count": 22,
     "metadata": {},
     "output_type": "execute_result"
    }
   ],
   "source": [
    "df_cleaned = pd.read_csv('crypto_market_data.csv')\n",
    "df_cleaned.head()"
   ]
  },
  {
   "cell_type": "markdown",
   "id": "c1c27d29-5a4b-4157-ac4e-d578a046fd57",
   "metadata": {},
   "source": [
    "#### # Detect outliers in volume_eth Метод IQR считает любое значение ниже Q1 - 1.5 * IQR потенциальным выбросом. Множитель 1.5 — это стандартное значение, используемое в методе IQR для определения порога выбросов."
   ]
  },
  {
   "cell_type": "code",
   "execution_count": 23,
   "id": "447f3c60-735e-4266-8bab-2d2a4785ce44",
   "metadata": {},
   "outputs": [
    {
     "data": {
      "text/plain": [
       "np.float64(11926379867.0)"
      ]
     },
     "execution_count": 23,
     "metadata": {},
     "output_type": "execute_result"
    }
   ],
   "source": [
    "Q1 = df_cleaned['volume_eth'].quantile(0.25)\n",
    "Q1"
   ]
  },
  {
   "cell_type": "code",
   "execution_count": 24,
   "id": "7c1333bc-6c93-4a1f-8ad9-5e309aa99d1e",
   "metadata": {},
   "outputs": [
    {
     "data": {
      "text/plain": [
       "np.float64(21379604307.0)"
      ]
     },
     "execution_count": 24,
     "metadata": {},
     "output_type": "execute_result"
    }
   ],
   "source": [
    "Q3 = df_cleaned['volume_eth'].quantile(.75)\n",
    "Q3"
   ]
  },
  {
   "cell_type": "code",
   "execution_count": 25,
   "id": "4f152952-fead-424b-9b79-135f6609436a",
   "metadata": {},
   "outputs": [
    {
     "data": {
      "text/plain": [
       "np.float64(9453224440.0)"
      ]
     },
     "execution_count": 25,
     "metadata": {},
     "output_type": "execute_result"
    }
   ],
   "source": [
    "# IQR означает межквартильный размах (Interquartile Range), который равен разнице между \n",
    "# третьим квартилем (Q3) и первым квартилем (Q1).\n",
    "\n",
    "IQR = Q3 - Q1\n",
    "IQR"
   ]
  },
  {
   "cell_type": "code",
   "execution_count": 26,
   "id": "3027ddcc-ca89-44bd-bd19-1bceda30061e",
   "metadata": {},
   "outputs": [
    {
     "data": {
      "text/plain": [
       "np.float64(-2253456793.0)"
      ]
     },
     "execution_count": 26,
     "metadata": {},
     "output_type": "execute_result"
    }
   ],
   "source": [
    "# Эта строка вычисляет нижнюю границу для определения выбросов.\n",
    "# Метод IQR считает любое значение ниже Q1 - 1.5 * IQR потенциальным выбросом\n",
    "# Множитель 1.5 — это стандартное значение, используемое в методе IQR для определения порога выбросов.\n",
    "\n",
    "lower_bound = Q1 - 1.5 * IQR\n",
    "lower_bound"
   ]
  },
  {
   "cell_type": "code",
   "execution_count": 27,
   "id": "5d42a9eb-cb69-4581-85f4-7c79d47aa41d",
   "metadata": {},
   "outputs": [
    {
     "data": {
      "text/plain": [
       "np.float64(35559440967.0)"
      ]
     },
     "execution_count": 27,
     "metadata": {},
     "output_type": "execute_result"
    }
   ],
   "source": [
    "upper_bound = Q3 + 1.5 * IQR\n",
    "upper_bound"
   ]
  },
  {
   "cell_type": "code",
   "execution_count": 28,
   "id": "3ad44544-d741-44f8-ae92-285cc33b800c",
   "metadata": {},
   "outputs": [
    {
     "name": "stdout",
     "output_type": "stream",
     "text": [
      "Outliers in volume_eth:\n",
      "           date     volume_eth\n",
      "2   2025-04-01  1000000000000\n",
      "8   2025-04-07    46073959047\n",
      "10  2025-04-09    39252195855\n"
     ]
    }
   ],
   "source": [
    "outliers = (df_cleaned[\"volume_eth\"] < lower_bound) | (df_cleaned[\"volume_eth\"] > upper_bound)\n",
    "print(\"Outliers in volume_eth:\\n\", df_cleaned[outliers][[\"date\", \"volume_eth\"]])"
   ]
  },
  {
   "cell_type": "markdown",
   "id": "714fba68-59e7-4e77-9786-5ab6effd2250",
   "metadata": {},
   "source": [
    "#### Replace with median"
   ]
  },
  {
   "cell_type": "code",
   "execution_count": 29,
   "id": "0f1d59bd-a2fd-4db5-8b12-565065a1acd4",
   "metadata": {},
   "outputs": [
    {
     "data": {
      "text/html": [
       "<div>\n",
       "<style scoped>\n",
       "    .dataframe tbody tr th:only-of-type {\n",
       "        vertical-align: middle;\n",
       "    }\n",
       "\n",
       "    .dataframe tbody tr th {\n",
       "        vertical-align: top;\n",
       "    }\n",
       "\n",
       "    .dataframe thead th {\n",
       "        text-align: right;\n",
       "    }\n",
       "</style>\n",
       "<table border=\"1\" class=\"dataframe\">\n",
       "  <thead>\n",
       "    <tr style=\"text-align: right;\">\n",
       "      <th></th>\n",
       "      <th>date</th>\n",
       "      <th>close_bnb</th>\n",
       "      <th>close_btc</th>\n",
       "      <th>close_eth</th>\n",
       "      <th>high_bnb</th>\n",
       "      <th>high_btc</th>\n",
       "      <th>high_eth</th>\n",
       "      <th>low_bnb</th>\n",
       "      <th>low_btc</th>\n",
       "      <th>low_eth</th>\n",
       "      <th>open_bnb</th>\n",
       "      <th>open_btc</th>\n",
       "      <th>open_eth</th>\n",
       "      <th>volume_bnb</th>\n",
       "      <th>volume_btc</th>\n",
       "      <th>volume_eth</th>\n",
       "    </tr>\n",
       "  </thead>\n",
       "  <tbody>\n",
       "    <tr>\n",
       "      <th>0</th>\n",
       "      <td>2025-03-30</td>\n",
       "      <td>601.830200</td>\n",
       "      <td>82334.523438</td>\n",
       "      <td>1806.218628</td>\n",
       "      <td>612.789368</td>\n",
       "      <td>83505.000000</td>\n",
       "      <td>1847.570557</td>\n",
       "      <td>594.214355</td>\n",
       "      <td>81573.250000</td>\n",
       "      <td>1769.412720</td>\n",
       "      <td>603.191345</td>\n",
       "      <td>82596.984375</td>\n",
       "      <td>1827.311035</td>\n",
       "      <td>1204098085</td>\n",
       "      <td>14763760943</td>\n",
       "      <td>9854857162</td>\n",
       "    </tr>\n",
       "    <tr>\n",
       "      <th>1</th>\n",
       "      <td>2025-03-31</td>\n",
       "      <td>0.000000</td>\n",
       "      <td>82548.914062</td>\n",
       "      <td>1823.479980</td>\n",
       "      <td>608.501099</td>\n",
       "      <td>83870.125000</td>\n",
       "      <td>1852.551392</td>\n",
       "      <td>588.086182</td>\n",
       "      <td>81293.890625</td>\n",
       "      <td>1778.692261</td>\n",
       "      <td>601.830200</td>\n",
       "      <td>82336.062500</td>\n",
       "      <td>1806.316528</td>\n",
       "      <td>1538796118</td>\n",
       "      <td>29004228247</td>\n",
       "      <td>15765030938</td>\n",
       "    </tr>\n",
       "    <tr>\n",
       "      <th>2</th>\n",
       "      <td>2025-04-01</td>\n",
       "      <td>611.297119</td>\n",
       "      <td>85169.171875</td>\n",
       "      <td>1905.491455</td>\n",
       "      <td>618.123779</td>\n",
       "      <td>85487.367188</td>\n",
       "      <td>1926.302979</td>\n",
       "      <td>604.754761</td>\n",
       "      <td>82429.359375</td>\n",
       "      <td>1820.350342</td>\n",
       "      <td>605.072815</td>\n",
       "      <td>82551.921875</td>\n",
       "      <td>1823.562378</td>\n",
       "      <td>2091803391</td>\n",
       "      <td>28175650319</td>\n",
       "      <td>1000000000000</td>\n",
       "    </tr>\n",
       "    <tr>\n",
       "      <th>3</th>\n",
       "      <td>2025-04-02</td>\n",
       "      <td>590.637573</td>\n",
       "      <td>NaN</td>\n",
       "      <td>1795.313232</td>\n",
       "      <td>611.518188</td>\n",
       "      <td>88466.953125</td>\n",
       "      <td>1951.180298</td>\n",
       "      <td>585.121887</td>\n",
       "      <td>82343.539062</td>\n",
       "      <td>1782.760254</td>\n",
       "      <td>611.297119</td>\n",
       "      <td>85180.609375</td>\n",
       "      <td>1905.484619</td>\n",
       "      <td>1835749587</td>\n",
       "      <td>47584398470</td>\n",
       "      <td>22593742104</td>\n",
       "    </tr>\n",
       "    <tr>\n",
       "      <th>4</th>\n",
       "      <td>2025-04-03</td>\n",
       "      <td>592.124451</td>\n",
       "      <td>NaN</td>\n",
       "      <td>1815.637207</td>\n",
       "      <td>609.344666</td>\n",
       "      <td>83909.296875</td>\n",
       "      <td>1844.071045</td>\n",
       "      <td>579.444092</td>\n",
       "      <td>81282.101562</td>\n",
       "      <td>1751.380859</td>\n",
       "      <td>590.637573</td>\n",
       "      <td>82487.476562</td>\n",
       "      <td>1794.976074</td>\n",
       "      <td>2067033502</td>\n",
       "      <td>36852112080</td>\n",
       "      <td>16450974373</td>\n",
       "    </tr>\n",
       "  </tbody>\n",
       "</table>\n",
       "</div>"
      ],
      "text/plain": [
       "         date   close_bnb     close_btc    close_eth    high_bnb  \\\n",
       "0  2025-03-30  601.830200  82334.523438  1806.218628  612.789368   \n",
       "1  2025-03-31    0.000000  82548.914062  1823.479980  608.501099   \n",
       "2  2025-04-01  611.297119  85169.171875  1905.491455  618.123779   \n",
       "3  2025-04-02  590.637573           NaN  1795.313232  611.518188   \n",
       "4  2025-04-03  592.124451           NaN  1815.637207  609.344666   \n",
       "\n",
       "       high_btc     high_eth     low_bnb       low_btc      low_eth  \\\n",
       "0  83505.000000  1847.570557  594.214355  81573.250000  1769.412720   \n",
       "1  83870.125000  1852.551392  588.086182  81293.890625  1778.692261   \n",
       "2  85487.367188  1926.302979  604.754761  82429.359375  1820.350342   \n",
       "3  88466.953125  1951.180298  585.121887  82343.539062  1782.760254   \n",
       "4  83909.296875  1844.071045  579.444092  81282.101562  1751.380859   \n",
       "\n",
       "     open_bnb      open_btc     open_eth  volume_bnb   volume_btc  \\\n",
       "0  603.191345  82596.984375  1827.311035  1204098085  14763760943   \n",
       "1  601.830200  82336.062500  1806.316528  1538796118  29004228247   \n",
       "2  605.072815  82551.921875  1823.562378  2091803391  28175650319   \n",
       "3  611.297119  85180.609375  1905.484619  1835749587  47584398470   \n",
       "4  590.637573  82487.476562  1794.976074  2067033502  36852112080   \n",
       "\n",
       "      volume_eth  \n",
       "0     9854857162  \n",
       "1    15765030938  \n",
       "2  1000000000000  \n",
       "3    22593742104  \n",
       "4    16450974373  "
      ]
     },
     "execution_count": 29,
     "metadata": {},
     "output_type": "execute_result"
    }
   ],
   "source": [
    "df_cleaned_replaced = df_cleaned.copy()\n",
    "df_cleaned_replaced.head()"
   ]
  },
  {
   "cell_type": "code",
   "execution_count": 34,
   "id": "0c408613-602f-4c6c-bca7-dcaeb99dc4a0",
   "metadata": {},
   "outputs": [
    {
     "name": "stdout",
     "output_type": "stream",
     "text": [
      "Volume ETH after replacing:\n",
      " count    2.900000e+01\n",
      "mean     1.507802e+10\n",
      "std      4.919518e+09\n",
      "min      6.374712e+09\n",
      "25%      1.192638e+10\n",
      "50%      1.540379e+10\n",
      "75%      1.745940e+10\n",
      "max      2.374792e+10\n",
      "Name: volume_eth, dtype: float64\n"
     ]
    }
   ],
   "source": [
    "median_volume = df_cleaned['volume_eth'].median()\n",
    "\n",
    "# This line replaces the values in the volume_eth column of df_cleaned_replaced with median_volume \n",
    "# for all rows where outliers is True.\n",
    "df_cleaned_replaced.loc[outliers, 'volume_eth'] = median_volume\n",
    "\n",
    "print(\"Volume ETH after replacing:\\n\", df_cleaned_replaced[\"volume_eth\"].describe())"
   ]
  },
  {
   "cell_type": "markdown",
   "id": "a91aa431-1007-4c16-9b2b-44aa54024896",
   "metadata": {},
   "source": [
    "#### Apply IQR method to detect outliers in `close_bnb` (0 at row 15)."
   ]
  },
  {
   "cell_type": "code",
   "execution_count": 69,
   "id": "86a42a71-fcab-4ca1-a555-03466b7218ec",
   "metadata": {},
   "outputs": [],
   "source": [
    "df = pd.read_csv('crypto_market_data.csv')\n",
    "df_cleaned = df.copy()"
   ]
  },
  {
   "cell_type": "code",
   "execution_count": 70,
   "id": "019a1782-4e09-46f7-aa62-03a78cb7bf36",
   "metadata": {},
   "outputs": [
    {
     "data": {
      "text/plain": [
       "np.float64(582.8062133789062)"
      ]
     },
     "execution_count": 70,
     "metadata": {},
     "output_type": "execute_result"
    }
   ],
   "source": [
    "Q1 = df_cleaned['close_bnb'].quantile(.25)\n",
    "Q1"
   ]
  },
  {
   "cell_type": "code",
   "execution_count": 71,
   "id": "ab15dd7c-9510-4689-8a0d-7314bdd0aec0",
   "metadata": {},
   "outputs": [
    {
     "data": {
      "text/plain": [
       "np.float64(600.1810302734375)"
      ]
     },
     "execution_count": 71,
     "metadata": {},
     "output_type": "execute_result"
    }
   ],
   "source": [
    "Q3 = df_cleaned['close_bnb'].quantile(.75)\n",
    "Q3"
   ]
  },
  {
   "cell_type": "code",
   "execution_count": 72,
   "id": "ce58d980-7224-4b45-83cc-439487256aea",
   "metadata": {},
   "outputs": [
    {
     "data": {
      "text/plain": [
       "np.float64(17.37481689453125)"
      ]
     },
     "execution_count": 72,
     "metadata": {},
     "output_type": "execute_result"
    }
   ],
   "source": [
    "IQR = Q3 - Q1\n",
    "IQR"
   ]
  },
  {
   "cell_type": "code",
   "execution_count": 73,
   "id": "826b70d8-4796-45a4-b1bb-63a67f245c7d",
   "metadata": {},
   "outputs": [
    {
     "data": {
      "text/plain": [
       "np.float64(556.7439880371094)"
      ]
     },
     "execution_count": 73,
     "metadata": {},
     "output_type": "execute_result"
    }
   ],
   "source": [
    "lower_bound = Q1 - 1.5 * IQR\n",
    "lower_bound"
   ]
  },
  {
   "cell_type": "code",
   "execution_count": 74,
   "id": "bb477cab-42ca-403b-90ec-0ee43c603980",
   "metadata": {},
   "outputs": [
    {
     "data": {
      "text/plain": [
       "np.float64(626.2432556152344)"
      ]
     },
     "execution_count": 74,
     "metadata": {},
     "output_type": "execute_result"
    }
   ],
   "source": [
    "upper_bound = Q3 + 1.5 * IQR\n",
    "upper_bound"
   ]
  },
  {
   "cell_type": "code",
   "execution_count": 75,
   "id": "47701681-0572-4c38-b8d4-b1d496894848",
   "metadata": {},
   "outputs": [
    {
     "name": "stdout",
     "output_type": "stream",
     "text": [
      "Outliers in close_bnb:\n",
      "          date   close_bnb\n",
      "1  2025-03-31    0.000000\n",
      "7  2025-04-06  554.594910\n",
      "8  2025-04-07  554.483398\n",
      "9  2025-04-08  553.467407\n"
     ]
    }
   ],
   "source": [
    "outliers = (df_cleaned['close_bnb'] < lower_bound) | (df_cleaned['close_bnb'] > upper_bound)\n",
    "print(\"Outliers in close_bnb:\\n\", df_cleaned[outliers][[\"date\", \"close_bnb\"]])"
   ]
  },
  {
   "cell_type": "markdown",
   "id": "98e8fe6e-17e4-4a7c-8234-7ecad7979dd0",
   "metadata": {},
   "source": [
    "#### Replace outliers in `close_bnb` with the mean."
   ]
  },
  {
   "cell_type": "code",
   "execution_count": 76,
   "id": "8a31605a-0132-4696-84f4-11302008144d",
   "metadata": {},
   "outputs": [
    {
     "data": {
      "text/plain": [
       "np.float64(569.8538292194235)"
      ]
     },
     "execution_count": 76,
     "metadata": {},
     "output_type": "execute_result"
    }
   ],
   "source": [
    "mean = df_cleaned['close_bnb'].mean()\n",
    "mean"
   ]
  },
  {
   "cell_type": "code",
   "execution_count": 77,
   "id": "9195d3ed-fa71-4022-b762-80055bdc90d9",
   "metadata": {},
   "outputs": [
    {
     "data": {
      "text/plain": [
       "count     29.000000\n",
       "mean     591.125195\n",
       "std       12.921551\n",
       "min      569.853829\n",
       "25%      582.806213\n",
       "50%      591.776794\n",
       "75%      600.181030\n",
       "max      618.826965\n",
       "Name: close_bnb, dtype: float64"
      ]
     },
     "execution_count": 77,
     "metadata": {},
     "output_type": "execute_result"
    }
   ],
   "source": [
    "df_cleaned.loc[outliers, ['close_bnb']] = mean\n",
    "df_cleaned['close_bnb'].describe()"
   ]
  },
  {
   "cell_type": "markdown",
   "id": "41351c75-ca2e-40b5-b813-6ef0d02d1a51",
   "metadata": {},
   "source": [
    "#### Compare standard deviation of `volume_eth` before and after outlier removal."
   ]
  },
  {
   "cell_type": "code",
   "execution_count": 78,
   "id": "28d7e00f-1d9b-475d-ba45-c68ead59bbdf",
   "metadata": {},
   "outputs": [
    {
     "data": {
      "text/plain": [
       "count     29.000000\n",
       "mean     569.853829\n",
       "std      110.722902\n",
       "min        0.000000\n",
       "25%      582.806213\n",
       "50%      591.776794\n",
       "75%      600.181030\n",
       "max      618.826965\n",
       "Name: close_bnb, dtype: float64"
      ]
     },
     "execution_count": 78,
     "metadata": {},
     "output_type": "execute_result"
    }
   ],
   "source": [
    "df['close_bnb'].describe()"
   ]
  },
  {
   "cell_type": "markdown",
   "id": "336663c7-5dd1-450b-849d-8337ddc40f07",
   "metadata": {},
   "source": [
    "#### Mini-Project**: Create a DataFrame with no outliers in `volume_eth` and `close_bnb`, save to `crypto_cleaned.csv`."
   ]
  },
  {
   "cell_type": "code",
   "execution_count": 94,
   "id": "0d8797aa-b88e-4e87-9561-7b63f27b9d27",
   "metadata": {},
   "outputs": [
    {
     "data": {
      "text/html": [
       "<div>\n",
       "<style scoped>\n",
       "    .dataframe tbody tr th:only-of-type {\n",
       "        vertical-align: middle;\n",
       "    }\n",
       "\n",
       "    .dataframe tbody tr th {\n",
       "        vertical-align: top;\n",
       "    }\n",
       "\n",
       "    .dataframe thead th {\n",
       "        text-align: right;\n",
       "    }\n",
       "</style>\n",
       "<table border=\"1\" class=\"dataframe\">\n",
       "  <thead>\n",
       "    <tr style=\"text-align: right;\">\n",
       "      <th></th>\n",
       "      <th>date</th>\n",
       "      <th>close_bnb</th>\n",
       "      <th>close_btc</th>\n",
       "      <th>close_eth</th>\n",
       "      <th>high_bnb</th>\n",
       "      <th>high_btc</th>\n",
       "      <th>high_eth</th>\n",
       "      <th>low_bnb</th>\n",
       "      <th>low_btc</th>\n",
       "      <th>low_eth</th>\n",
       "      <th>open_bnb</th>\n",
       "      <th>open_btc</th>\n",
       "      <th>open_eth</th>\n",
       "      <th>volume_bnb</th>\n",
       "      <th>volume_btc</th>\n",
       "      <th>volume_eth</th>\n",
       "    </tr>\n",
       "  </thead>\n",
       "  <tbody>\n",
       "    <tr>\n",
       "      <th>0</th>\n",
       "      <td>2025-03-30</td>\n",
       "      <td>601.830200</td>\n",
       "      <td>82334.523438</td>\n",
       "      <td>1806.218628</td>\n",
       "      <td>612.789368</td>\n",
       "      <td>83505.000000</td>\n",
       "      <td>1847.570557</td>\n",
       "      <td>594.214355</td>\n",
       "      <td>81573.250000</td>\n",
       "      <td>1769.412720</td>\n",
       "      <td>603.191345</td>\n",
       "      <td>82596.984375</td>\n",
       "      <td>1827.311035</td>\n",
       "      <td>1204098085</td>\n",
       "      <td>14763760943</td>\n",
       "      <td>9854857162</td>\n",
       "    </tr>\n",
       "    <tr>\n",
       "      <th>1</th>\n",
       "      <td>2025-03-31</td>\n",
       "      <td>0.000000</td>\n",
       "      <td>82548.914062</td>\n",
       "      <td>1823.479980</td>\n",
       "      <td>608.501099</td>\n",
       "      <td>83870.125000</td>\n",
       "      <td>1852.551392</td>\n",
       "      <td>588.086182</td>\n",
       "      <td>81293.890625</td>\n",
       "      <td>1778.692261</td>\n",
       "      <td>601.830200</td>\n",
       "      <td>82336.062500</td>\n",
       "      <td>1806.316528</td>\n",
       "      <td>1538796118</td>\n",
       "      <td>29004228247</td>\n",
       "      <td>15765030938</td>\n",
       "    </tr>\n",
       "    <tr>\n",
       "      <th>2</th>\n",
       "      <td>2025-04-01</td>\n",
       "      <td>611.297119</td>\n",
       "      <td>85169.171875</td>\n",
       "      <td>1905.491455</td>\n",
       "      <td>618.123779</td>\n",
       "      <td>85487.367188</td>\n",
       "      <td>1926.302979</td>\n",
       "      <td>604.754761</td>\n",
       "      <td>82429.359375</td>\n",
       "      <td>1820.350342</td>\n",
       "      <td>605.072815</td>\n",
       "      <td>82551.921875</td>\n",
       "      <td>1823.562378</td>\n",
       "      <td>2091803391</td>\n",
       "      <td>28175650319</td>\n",
       "      <td>1000000000000</td>\n",
       "    </tr>\n",
       "    <tr>\n",
       "      <th>3</th>\n",
       "      <td>2025-04-02</td>\n",
       "      <td>590.637573</td>\n",
       "      <td>NaN</td>\n",
       "      <td>1795.313232</td>\n",
       "      <td>611.518188</td>\n",
       "      <td>88466.953125</td>\n",
       "      <td>1951.180298</td>\n",
       "      <td>585.121887</td>\n",
       "      <td>82343.539062</td>\n",
       "      <td>1782.760254</td>\n",
       "      <td>611.297119</td>\n",
       "      <td>85180.609375</td>\n",
       "      <td>1905.484619</td>\n",
       "      <td>1835749587</td>\n",
       "      <td>47584398470</td>\n",
       "      <td>22593742104</td>\n",
       "    </tr>\n",
       "    <tr>\n",
       "      <th>4</th>\n",
       "      <td>2025-04-03</td>\n",
       "      <td>592.124451</td>\n",
       "      <td>NaN</td>\n",
       "      <td>1815.637207</td>\n",
       "      <td>609.344666</td>\n",
       "      <td>83909.296875</td>\n",
       "      <td>1844.071045</td>\n",
       "      <td>579.444092</td>\n",
       "      <td>81282.101562</td>\n",
       "      <td>1751.380859</td>\n",
       "      <td>590.637573</td>\n",
       "      <td>82487.476562</td>\n",
       "      <td>1794.976074</td>\n",
       "      <td>2067033502</td>\n",
       "      <td>36852112080</td>\n",
       "      <td>16450974373</td>\n",
       "    </tr>\n",
       "  </tbody>\n",
       "</table>\n",
       "</div>"
      ],
      "text/plain": [
       "         date   close_bnb     close_btc    close_eth    high_bnb  \\\n",
       "0  2025-03-30  601.830200  82334.523438  1806.218628  612.789368   \n",
       "1  2025-03-31    0.000000  82548.914062  1823.479980  608.501099   \n",
       "2  2025-04-01  611.297119  85169.171875  1905.491455  618.123779   \n",
       "3  2025-04-02  590.637573           NaN  1795.313232  611.518188   \n",
       "4  2025-04-03  592.124451           NaN  1815.637207  609.344666   \n",
       "\n",
       "       high_btc     high_eth     low_bnb       low_btc      low_eth  \\\n",
       "0  83505.000000  1847.570557  594.214355  81573.250000  1769.412720   \n",
       "1  83870.125000  1852.551392  588.086182  81293.890625  1778.692261   \n",
       "2  85487.367188  1926.302979  604.754761  82429.359375  1820.350342   \n",
       "3  88466.953125  1951.180298  585.121887  82343.539062  1782.760254   \n",
       "4  83909.296875  1844.071045  579.444092  81282.101562  1751.380859   \n",
       "\n",
       "     open_bnb      open_btc     open_eth  volume_bnb   volume_btc  \\\n",
       "0  603.191345  82596.984375  1827.311035  1204098085  14763760943   \n",
       "1  601.830200  82336.062500  1806.316528  1538796118  29004228247   \n",
       "2  605.072815  82551.921875  1823.562378  2091803391  28175650319   \n",
       "3  611.297119  85180.609375  1905.484619  1835749587  47584398470   \n",
       "4  590.637573  82487.476562  1794.976074  2067033502  36852112080   \n",
       "\n",
       "      volume_eth  \n",
       "0     9854857162  \n",
       "1    15765030938  \n",
       "2  1000000000000  \n",
       "3    22593742104  \n",
       "4    16450974373  "
      ]
     },
     "execution_count": 94,
     "metadata": {},
     "output_type": "execute_result"
    }
   ],
   "source": [
    "df = pd.read_csv('crypto_market_data.csv')\n",
    "df.head()"
   ]
  },
  {
   "cell_type": "code",
   "execution_count": 95,
   "id": "36d6a7ac-9ca1-475e-b12f-281d9347fb89",
   "metadata": {},
   "outputs": [
    {
     "data": {
      "text/html": [
       "<div>\n",
       "<style scoped>\n",
       "    .dataframe tbody tr th:only-of-type {\n",
       "        vertical-align: middle;\n",
       "    }\n",
       "\n",
       "    .dataframe tbody tr th {\n",
       "        vertical-align: top;\n",
       "    }\n",
       "\n",
       "    .dataframe thead th {\n",
       "        text-align: right;\n",
       "    }\n",
       "</style>\n",
       "<table border=\"1\" class=\"dataframe\">\n",
       "  <thead>\n",
       "    <tr style=\"text-align: right;\">\n",
       "      <th></th>\n",
       "      <th>date</th>\n",
       "      <th>close_bnb</th>\n",
       "      <th>close_btc</th>\n",
       "      <th>close_eth</th>\n",
       "      <th>high_bnb</th>\n",
       "      <th>high_btc</th>\n",
       "      <th>high_eth</th>\n",
       "      <th>low_bnb</th>\n",
       "      <th>low_btc</th>\n",
       "      <th>low_eth</th>\n",
       "      <th>open_bnb</th>\n",
       "      <th>open_btc</th>\n",
       "      <th>open_eth</th>\n",
       "      <th>volume_bnb</th>\n",
       "      <th>volume_btc</th>\n",
       "      <th>volume_eth</th>\n",
       "    </tr>\n",
       "  </thead>\n",
       "  <tbody>\n",
       "    <tr>\n",
       "      <th>0</th>\n",
       "      <td>2025-03-30</td>\n",
       "      <td>601.830200</td>\n",
       "      <td>82334.523438</td>\n",
       "      <td>1806.218628</td>\n",
       "      <td>612.789368</td>\n",
       "      <td>83505.000000</td>\n",
       "      <td>1847.570557</td>\n",
       "      <td>594.214355</td>\n",
       "      <td>81573.250000</td>\n",
       "      <td>1769.412720</td>\n",
       "      <td>603.191345</td>\n",
       "      <td>82596.984375</td>\n",
       "      <td>1827.311035</td>\n",
       "      <td>1204098085</td>\n",
       "      <td>14763760943</td>\n",
       "      <td>9854857162</td>\n",
       "    </tr>\n",
       "    <tr>\n",
       "      <th>1</th>\n",
       "      <td>2025-03-31</td>\n",
       "      <td>0.000000</td>\n",
       "      <td>82548.914062</td>\n",
       "      <td>1823.479980</td>\n",
       "      <td>608.501099</td>\n",
       "      <td>83870.125000</td>\n",
       "      <td>1852.551392</td>\n",
       "      <td>588.086182</td>\n",
       "      <td>81293.890625</td>\n",
       "      <td>1778.692261</td>\n",
       "      <td>601.830200</td>\n",
       "      <td>82336.062500</td>\n",
       "      <td>1806.316528</td>\n",
       "      <td>1538796118</td>\n",
       "      <td>29004228247</td>\n",
       "      <td>15765030938</td>\n",
       "    </tr>\n",
       "    <tr>\n",
       "      <th>2</th>\n",
       "      <td>2025-04-01</td>\n",
       "      <td>611.297119</td>\n",
       "      <td>85169.171875</td>\n",
       "      <td>1905.491455</td>\n",
       "      <td>618.123779</td>\n",
       "      <td>85487.367188</td>\n",
       "      <td>1926.302979</td>\n",
       "      <td>604.754761</td>\n",
       "      <td>82429.359375</td>\n",
       "      <td>1820.350342</td>\n",
       "      <td>605.072815</td>\n",
       "      <td>82551.921875</td>\n",
       "      <td>1823.562378</td>\n",
       "      <td>2091803391</td>\n",
       "      <td>28175650319</td>\n",
       "      <td>1000000000000</td>\n",
       "    </tr>\n",
       "    <tr>\n",
       "      <th>3</th>\n",
       "      <td>2025-04-02</td>\n",
       "      <td>590.637573</td>\n",
       "      <td>NaN</td>\n",
       "      <td>1795.313232</td>\n",
       "      <td>611.518188</td>\n",
       "      <td>88466.953125</td>\n",
       "      <td>1951.180298</td>\n",
       "      <td>585.121887</td>\n",
       "      <td>82343.539062</td>\n",
       "      <td>1782.760254</td>\n",
       "      <td>611.297119</td>\n",
       "      <td>85180.609375</td>\n",
       "      <td>1905.484619</td>\n",
       "      <td>1835749587</td>\n",
       "      <td>47584398470</td>\n",
       "      <td>22593742104</td>\n",
       "    </tr>\n",
       "    <tr>\n",
       "      <th>4</th>\n",
       "      <td>2025-04-03</td>\n",
       "      <td>592.124451</td>\n",
       "      <td>NaN</td>\n",
       "      <td>1815.637207</td>\n",
       "      <td>609.344666</td>\n",
       "      <td>83909.296875</td>\n",
       "      <td>1844.071045</td>\n",
       "      <td>579.444092</td>\n",
       "      <td>81282.101562</td>\n",
       "      <td>1751.380859</td>\n",
       "      <td>590.637573</td>\n",
       "      <td>82487.476562</td>\n",
       "      <td>1794.976074</td>\n",
       "      <td>2067033502</td>\n",
       "      <td>36852112080</td>\n",
       "      <td>16450974373</td>\n",
       "    </tr>\n",
       "  </tbody>\n",
       "</table>\n",
       "</div>"
      ],
      "text/plain": [
       "         date   close_bnb     close_btc    close_eth    high_bnb  \\\n",
       "0  2025-03-30  601.830200  82334.523438  1806.218628  612.789368   \n",
       "1  2025-03-31    0.000000  82548.914062  1823.479980  608.501099   \n",
       "2  2025-04-01  611.297119  85169.171875  1905.491455  618.123779   \n",
       "3  2025-04-02  590.637573           NaN  1795.313232  611.518188   \n",
       "4  2025-04-03  592.124451           NaN  1815.637207  609.344666   \n",
       "\n",
       "       high_btc     high_eth     low_bnb       low_btc      low_eth  \\\n",
       "0  83505.000000  1847.570557  594.214355  81573.250000  1769.412720   \n",
       "1  83870.125000  1852.551392  588.086182  81293.890625  1778.692261   \n",
       "2  85487.367188  1926.302979  604.754761  82429.359375  1820.350342   \n",
       "3  88466.953125  1951.180298  585.121887  82343.539062  1782.760254   \n",
       "4  83909.296875  1844.071045  579.444092  81282.101562  1751.380859   \n",
       "\n",
       "     open_bnb      open_btc     open_eth  volume_bnb   volume_btc  \\\n",
       "0  603.191345  82596.984375  1827.311035  1204098085  14763760943   \n",
       "1  601.830200  82336.062500  1806.316528  1538796118  29004228247   \n",
       "2  605.072815  82551.921875  1823.562378  2091803391  28175650319   \n",
       "3  611.297119  85180.609375  1905.484619  1835749587  47584398470   \n",
       "4  590.637573  82487.476562  1794.976074  2067033502  36852112080   \n",
       "\n",
       "      volume_eth  \n",
       "0     9854857162  \n",
       "1    15765030938  \n",
       "2  1000000000000  \n",
       "3    22593742104  \n",
       "4    16450974373  "
      ]
     },
     "execution_count": 95,
     "metadata": {},
     "output_type": "execute_result"
    }
   ],
   "source": [
    "df_cleaned = df.copy()\n",
    "df_cleaned.head()"
   ]
  },
  {
   "cell_type": "code",
   "execution_count": 96,
   "id": "55a1201f-6893-496f-b337-bd02489b8c41",
   "metadata": {},
   "outputs": [
    {
     "data": {
      "text/plain": [
       "np.float64(15403785611.0)"
      ]
     },
     "execution_count": 96,
     "metadata": {},
     "output_type": "execute_result"
    }
   ],
   "source": [
    "medians = df_cleaned[['volume_eth', 'close_bnb']].median()\n",
    "medians['volume_eth']"
   ]
  },
  {
   "cell_type": "markdown",
   "id": "99bf91c4-a865-46c1-848c-2d797d0a88d3",
   "metadata": {},
   "source": [
    "#### For volume_eth"
   ]
  },
  {
   "cell_type": "code",
   "execution_count": 98,
   "id": "ddf482db-dbb4-423d-8544-f7a1b88be8ce",
   "metadata": {},
   "outputs": [
    {
     "data": {
      "text/plain": [
       "np.float64(11926379867.0)"
      ]
     },
     "execution_count": 98,
     "metadata": {},
     "output_type": "execute_result"
    }
   ],
   "source": [
    "Q1 = df['volume_eth'].quantile(.25)\n",
    "Q1"
   ]
  },
  {
   "cell_type": "code",
   "execution_count": 99,
   "id": "ad5f5e01-c326-4aaf-9fa4-69cd65b91671",
   "metadata": {},
   "outputs": [
    {
     "data": {
      "text/plain": [
       "np.float64(21379604307.0)"
      ]
     },
     "execution_count": 99,
     "metadata": {},
     "output_type": "execute_result"
    }
   ],
   "source": [
    "Q3 = df['volume_eth'].quantile(.75)\n",
    "Q3"
   ]
  },
  {
   "cell_type": "code",
   "execution_count": 100,
   "id": "f2140816-9771-488a-9fc1-d25f85ce3243",
   "metadata": {},
   "outputs": [
    {
     "data": {
      "text/plain": [
       "np.float64(9453224440.0)"
      ]
     },
     "execution_count": 100,
     "metadata": {},
     "output_type": "execute_result"
    }
   ],
   "source": [
    "IQR = Q3 - Q1\n",
    "IQR"
   ]
  },
  {
   "cell_type": "code",
   "execution_count": 101,
   "id": "af4208f8-5aaf-46ee-9a63-a8de4d64b0f7",
   "metadata": {},
   "outputs": [
    {
     "data": {
      "text/plain": [
       "np.float64(-2253456793.0)"
      ]
     },
     "execution_count": 101,
     "metadata": {},
     "output_type": "execute_result"
    }
   ],
   "source": [
    "lower_bound = Q1 - 1.5 * IQR\n",
    "lower_bound"
   ]
  },
  {
   "cell_type": "code",
   "execution_count": 102,
   "id": "ac44ba70-f521-48be-bcb9-d9dafb4dcd04",
   "metadata": {},
   "outputs": [
    {
     "data": {
      "text/plain": [
       "np.float64(35559440967.0)"
      ]
     },
     "execution_count": 102,
     "metadata": {},
     "output_type": "execute_result"
    }
   ],
   "source": [
    "upper_bound = Q3 + 1.5 * IQR\n",
    "upper_bound"
   ]
  },
  {
   "cell_type": "code",
   "execution_count": 103,
   "id": "4ce42bff-8bba-44e7-9e2e-b6cf297d9953",
   "metadata": {},
   "outputs": [
    {
     "data": {
      "text/plain": [
       "count    2.900000e+01\n",
       "mean     1.507802e+10\n",
       "std      4.919518e+09\n",
       "min      6.374712e+09\n",
       "25%      1.192638e+10\n",
       "50%      1.540379e+10\n",
       "75%      1.745940e+10\n",
       "max      2.374792e+10\n",
       "Name: volume_eth, dtype: float64"
      ]
     },
     "execution_count": 103,
     "metadata": {},
     "output_type": "execute_result"
    }
   ],
   "source": [
    "outliers = (df['volume_eth'] < lower_bound)  | (df['volume_eth'] > upper_bound)\n",
    "\n",
    "df_cleaned.loc[outliers, ['volume_eth']] = medians['volume_eth']\n",
    "df_cleaned['volume_eth'].describe()"
   ]
  },
  {
   "cell_type": "markdown",
   "id": "fd1c7036-a4fc-4673-84dc-072a87eea9de",
   "metadata": {},
   "source": [
    "#### For close_bnb"
   ]
  },
  {
   "cell_type": "code",
   "execution_count": 107,
   "id": "5a7aac97-9699-41c1-b21b-275e3cbf82de",
   "metadata": {},
   "outputs": [
    {
     "data": {
      "text/plain": [
       "count     29.000000\n",
       "mean     594.149052\n",
       "std        9.639406\n",
       "min      577.405945\n",
       "25%      590.162170\n",
       "50%      591.776794\n",
       "75%      600.181030\n",
       "max      618.826965\n",
       "Name: close_bnb, dtype: float64"
      ]
     },
     "execution_count": 107,
     "metadata": {},
     "output_type": "execute_result"
    }
   ],
   "source": [
    "Q1 = df['close_bnb'].quantile(.25)\n",
    "Q3 = df['close_bnb'].quantile(.75)\n",
    "IQR = Q3 - Q1\n",
    "\n",
    "lower_bound = Q1 - 1.5 * IQR\n",
    "upper_bound = Q3 + 1.5 * IQR\n",
    "\n",
    "outliers = (df['close_bnb'] < lower_bound) | (df['close_bnb'] > upper_bound)\n",
    "\n",
    "df_cleaned.loc[outliers, ['close_bnb']] = medians['close_bnb']\n",
    "\n",
    "df_cleaned['close_bnb'].describe()"
   ]
  },
  {
   "cell_type": "code",
   "execution_count": null,
   "id": "0d5e33ca-d288-4a99-be73-8e4cd05fe5b8",
   "metadata": {},
   "outputs": [],
   "source": []
  }
 ],
 "metadata": {
  "kernelspec": {
   "display_name": "LLM Environment",
   "language": "python",
   "name": "llm_env"
  },
  "language_info": {
   "codemirror_mode": {
    "name": "ipython",
    "version": 3
   },
   "file_extension": ".py",
   "mimetype": "text/x-python",
   "name": "python",
   "nbconvert_exporter": "python",
   "pygments_lexer": "ipython3",
   "version": "3.13.3"
  }
 },
 "nbformat": 4,
 "nbformat_minor": 5
}
