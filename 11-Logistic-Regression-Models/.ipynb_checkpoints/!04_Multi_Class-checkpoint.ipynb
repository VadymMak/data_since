{
 "cells": [
  {
   "cell_type": "code",
   "execution_count": null,
   "id": "957b22e6-a802-4e22-91d4-05da4cbe2296",
   "metadata": {},
   "outputs": [],
   "source": [
    "import pandas as pd\n",
    "import numpy as np\n",
    "import matplotlib.pyplot as plt\n",
    "import seaborn as sns"
   ]
  },
  {
   "cell_type": "code",
   "execution_count": null,
   "id": "65d246fc-ae68-4648-88d5-dad61d638c98",
   "metadata": {},
   "outputs": [],
   "source": [
    "df = pd.read_csv('../DATA/iris.csv')\n",
    "df.head(3)"
   ]
  },
  {
   "cell_type": "code",
   "execution_count": null,
   "id": "b4ef74e7-ca25-4c00-9671-30a9b619b032",
   "metadata": {},
   "outputs": [],
   "source": [
    "df.info()"
   ]
  },
  {
   "cell_type": "code",
   "execution_count": null,
   "id": "0726606b-7aef-42b8-90b5-52e8a0098a54",
   "metadata": {},
   "outputs": [],
   "source": [
    "df.describe()"
   ]
  },
  {
   "cell_type": "code",
   "execution_count": null,
   "id": "3f150c07-1be5-4f63-9c78-ad98b088566f",
   "metadata": {},
   "outputs": [],
   "source": [
    "df['species'].value_counts()"
   ]
  },
  {
   "cell_type": "code",
   "execution_count": null,
   "id": "2c00f0d7-5779-476c-892f-4e0046e7ecd0",
   "metadata": {},
   "outputs": [],
   "source": [
    "sns.countplot(x='species', data=df)"
   ]
  },
  {
   "cell_type": "code",
   "execution_count": null,
   "id": "a5bca626-6fbd-4454-a584-dd4255cf4747",
   "metadata": {},
   "outputs": [],
   "source": [
    "sns.scatterplot(x='petal_length', y='petal_width', data=df, hue='species')"
   ]
  },
  {
   "cell_type": "code",
   "execution_count": null,
   "id": "e58e37cb-e155-4f64-9215-15338cfe881f",
   "metadata": {},
   "outputs": [],
   "source": [
    "sns.pairplot(df, hue='species')"
   ]
  },
  {
   "cell_type": "code",
   "execution_count": null,
   "id": "17b10524-3f45-4297-bee1-1eeff1fe8c28",
   "metadata": {},
   "outputs": [],
   "source": [
    "sns.heatmap(df.drop('species', axis=1).corr(), annot=True)"
   ]
  },
  {
   "cell_type": "code",
   "execution_count": null,
   "id": "e08a9e51-3d01-4910-b3e6-6527256d29f0",
   "metadata": {},
   "outputs": [],
   "source": [
    "X = df.drop('species', axis=1)\n",
    "y = df['species']"
   ]
  },
  {
   "cell_type": "code",
   "execution_count": null,
   "id": "8295ef1b-0a1d-40f4-8772-9dfdb64abdd6",
   "metadata": {},
   "outputs": [],
   "source": [
    "from sklearn.model_selection import train_test_split"
   ]
  },
  {
   "cell_type": "code",
   "execution_count": null,
   "id": "cf90071d-64ca-4ded-840f-9d58985bdf70",
   "metadata": {},
   "outputs": [],
   "source": [
    "X_train, X_test, y_train, y_test = train_test_split(X, y, test_size=0.25, random_state=101)"
   ]
  },
  {
   "cell_type": "code",
   "execution_count": null,
   "id": "4cd8f852-a48d-4d95-b0db-b2fd40b764df",
   "metadata": {},
   "outputs": [],
   "source": [
    "from sklearn.preprocessing import StandardScaler"
   ]
  },
  {
   "cell_type": "code",
   "execution_count": null,
   "id": "9d6a5db1-5047-48b1-9a78-bf683bd5c4ef",
   "metadata": {},
   "outputs": [],
   "source": [
    "scaler = StandardScaler()\n",
    "X_train = scaler.fit_transform(X_train)\n",
    "X_test = scaler.transform(X_test)"
   ]
  },
  {
   "cell_type": "code",
   "execution_count": null,
   "id": "37faba0b-5de3-476a-abf0-069992c4112f",
   "metadata": {},
   "outputs": [],
   "source": [
    "from sklearn.linear_model import LogisticRegression"
   ]
  },
  {
   "cell_type": "code",
   "execution_count": null,
   "id": "8e7eec9b-1722-4184-a5aa-731470dd505a",
   "metadata": {},
   "outputs": [],
   "source": [
    "log_model = LogisticRegression(solver='saga', max_iter=5000)"
   ]
  },
  {
   "cell_type": "code",
   "execution_count": null,
   "id": "96c1846d-7708-4483-90f8-c299e85a97ad",
   "metadata": {},
   "outputs": [],
   "source": [
    "# Настраиваем param_grid\n",
    "penalty = ['l1', 'l2', 'elasticnet']\n",
    "l1_ratio = np.linspace(0, 1, 20)\n",
    "C = np.logspace(0, 10, 20)\n",
    "param_grid = [\n",
    "    {'estimator__penalty': ['l1'], 'estimator__C': C},  # Для l1\n",
    "    {'estimator__penalty': ['l2'], 'estimator__C': C},  # Для l2\n",
    "    {'estimator__penalty': ['elasticnet'], 'estimator__C': C, 'estimator__l1_ratio': l1_ratio}  # Для elasticnet\n",
    "]"
   ]
  },
  {
   "cell_type": "code",
   "execution_count": null,
   "id": "6c3bd94e-a0e3-4a7f-b6c2-bdfb77dda59b",
   "metadata": {},
   "outputs": [],
   "source": [
    "from sklearn.model_selection import GridSearchCV\n",
    "from sklearn.multiclass import OneVsRestClassifier"
   ]
  },
  {
   "cell_type": "code",
   "execution_count": null,
   "id": "83d6a7f3-4b69-4ce9-851f-ca7178e561ed",
   "metadata": {},
   "outputs": [],
   "source": [
    "# Оборачиваем в OneVsRestClassifier\n",
    "model = GridSearchCV(estimator=OneVsRestClassifier(log_model), param_grid=param_grid, cv=5)"
   ]
  },
  {
   "cell_type": "code",
   "execution_count": null,
   "id": "d31691d2-6318-4adb-ab3d-7fb8cc8667a1",
   "metadata": {},
   "outputs": [],
   "source": [
    "model.fit(X_train, y_train)"
   ]
  },
  {
   "cell_type": "code",
   "execution_count": null,
   "id": "dce08b99-eff5-4ec3-bbea-cec7277abcb2",
   "metadata": {},
   "outputs": [],
   "source": [
    "# Вывод лучших параметров\n",
    "print(\"Лучшие параметры:\", model.best_params_)"
   ]
  },
  {
   "cell_type": "code",
   "execution_count": null,
   "id": "67c32a8b-07d2-44b5-8bbd-e7d7f964af0c",
   "metadata": {},
   "outputs": [],
   "source": [
    "from sklearn.metrics import accuracy_score, confusion_matrix, classification_report, ConfusionMatrixDisplay"
   ]
  },
  {
   "cell_type": "code",
   "execution_count": null,
   "id": "8c6db3c3-8a99-4d8b-b9e3-26ea3dde4d8e",
   "metadata": {},
   "outputs": [],
   "source": [
    "y_predicted = model.predict(X_test)"
   ]
  },
  {
   "cell_type": "code",
   "execution_count": null,
   "id": "056983cd-1029-4637-b5f6-625a3a61d1a4",
   "metadata": {},
   "outputs": [],
   "source": [
    "y_predicted"
   ]
  },
  {
   "cell_type": "code",
   "execution_count": null,
   "id": "1782c14f-1390-4b5a-a4a7-2c0b85473e5c",
   "metadata": {},
   "outputs": [],
   "source": [
    "cm = confusion_matrix(y_test, y_predicted)\n",
    "cm"
   ]
  },
  {
   "cell_type": "code",
   "execution_count": null,
   "id": "aee6b317-bf0f-45b1-a2b6-da938920de1d",
   "metadata": {},
   "outputs": [],
   "source": [
    "accuracy_score(y_test, y_predicted)"
   ]
  },
  {
   "cell_type": "code",
   "execution_count": null,
   "id": "b984924d-da60-4c07-a750-7f570b5b100d",
   "metadata": {},
   "outputs": [],
   "source": [
    "disp = ConfusionMatrixDisplay(confusion_matrix=cm, display_labels=['setosa', 'versicolor', 'virginica'])\n",
    "disp.plot(cmap='Blues')\n",
    "plt.title('Confusion Matrix')\n",
    "\n",
    "plt.show()"
   ]
  },
  {
   "cell_type": "code",
   "execution_count": null,
   "id": "6a0f3aeb-16cb-4cfa-8650-027382e83684",
   "metadata": {},
   "outputs": [],
   "source": [
    "print(classification_report(y_test, y_predicted))"
   ]
  },
  {
   "cell_type": "code",
   "execution_count": null,
   "id": "f86ed6f6-e535-49d6-b443-5ae51ecaf122",
   "metadata": {},
   "outputs": [],
   "source": [
    "from sklearn.metrics import roc_curve, auc"
   ]
  },
  {
   "cell_type": "code",
   "execution_count": null,
   "id": "0ccb0d36-0cf2-4361-970b-2d0b33328dc4",
   "metadata": {},
   "outputs": [],
   "source": [
    "def plot_multiclass_roc(clf, X_test, y_test, n_classes, class_labels=None, figsize=(5, 5)):\n",
    "    # Получение оценок\n",
    "    y_score = clf.decision_function(X_test)\n",
    "\n",
    "    # Проверка данных\n",
    "    print(\"Unique labels in y_test:\", np.unique(y_test))\n",
    "    print(\"Shape of y_score:\", y_score.shape)\n",
    "\n",
    "    # Бинаризация меток\n",
    "    y_test_dummies = pd.get_dummies(y_test, drop_first=False).values\n",
    "    if y_test_dummies.shape[1] != n_classes:\n",
    "        raise ValueError(f\"Expected {n_classes} classes, but got {y_test_dummies.shape[1]}\")\n",
    "\n",
    "    # Пустые структуры\n",
    "    fpr = dict()\n",
    "    tpr = dict()\n",
    "    roc_auc = dict()\n",
    "\n",
    "    # Расчёт ROC и AUC\n",
    "    for i in range(n_classes):\n",
    "        fpr[i], tpr[i], _ = roc_curve(y_test_dummies[:, i], y_score[:, i])\n",
    "        roc_auc[i] = auc(fpr[i], tpr[i])\n",
    "\n",
    "    # Построение графика\n",
    "    fig, ax = plt.subplots(figsize=figsize)\n",
    "    ax.plot([0, 1], [0, 1], 'k--', label='Random Classifier', linewidth=2)\n",
    "    for i in range(n_classes):\n",
    "        label = class_labels[i] if class_labels else i\n",
    "        ax.plot(fpr[i], tpr[i], label=f'ROC curve (area = {roc_auc[i]:.2f}) for {label}')\n",
    "    ax.set_xlim([0.0, 1.0])\n",
    "    ax.set_ylim([0.0, 1.05])\n",
    "    ax.set_xlabel('False Positive Rate')\n",
    "    ax.set_ylabel('True Positive Rate')\n",
    "    ax.set_title('ROC Curves for Multiclass')\n",
    "    ax.legend(loc='lower right')\n",
    "    ax.grid(alpha=0.4)\n",
    "    plt.show()"
   ]
  },
  {
   "cell_type": "code",
   "execution_count": null,
   "id": "bf7f8947-da24-4111-8b2e-a4ad163ef3d8",
   "metadata": {},
   "outputs": [],
   "source": [
    "# Построение ROC\n",
    "plot_multiclass_roc(model, X_test, y_test, n_classes=3, class_labels=[-1, 0, 1])"
   ]
  },
  {
   "cell_type": "code",
   "execution_count": null,
   "id": "d8941a57-8961-486d-849e-15eb159b7e9c",
   "metadata": {},
   "outputs": [],
   "source": []
  }
 ],
 "metadata": {
  "kernelspec": {
   "display_name": "LLM Environment",
   "language": "python",
   "name": "llm_env"
  },
  "language_info": {
   "codemirror_mode": {
    "name": "ipython",
    "version": 3
   },
   "file_extension": ".py",
   "mimetype": "text/x-python",
   "name": "python",
   "nbconvert_exporter": "python",
   "pygments_lexer": "ipython3",
   "version": "3.13.3"
  }
 },
 "nbformat": 4,
 "nbformat_minor": 5
}
