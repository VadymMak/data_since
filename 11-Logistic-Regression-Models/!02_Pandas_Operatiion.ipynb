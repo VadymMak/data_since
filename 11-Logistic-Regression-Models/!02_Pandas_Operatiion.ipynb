{
 "cells": [
  {
   "cell_type": "code",
   "execution_count": 58,
   "id": "c41dfd4c-86aa-4b71-bb44-a1d46975db8d",
   "metadata": {},
   "outputs": [],
   "source": [
    "import pandas as pd\n",
    "import matplotlib.pyplot as plt\n",
    "import numpy as np\n",
    "import seaborn as sns"
   ]
  },
  {
   "cell_type": "code",
   "execution_count": 59,
   "id": "62d74e78-5756-4d92-a04b-39820f557351",
   "metadata": {},
   "outputs": [
    {
     "data": {
      "text/html": [
       "<div>\n",
       "<style scoped>\n",
       "    .dataframe tbody tr th:only-of-type {\n",
       "        vertical-align: middle;\n",
       "    }\n",
       "\n",
       "    .dataframe tbody tr th {\n",
       "        vertical-align: top;\n",
       "    }\n",
       "\n",
       "    .dataframe thead tr th {\n",
       "        text-align: left;\n",
       "    }\n",
       "\n",
       "    .dataframe thead tr:last-of-type th {\n",
       "        text-align: right;\n",
       "    }\n",
       "</style>\n",
       "<table border=\"1\" class=\"dataframe\">\n",
       "  <thead>\n",
       "    <tr>\n",
       "      <th>Price</th>\n",
       "      <th colspan=\"6\" halign=\"left\">close</th>\n",
       "      <th colspan=\"4\" halign=\"left\">High</th>\n",
       "      <th>...</th>\n",
       "      <th colspan=\"4\" halign=\"left\">Open</th>\n",
       "      <th colspan=\"6\" halign=\"left\">volume</th>\n",
       "    </tr>\n",
       "    <tr>\n",
       "      <th>Ticker</th>\n",
       "      <th>ada</th>\n",
       "      <th>btc</th>\n",
       "      <th>doge</th>\n",
       "      <th>eth</th>\n",
       "      <th>sol</th>\n",
       "      <th>xrp</th>\n",
       "      <th>ada</th>\n",
       "      <th>btc</th>\n",
       "      <th>doge</th>\n",
       "      <th>eth</th>\n",
       "      <th>...</th>\n",
       "      <th>doge</th>\n",
       "      <th>eth</th>\n",
       "      <th>sol</th>\n",
       "      <th>xrp</th>\n",
       "      <th>ada</th>\n",
       "      <th>btc</th>\n",
       "      <th>doge</th>\n",
       "      <th>eth</th>\n",
       "      <th>sol</th>\n",
       "      <th>xrp</th>\n",
       "    </tr>\n",
       "    <tr>\n",
       "      <th>Date</th>\n",
       "      <th></th>\n",
       "      <th></th>\n",
       "      <th></th>\n",
       "      <th></th>\n",
       "      <th></th>\n",
       "      <th></th>\n",
       "      <th></th>\n",
       "      <th></th>\n",
       "      <th></th>\n",
       "      <th></th>\n",
       "      <th></th>\n",
       "      <th></th>\n",
       "      <th></th>\n",
       "      <th></th>\n",
       "      <th></th>\n",
       "      <th></th>\n",
       "      <th></th>\n",
       "      <th></th>\n",
       "      <th></th>\n",
       "      <th></th>\n",
       "      <th></th>\n",
       "    </tr>\n",
       "  </thead>\n",
       "  <tbody>\n",
       "    <tr>\n",
       "      <th>2020-01-01</th>\n",
       "      <td>0.033458</td>\n",
       "      <td>7200.174316</td>\n",
       "      <td>0.002033</td>\n",
       "      <td>130.802002</td>\n",
       "      <td>NaN</td>\n",
       "      <td>0.192667</td>\n",
       "      <td>0.033813</td>\n",
       "      <td>7254.330566</td>\n",
       "      <td>0.002052</td>\n",
       "      <td>132.835358</td>\n",
       "      <td>...</td>\n",
       "      <td>0.002028</td>\n",
       "      <td>129.630661</td>\n",
       "      <td>NaN</td>\n",
       "      <td>0.192912</td>\n",
       "      <td>22948374</td>\n",
       "      <td>18565664997</td>\n",
       "      <td>51180941</td>\n",
       "      <td>7935230330</td>\n",
       "      <td>NaN</td>\n",
       "      <td>1041134003</td>\n",
       "    </tr>\n",
       "    <tr>\n",
       "      <th>2020-01-02</th>\n",
       "      <td>0.032751</td>\n",
       "      <td>6985.470215</td>\n",
       "      <td>0.002009</td>\n",
       "      <td>127.410179</td>\n",
       "      <td>NaN</td>\n",
       "      <td>0.188043</td>\n",
       "      <td>0.033507</td>\n",
       "      <td>7212.155273</td>\n",
       "      <td>0.002110</td>\n",
       "      <td>130.820038</td>\n",
       "      <td>...</td>\n",
       "      <td>0.002034</td>\n",
       "      <td>130.820038</td>\n",
       "      <td>NaN</td>\n",
       "      <td>0.192708</td>\n",
       "      <td>20843934</td>\n",
       "      <td>20802083465</td>\n",
       "      <td>65071106</td>\n",
       "      <td>8032709256</td>\n",
       "      <td>NaN</td>\n",
       "      <td>1085351426</td>\n",
       "    </tr>\n",
       "  </tbody>\n",
       "</table>\n",
       "<p>2 rows × 30 columns</p>\n",
       "</div>"
      ],
      "text/plain": [
       "Price          close                                                   \\\n",
       "Ticker           ada          btc      doge         eth sol       xrp   \n",
       "Date                                                                    \n",
       "2020-01-01  0.033458  7200.174316  0.002033  130.802002 NaN  0.192667   \n",
       "2020-01-02  0.032751  6985.470215  0.002009  127.410179 NaN  0.188043   \n",
       "\n",
       "Price           High                                     ...      Open  \\\n",
       "Ticker           ada          btc      doge         eth  ...      doge   \n",
       "Date                                                     ...             \n",
       "2020-01-01  0.033813  7254.330566  0.002052  132.835358  ...  0.002028   \n",
       "2020-01-02  0.033507  7212.155273  0.002110  130.820038  ...  0.002034   \n",
       "\n",
       "Price                                   volume                         \\\n",
       "Ticker             eth sol       xrp       ada          btc      doge   \n",
       "Date                                                                    \n",
       "2020-01-01  129.630661 NaN  0.192912  22948374  18565664997  51180941   \n",
       "2020-01-02  130.820038 NaN  0.192708  20843934  20802083465  65071106   \n",
       "\n",
       "Price                                   \n",
       "Ticker             eth sol         xrp  \n",
       "Date                                    \n",
       "2020-01-01  7935230330 NaN  1041134003  \n",
       "2020-01-02  8032709256 NaN  1085351426  \n",
       "\n",
       "[2 rows x 30 columns]"
      ]
     },
     "execution_count": 59,
     "metadata": {},
     "output_type": "execute_result"
    }
   ],
   "source": [
    "df = pd.read_csv('crypto.csv', header=[0, 1], index_col=0, parse_dates=[0])\n",
    "df.head(2)"
   ]
  },
  {
   "cell_type": "code",
   "execution_count": 60,
   "id": "544dffc8-6583-4fd1-86a7-2f50ee122dff",
   "metadata": {},
   "outputs": [
    {
     "data": {
      "text/html": [
       "<div>\n",
       "<style scoped>\n",
       "    .dataframe tbody tr th:only-of-type {\n",
       "        vertical-align: middle;\n",
       "    }\n",
       "\n",
       "    .dataframe tbody tr th {\n",
       "        vertical-align: top;\n",
       "    }\n",
       "\n",
       "    .dataframe thead th {\n",
       "        text-align: right;\n",
       "    }\n",
       "</style>\n",
       "<table border=\"1\" class=\"dataframe\">\n",
       "  <thead>\n",
       "    <tr style=\"text-align: right;\">\n",
       "      <th></th>\n",
       "      <th>btc</th>\n",
       "    </tr>\n",
       "    <tr>\n",
       "      <th>Date</th>\n",
       "      <th></th>\n",
       "    </tr>\n",
       "  </thead>\n",
       "  <tbody>\n",
       "    <tr>\n",
       "      <th>2020-01-01</th>\n",
       "      <td>7200.174316</td>\n",
       "    </tr>\n",
       "    <tr>\n",
       "      <th>2020-01-02</th>\n",
       "      <td>6985.470215</td>\n",
       "    </tr>\n",
       "  </tbody>\n",
       "</table>\n",
       "</div>"
      ],
      "text/plain": [
       "                    btc\n",
       "Date                   \n",
       "2020-01-01  7200.174316\n",
       "2020-01-02  6985.470215"
      ]
     },
     "execution_count": 60,
     "metadata": {},
     "output_type": "execute_result"
    }
   ],
   "source": [
    "btc = df['close'].btc.dropna().to_frame().copy()\n",
    "btc.head(2)"
   ]
  },
  {
   "cell_type": "code",
   "execution_count": 61,
   "id": "c4c78461-7cc8-4e5d-847f-df0ea3b90b39",
   "metadata": {},
   "outputs": [
    {
     "data": {
      "text/html": [
       "<div>\n",
       "<style scoped>\n",
       "    .dataframe tbody tr th:only-of-type {\n",
       "        vertical-align: middle;\n",
       "    }\n",
       "\n",
       "    .dataframe tbody tr th {\n",
       "        vertical-align: top;\n",
       "    }\n",
       "\n",
       "    .dataframe thead th {\n",
       "        text-align: right;\n",
       "    }\n",
       "</style>\n",
       "<table border=\"1\" class=\"dataframe\">\n",
       "  <thead>\n",
       "    <tr style=\"text-align: right;\">\n",
       "      <th></th>\n",
       "      <th>Price</th>\n",
       "    </tr>\n",
       "    <tr>\n",
       "      <th>Date</th>\n",
       "      <th></th>\n",
       "    </tr>\n",
       "  </thead>\n",
       "  <tbody>\n",
       "    <tr>\n",
       "      <th>2020-01-01</th>\n",
       "      <td>7200.174316</td>\n",
       "    </tr>\n",
       "    <tr>\n",
       "      <th>2020-01-02</th>\n",
       "      <td>6985.470215</td>\n",
       "    </tr>\n",
       "  </tbody>\n",
       "</table>\n",
       "</div>"
      ],
      "text/plain": [
       "                  Price\n",
       "Date                   \n",
       "2020-01-01  7200.174316\n",
       "2020-01-02  6985.470215"
      ]
     },
     "execution_count": 61,
     "metadata": {},
     "output_type": "execute_result"
    }
   ],
   "source": [
    "btc.rename(columns={'btc': 'Price'}, inplace=True)\n",
    "btc.head(2)"
   ]
  },
  {
   "cell_type": "code",
   "execution_count": 62,
   "id": "9a47a7f8-adde-40fb-b322-88b7acb36aab",
   "metadata": {},
   "outputs": [
    {
     "data": {
      "text/html": [
       "<div>\n",
       "<style scoped>\n",
       "    .dataframe tbody tr th:only-of-type {\n",
       "        vertical-align: middle;\n",
       "    }\n",
       "\n",
       "    .dataframe tbody tr th {\n",
       "        vertical-align: top;\n",
       "    }\n",
       "\n",
       "    .dataframe thead th {\n",
       "        text-align: right;\n",
       "    }\n",
       "</style>\n",
       "<table border=\"1\" class=\"dataframe\">\n",
       "  <thead>\n",
       "    <tr style=\"text-align: right;\">\n",
       "      <th></th>\n",
       "      <th>Price</th>\n",
       "      <th>P_lag1</th>\n",
       "    </tr>\n",
       "    <tr>\n",
       "      <th>Date</th>\n",
       "      <th></th>\n",
       "      <th></th>\n",
       "    </tr>\n",
       "  </thead>\n",
       "  <tbody>\n",
       "    <tr>\n",
       "      <th>2020-01-01</th>\n",
       "      <td>7200.174316</td>\n",
       "      <td>NaN</td>\n",
       "    </tr>\n",
       "    <tr>\n",
       "      <th>2020-01-02</th>\n",
       "      <td>6985.470215</td>\n",
       "      <td>7200.174316</td>\n",
       "    </tr>\n",
       "    <tr>\n",
       "      <th>2020-01-03</th>\n",
       "      <td>7344.884277</td>\n",
       "      <td>6985.470215</td>\n",
       "    </tr>\n",
       "    <tr>\n",
       "      <th>2020-01-04</th>\n",
       "      <td>7410.656738</td>\n",
       "      <td>7344.884277</td>\n",
       "    </tr>\n",
       "  </tbody>\n",
       "</table>\n",
       "</div>"
      ],
      "text/plain": [
       "                  Price       P_lag1\n",
       "Date                                \n",
       "2020-01-01  7200.174316          NaN\n",
       "2020-01-02  6985.470215  7200.174316\n",
       "2020-01-03  7344.884277  6985.470215\n",
       "2020-01-04  7410.656738  7344.884277"
      ]
     },
     "execution_count": 62,
     "metadata": {},
     "output_type": "execute_result"
    }
   ],
   "source": [
    "btc['P_lag1'] = btc.shift(1)\n",
    "btc.head(4)"
   ]
  },
  {
   "cell_type": "code",
   "execution_count": 63,
   "id": "cc16871d-2c9e-43f0-9ef6-90d770ca9e7c",
   "metadata": {},
   "outputs": [
    {
     "data": {
      "text/html": [
       "<div>\n",
       "<style scoped>\n",
       "    .dataframe tbody tr th:only-of-type {\n",
       "        vertical-align: middle;\n",
       "    }\n",
       "\n",
       "    .dataframe tbody tr th {\n",
       "        vertical-align: top;\n",
       "    }\n",
       "\n",
       "    .dataframe thead th {\n",
       "        text-align: right;\n",
       "    }\n",
       "</style>\n",
       "<table border=\"1\" class=\"dataframe\">\n",
       "  <thead>\n",
       "    <tr style=\"text-align: right;\">\n",
       "      <th></th>\n",
       "      <th>Price</th>\n",
       "      <th>P_lag1</th>\n",
       "      <th>P_diff</th>\n",
       "    </tr>\n",
       "    <tr>\n",
       "      <th>Date</th>\n",
       "      <th></th>\n",
       "      <th></th>\n",
       "      <th></th>\n",
       "    </tr>\n",
       "  </thead>\n",
       "  <tbody>\n",
       "    <tr>\n",
       "      <th>2020-01-01</th>\n",
       "      <td>7200.174316</td>\n",
       "      <td>NaN</td>\n",
       "      <td>NaN</td>\n",
       "    </tr>\n",
       "    <tr>\n",
       "      <th>2020-01-02</th>\n",
       "      <td>6985.470215</td>\n",
       "      <td>7200.174316</td>\n",
       "      <td>-214.704102</td>\n",
       "    </tr>\n",
       "    <tr>\n",
       "      <th>2020-01-03</th>\n",
       "      <td>7344.884277</td>\n",
       "      <td>6985.470215</td>\n",
       "      <td>359.414062</td>\n",
       "    </tr>\n",
       "    <tr>\n",
       "      <th>2020-01-04</th>\n",
       "      <td>7410.656738</td>\n",
       "      <td>7344.884277</td>\n",
       "      <td>65.772461</td>\n",
       "    </tr>\n",
       "  </tbody>\n",
       "</table>\n",
       "</div>"
      ],
      "text/plain": [
       "                  Price       P_lag1      P_diff\n",
       "Date                                            \n",
       "2020-01-01  7200.174316          NaN         NaN\n",
       "2020-01-02  6985.470215  7200.174316 -214.704102\n",
       "2020-01-03  7344.884277  6985.470215  359.414062\n",
       "2020-01-04  7410.656738  7344.884277   65.772461"
      ]
     },
     "execution_count": 63,
     "metadata": {},
     "output_type": "execute_result"
    }
   ],
   "source": [
    "btc['P_diff'] = btc.Price - btc['P_lag1']\n",
    "btc.head(4)"
   ]
  },
  {
   "cell_type": "code",
   "execution_count": 65,
   "id": "d31ea367-0dee-4d38-a6c2-7a2d2422769b",
   "metadata": {},
   "outputs": [
    {
     "data": {
      "text/html": [
       "<div>\n",
       "<style scoped>\n",
       "    .dataframe tbody tr th:only-of-type {\n",
       "        vertical-align: middle;\n",
       "    }\n",
       "\n",
       "    .dataframe tbody tr th {\n",
       "        vertical-align: top;\n",
       "    }\n",
       "\n",
       "    .dataframe thead th {\n",
       "        text-align: right;\n",
       "    }\n",
       "</style>\n",
       "<table border=\"1\" class=\"dataframe\">\n",
       "  <thead>\n",
       "    <tr style=\"text-align: right;\">\n",
       "      <th></th>\n",
       "      <th>Price</th>\n",
       "      <th>P_lag1</th>\n",
       "      <th>P_diff</th>\n",
       "      <th>Returns</th>\n",
       "    </tr>\n",
       "    <tr>\n",
       "      <th>Date</th>\n",
       "      <th></th>\n",
       "      <th></th>\n",
       "      <th></th>\n",
       "      <th></th>\n",
       "    </tr>\n",
       "  </thead>\n",
       "  <tbody>\n",
       "    <tr>\n",
       "      <th>2020-01-01</th>\n",
       "      <td>7200.174316</td>\n",
       "      <td>NaN</td>\n",
       "      <td>NaN</td>\n",
       "      <td>NaN</td>\n",
       "    </tr>\n",
       "    <tr>\n",
       "      <th>2020-01-02</th>\n",
       "      <td>6985.470215</td>\n",
       "      <td>7200.174316</td>\n",
       "      <td>-214.704102</td>\n",
       "      <td>-2.981929</td>\n",
       "    </tr>\n",
       "    <tr>\n",
       "      <th>2020-01-03</th>\n",
       "      <td>7344.884277</td>\n",
       "      <td>6985.470215</td>\n",
       "      <td>359.414062</td>\n",
       "      <td>5.145166</td>\n",
       "    </tr>\n",
       "    <tr>\n",
       "      <th>2020-01-04</th>\n",
       "      <td>7410.656738</td>\n",
       "      <td>7344.884277</td>\n",
       "      <td>65.772461</td>\n",
       "      <td>0.895487</td>\n",
       "    </tr>\n",
       "  </tbody>\n",
       "</table>\n",
       "</div>"
      ],
      "text/plain": [
       "                  Price       P_lag1      P_diff   Returns\n",
       "Date                                                      \n",
       "2020-01-01  7200.174316          NaN         NaN       NaN\n",
       "2020-01-02  6985.470215  7200.174316 -214.704102 -2.981929\n",
       "2020-01-03  7344.884277  6985.470215  359.414062  5.145166\n",
       "2020-01-04  7410.656738  7344.884277   65.772461  0.895487"
      ]
     },
     "execution_count": 65,
     "metadata": {},
     "output_type": "execute_result"
    }
   ],
   "source": [
    "btc['Returns'] =( btc.Price/btc['P_lag1'] - 1) * 100\n",
    "btc.head(4)"
   ]
  },
  {
   "cell_type": "code",
   "execution_count": 72,
   "id": "65b6394e-5270-49a4-99b9-4b9c1655df1a",
   "metadata": {},
   "outputs": [
    {
     "data": {
      "text/html": [
       "<div>\n",
       "<style scoped>\n",
       "    .dataframe tbody tr th:only-of-type {\n",
       "        vertical-align: middle;\n",
       "    }\n",
       "\n",
       "    .dataframe tbody tr th {\n",
       "        vertical-align: top;\n",
       "    }\n",
       "\n",
       "    .dataframe thead th {\n",
       "        text-align: right;\n",
       "    }\n",
       "</style>\n",
       "<table border=\"1\" class=\"dataframe\">\n",
       "  <thead>\n",
       "    <tr style=\"text-align: right;\">\n",
       "      <th></th>\n",
       "      <th>Price</th>\n",
       "      <th>Returns</th>\n",
       "    </tr>\n",
       "    <tr>\n",
       "      <th>Date</th>\n",
       "      <th></th>\n",
       "      <th></th>\n",
       "    </tr>\n",
       "  </thead>\n",
       "  <tbody>\n",
       "    <tr>\n",
       "      <th>2020-01-01</th>\n",
       "      <td>7200.174316</td>\n",
       "      <td>NaN</td>\n",
       "    </tr>\n",
       "    <tr>\n",
       "      <th>2020-01-02</th>\n",
       "      <td>6985.470215</td>\n",
       "      <td>-2.981929</td>\n",
       "    </tr>\n",
       "    <tr>\n",
       "      <th>2020-01-03</th>\n",
       "      <td>7344.884277</td>\n",
       "      <td>5.145166</td>\n",
       "    </tr>\n",
       "    <tr>\n",
       "      <th>2020-01-04</th>\n",
       "      <td>7410.656738</td>\n",
       "      <td>0.895487</td>\n",
       "    </tr>\n",
       "  </tbody>\n",
       "</table>\n",
       "</div>"
      ],
      "text/plain": [
       "                  Price   Returns\n",
       "Date                             \n",
       "2020-01-01  7200.174316       NaN\n",
       "2020-01-02  6985.470215 -2.981929\n",
       "2020-01-03  7344.884277  5.145166\n",
       "2020-01-04  7410.656738  0.895487"
      ]
     },
     "execution_count": 72,
     "metadata": {},
     "output_type": "execute_result"
    }
   ],
   "source": [
    "btc = btc.drop(['P_lag1', 'P_diff'], axis=1).copy()\n",
    "btc.head(4)"
   ]
  },
  {
   "cell_type": "code",
   "execution_count": 75,
   "id": "e2506e7b-48c1-4003-82ed-73e99339d5df",
   "metadata": {},
   "outputs": [
    {
     "data": {
      "text/plain": [
       "np.float64(0.183745559320138)"
      ]
     },
     "execution_count": 75,
     "metadata": {},
     "output_type": "execute_result"
    }
   ],
   "source": [
    "# Ariphmetic mean return -> Reward\n",
    "mu = btc.Returns.mean()\n",
    "mu"
   ]
  },
  {
   "cell_type": "code",
   "execution_count": 76,
   "id": "012e8378-21fc-448c-8a66-52c3231a64c0",
   "metadata": {},
   "outputs": [
    {
     "data": {
      "text/plain": [
       "np.float64(3.3272883325104585)"
      ]
     },
     "execution_count": 76,
     "metadata": {},
     "output_type": "execute_result"
    }
   ],
   "source": [
    "# Standard deviation of reurns -> Risk/Volatility\n",
    "sigma = btc.Returns.std()\n",
    "sigma"
   ]
  },
  {
   "cell_type": "code",
   "execution_count": 78,
   "id": "ab9896fa-422b-4831-b387-8ca82a3d536e",
   "metadata": {},
   "outputs": [
    {
     "data": {
      "text/plain": [
       "np.float64(11.46484938210521)"
      ]
     },
     "execution_count": 78,
     "metadata": {},
     "output_type": "execute_result"
    }
   ],
   "source": [
    "# Investment multiple -> Ending value of 1 dollar investment\n",
    "multiple = (btc.Price.iloc[-1] / btc.Price.iloc[0])\n",
    "multiple"
   ]
  },
  {
   "cell_type": "code",
   "execution_count": null,
   "id": "f97e5d16-140d-4f72-a986-ded53b315766",
   "metadata": {},
   "outputs": [],
   "source": [
    "# Compound Annual Grouth Rate (CAGR)"
   ]
  },
  {
   "cell_type": "code",
   "execution_count": 80,
   "id": "dc5911f1-5324-48b5-ad13-be0129872f27",
   "metadata": {},
   "outputs": [
    {
     "data": {
      "text/plain": [
       "Timestamp('2020-01-01 00:00:00')"
      ]
     },
     "execution_count": 80,
     "metadata": {},
     "output_type": "execute_result"
    }
   ],
   "source": [
    "start = btc.index[0]\n",
    "start"
   ]
  },
  {
   "cell_type": "code",
   "execution_count": 81,
   "id": "35efe7b0-3d2e-4daf-a18e-82f98c342ebe",
   "metadata": {},
   "outputs": [
    {
     "data": {
      "text/plain": [
       "Timestamp('2025-03-31 00:00:00')"
      ]
     },
     "execution_count": 81,
     "metadata": {},
     "output_type": "execute_result"
    }
   ],
   "source": [
    "end =  btc.index[-1]\n",
    "end"
   ]
  },
  {
   "cell_type": "code",
   "execution_count": 82,
   "id": "1075d53d-0b1a-4e91-a4f1-f3112de20fff",
   "metadata": {},
   "outputs": [
    {
     "data": {
      "text/plain": [
       "Timedelta('1916 days 00:00:00')"
      ]
     },
     "execution_count": 82,
     "metadata": {},
     "output_type": "execute_result"
    }
   ],
   "source": [
    "td = end - start\n",
    "td"
   ]
  },
  {
   "cell_type": "code",
   "execution_count": 83,
   "id": "23974ce8-a1cc-4cc0-b233-520453d037e0",
   "metadata": {},
   "outputs": [
    {
     "data": {
      "text/plain": [
       "5.245722108145106"
      ]
     },
     "execution_count": 83,
     "metadata": {},
     "output_type": "execute_result"
    }
   ],
   "source": [
    "td_years = td.days / 365.25\n",
    "td_years"
   ]
  },
  {
   "cell_type": "code",
   "execution_count": 85,
   "id": "2a12f797-930c-4f99-88a5-8a4e091e1457",
   "metadata": {},
   "outputs": [
    {
     "data": {
      "text/plain": [
       "np.float64(0.5920217757266091)"
      ]
     },
     "execution_count": 85,
     "metadata": {},
     "output_type": "execute_result"
    }
   ],
   "source": [
    "cagr = multiple**(1/td_years) - 1\n",
    "cagr"
   ]
  },
  {
   "cell_type": "code",
   "execution_count": null,
   "id": "2599201c-b736-45ef-8fdd-8f0103b611a1",
   "metadata": {},
   "outputs": [],
   "source": []
  }
 ],
 "metadata": {
  "kernelspec": {
   "display_name": "LLM Environment",
   "language": "python",
   "name": "llm_env"
  },
  "language_info": {
   "codemirror_mode": {
    "name": "ipython",
    "version": 3
   },
   "file_extension": ".py",
   "mimetype": "text/x-python",
   "name": "python",
   "nbconvert_exporter": "python",
   "pygments_lexer": "ipython3",
   "version": "3.13.3"
  }
 },
 "nbformat": 4,
 "nbformat_minor": 5
}
