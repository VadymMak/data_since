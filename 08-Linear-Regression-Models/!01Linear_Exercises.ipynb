{
 "cells": [
  {
   "cell_type": "code",
   "execution_count": null,
   "id": "6fb435ca-7d60-45ae-83c2-f987680d3ee5",
   "metadata": {},
   "outputs": [],
   "source": [
    "import pandas as pd\n",
    "import matplotlib.pyplot as plt\n",
    "import seaborn as sns\n",
    "import numpy as np"
   ]
  },
  {
   "cell_type": "code",
   "execution_count": null,
   "id": "0267561f-890a-4721-96d3-f71c30ae4e8a",
   "metadata": {},
   "outputs": [],
   "source": [
    "df = pd.read_csv('Advertising.csv')\n",
    "df.head()"
   ]
  },
  {
   "cell_type": "code",
   "execution_count": null,
   "id": "9a0b3550-89bc-44c3-a28e-c3390ad1fcc6",
   "metadata": {},
   "outputs": [],
   "source": [
    "sns.regplot(data=df, x=df['TV'], y=df['sales'])"
   ]
  },
  {
   "cell_type": "code",
   "execution_count": null,
   "id": "0a99da24-5d8d-43e3-b76d-d0a17486580c",
   "metadata": {},
   "outputs": [],
   "source": [
    "fig, ax = plt.subplots(nrows=1, ncols=3, figsize=(16, 6))\n",
    "\n",
    "ax[0].plot(df['TV'], df['sales'], 'o')\n",
    "ax[0].set_title('TV expensies')\n",
    "ax[0].set_ylabel('sales')\n",
    "\n",
    "ax[1].plot(df['radio'], df['sales'], 'o')\n",
    "ax[1].set_title('Radio expencies')\n",
    "\n",
    "ax[2].plot(df['newspaper'], df['sales'], 'o')\n",
    "ax[2].set_title('Newspaper expencies')\n",
    "\n",
    "plt.tight_layout()\n",
    "plt.show()"
   ]
  },
  {
   "cell_type": "code",
   "execution_count": null,
   "id": "00201fb0-35a6-440b-ba90-20e0a48b8817",
   "metadata": {},
   "outputs": [],
   "source": [
    "X = df.drop('sales', axis=1)\n",
    "y = df['sales']"
   ]
  },
  {
   "cell_type": "code",
   "execution_count": null,
   "id": "b10866cf-4f39-4ab2-9f08-0f5f3faa99ef",
   "metadata": {},
   "outputs": [],
   "source": [
    "from sklearn.model_selection import train_test_split\n",
    "X_train, X_test, y_train, y_test = train_test_split(X, y, test_size=0.30, random_state=101)"
   ]
  },
  {
   "cell_type": "code",
   "execution_count": null,
   "id": "6d4ebc65-2d29-4c43-a6a7-bc4c286b20d6",
   "metadata": {},
   "outputs": [],
   "source": [
    "from sklearn.linear_model import LinearRegression\n",
    "model = LinearRegression()\n",
    "model.fit(X_train, y_train)"
   ]
  },
  {
   "cell_type": "code",
   "execution_count": null,
   "id": "d119015a-2683-4cbd-a0e3-97d0791805e8",
   "metadata": {},
   "outputs": [],
   "source": [
    "test_predictions = model.predict(X_test)"
   ]
  },
  {
   "cell_type": "code",
   "execution_count": null,
   "id": "bd0966c6-ee04-4e9d-8629-9184bfc660ec",
   "metadata": {},
   "outputs": [],
   "source": [
    "from sklearn.metrics import mean_absolute_error, mean_squared_error\n",
    "df['sales'].mean()  # 14.0225"
   ]
  },
  {
   "cell_type": "code",
   "execution_count": null,
   "id": "68ac65d1-8ea7-44e9-8ce6-0a79b71e84bf",
   "metadata": {},
   "outputs": [],
   "source": [
    "mean_absolute_error(y_test, test_predictions)"
   ]
  },
  {
   "cell_type": "code",
   "execution_count": null,
   "id": "1cfda11f-f747-4b39-b584-072f7e2a6e34",
   "metadata": {},
   "outputs": [],
   "source": [
    "np.sqrt(mean_squared_error(y_test, test_predictions))"
   ]
  },
  {
   "cell_type": "code",
   "execution_count": null,
   "id": "b4a5eee6-f61e-46d1-a804-d3b1de563fa4",
   "metadata": {},
   "outputs": [],
   "source": [
    "test_residuals = y_test - test_predictions\n",
    "# test_residuals"
   ]
  },
  {
   "cell_type": "code",
   "execution_count": null,
   "id": "b370bb75-04e7-4da7-af55-6ae09684bef8",
   "metadata": {},
   "outputs": [],
   "source": [
    "# Residuals plot\n",
    "sns.scatterplot(x=y_test, y=test_residuals)\n",
    "plt.axhline(y=0, color='red', ls='--')\n",
    "\n",
    "plt.show()"
   ]
  },
  {
   "cell_type": "code",
   "execution_count": null,
   "id": "801a87c4-02c8-4918-ab1e-4e77a5a5665f",
   "metadata": {},
   "outputs": [],
   "source": [
    "# REsiduals distribution\n",
    "sns.displot(test_residuals, bins=25, kde=True)\n",
    "\n",
    "plt.show()"
   ]
  },
  {
   "cell_type": "code",
   "execution_count": null,
   "id": "46ec397b-7405-4f74-bb5e-f6fb2cf881ca",
   "metadata": {},
   "outputs": [],
   "source": [
    "# Normal probability plots\n",
    "import scipy as sp\n",
    "fig, ax = plt.subplots(figsize=(6, 8), dpi=100)\n",
    "_=sp.stats.probplot(test_residuals, plot=ax)"
   ]
  },
  {
   "cell_type": "code",
   "execution_count": null,
   "id": "fc51ecee-ca3f-42c4-8014-4b85f0069cb1",
   "metadata": {},
   "outputs": [],
   "source": [
    "# Learning model using all parameters in case if we satisfy with result\n",
    "final_model = LinearRegression()\n",
    "final_model.fit(X, y)"
   ]
  },
  {
   "cell_type": "code",
   "execution_count": null,
   "id": "679fc1d0-dab0-4d73-8dcb-bcb1071a9701",
   "metadata": {},
   "outputs": [],
   "source": [
    "# VIew final cofficients\n",
    "final_model.coef_"
   ]
  },
  {
   "cell_type": "code",
   "execution_count": null,
   "id": "c82cbf01-8fdc-42cb-bdae-274d1a9b5289",
   "metadata": {},
   "outputs": [],
   "source": [
    "y_hat = final_model.predict(X)"
   ]
  },
  {
   "cell_type": "code",
   "execution_count": null,
   "id": "ee78be4a-60c7-4f14-8ee3-90ad6539d287",
   "metadata": {},
   "outputs": [],
   "source": [
    "fig,axes = plt.subplots(nrows=1,ncols=3,figsize=(16,6))\n",
    "\n",
    "axes[0].plot(df['TV'],df['sales'],'o')\n",
    "axes[0].plot(df['TV'],y_hat,'o',color='red')\n",
    "axes[0].set_ylabel(\"Sales\")\n",
    "axes[0].set_title(\"TV Spend\")\n",
    "\n",
    "axes[1].plot(df['radio'],df['sales'],'o')\n",
    "axes[1].plot(df['radio'],y_hat,'o',color='red')\n",
    "axes[1].set_title(\"Radio Spend\")\n",
    "axes[1].set_ylabel(\"Sales\")\n",
    "\n",
    "axes[2].plot(df['newspaper'],df['sales'],'o')\n",
    "axes[2].plot(df['newspaper'],y_hat,'o',color='red')\n",
    "axes[2].set_title(\"Newspaper Spend\");\n",
    "axes[2].set_ylabel(\"Sales\")\n",
    "plt.tight_layout();"
   ]
  },
  {
   "cell_type": "code",
   "execution_count": null,
   "id": "a6a1dcfd-4d69-4a16-8733-5b540ac91cc4",
   "metadata": {},
   "outputs": [],
   "source": [
    "# Savingd model in file\n",
    "from joblib import dump, load"
   ]
  },
  {
   "cell_type": "code",
   "execution_count": null,
   "id": "23de6601-54b2-4e11-a340-c8477f690dc0",
   "metadata": {},
   "outputs": [],
   "source": [
    "dump(final_model, 'final_sales_model.joblib')"
   ]
  },
  {
   "cell_type": "code",
   "execution_count": null,
   "id": "bb344d1f-af75-4087-9dc6-9d1fce0ffa4d",
   "metadata": {},
   "outputs": [],
   "source": [
    "# Load model in project\n",
    "loaded_model = load('final_sales_model.joblib')"
   ]
  },
  {
   "cell_type": "code",
   "execution_count": null,
   "id": "caccee28-5c92-461a-adcc-af4e75937a32",
   "metadata": {},
   "outputs": [],
   "source": [
    "loaded_model.coef_"
   ]
  },
  {
   "cell_type": "code",
   "execution_count": null,
   "id": "9e26b513-239c-40ce-8f7b-17cb241ebdb5",
   "metadata": {},
   "outputs": [],
   "source": [
    "# Data in model same size as for learning\n",
    "X.shape"
   ]
  },
  {
   "cell_type": "code",
   "execution_count": null,
   "id": "2e6c3126-f2a6-4403-aef7-a92cd83da3ac",
   "metadata": {},
   "outputs": [],
   "source": [
    "# 49k на рекламу на ТВ, 22k на рекламу по радио и 12k на рекламу в газетах\n",
    "campaign_df = pd.DataFrame([[149, 22, 12]], columns=['TV', 'radio', 'newspaper'])"
   ]
  },
  {
   "cell_type": "code",
   "execution_count": null,
   "id": "6b24f764-eccc-4d57-84bf-a66c21ee20a8",
   "metadata": {},
   "outputs": [],
   "source": [
    "loaded_model.predict(campaign_df)"
   ]
  },
  {
   "cell_type": "code",
   "execution_count": null,
   "id": "13ee78eb-18bd-4ffe-849f-16c44a6aa1ae",
   "metadata": {},
   "outputs": [],
   "source": []
  }
 ],
 "metadata": {
  "kernelspec": {
   "display_name": "LLM Environment",
   "language": "python",
   "name": "llm_env"
  },
  "language_info": {
   "codemirror_mode": {
    "name": "ipython",
    "version": 3
   },
   "file_extension": ".py",
   "mimetype": "text/x-python",
   "name": "python",
   "nbconvert_exporter": "python",
   "pygments_lexer": "ipython3",
   "version": "3.13.3"
  }
 },
 "nbformat": 4,
 "nbformat_minor": 5
}
