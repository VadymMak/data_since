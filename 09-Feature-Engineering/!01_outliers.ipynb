{
 "cells": [
  {
   "cell_type": "code",
   "execution_count": null,
   "id": "67dcbd99-d2d0-4950-a4c3-555fb7ac3e30",
   "metadata": {},
   "outputs": [],
   "source": [
    "import pandas as pd\n",
    "import numpy as np\n",
    "import matplotlib.pyplot as plt\n",
    "import seaborn as sns"
   ]
  },
  {
   "cell_type": "code",
   "execution_count": null,
   "id": "8061b96d-fe53-4b68-91de-e1ef61dd9aa3",
   "metadata": {},
   "outputs": [],
   "source": [
    "def create_ages(mu=50, sigma=15, num_samples=100, seed=42):\n",
    "    np.random.seed(seed)\n",
    "    sample_ages = np.random.normal(loc=mu, scale=sigma, size=num_samples)\n",
    "    sample_ages = np.round(sample_ages, decimals=0 )\n",
    "    return sample_ages"
   ]
  },
  {
   "cell_type": "code",
   "execution_count": null,
   "id": "77d4cc6d-2f00-414e-9125-dc7dd6cedf93",
   "metadata": {},
   "outputs": [],
   "source": [
    "sample = create_ages()"
   ]
  },
  {
   "cell_type": "code",
   "execution_count": null,
   "id": "72cee365-da9c-4c8c-81ba-7916008528af",
   "metadata": {},
   "outputs": [],
   "source": [
    "sns.displot(sample, bins=20)\n",
    "\n",
    "plt.show()"
   ]
  },
  {
   "cell_type": "code",
   "execution_count": null,
   "id": "92640167-da2e-4675-8295-faf73e125633",
   "metadata": {},
   "outputs": [],
   "source": [
    "sns.boxplot(x=sample)\n",
    "\n",
    "plt.show()"
   ]
  },
  {
   "cell_type": "code",
   "execution_count": null,
   "id": "87bb6910-6cfb-474e-b7cb-d50509045657",
   "metadata": {},
   "outputs": [],
   "source": [
    "ser = pd.Series(sample)"
   ]
  },
  {
   "cell_type": "code",
   "execution_count": null,
   "id": "eca11d06-77e3-41cf-bd0d-606159977c9b",
   "metadata": {},
   "outputs": [],
   "source": [
    "ser.describe()"
   ]
  },
  {
   "cell_type": "code",
   "execution_count": null,
   "id": "94fbfbc0-4a02-42d3-8f44-69b0ff5a1f6f",
   "metadata": {},
   "outputs": [],
   "source": [
    "IQR = 56.250000 - 41.000000\n",
    "IQR"
   ]
  },
  {
   "cell_type": "code",
   "execution_count": null,
   "id": "6679907d-4d04-4b28-8a18-8eb8a3aa7f41",
   "metadata": {},
   "outputs": [],
   "source": [
    "lower_limit = 41.000000 - 1.5 * IQR\n",
    "lower_limit"
   ]
  },
  {
   "cell_type": "code",
   "execution_count": null,
   "id": "293d8271-29e6-455b-99ce-0adfcd7328ae",
   "metadata": {},
   "outputs": [],
   "source": [
    "higher_limit = 56.250000 + 1.5 * IQR\n",
    "higher_limit"
   ]
  },
  {
   "cell_type": "code",
   "execution_count": null,
   "id": "d27c338b-63bc-4dae-8ff7-a9ddc36980bc",
   "metadata": {},
   "outputs": [],
   "source": [
    "ser[ser > lower_limit]"
   ]
  },
  {
   "cell_type": "code",
   "execution_count": null,
   "id": "5a8c1862-e7ca-4046-9c87-b4b9e240ae33",
   "metadata": {},
   "outputs": [],
   "source": [
    "np.percentile(sample, [75, 25])"
   ]
  },
  {
   "cell_type": "code",
   "execution_count": null,
   "id": "c268f66c-121f-4c18-a71a-adb645bc83c7",
   "metadata": {},
   "outputs": [],
   "source": [
    "q75, q25 = np.percentile(sample, [75, 25])"
   ]
  },
  {
   "cell_type": "code",
   "execution_count": null,
   "id": "54d606cc-7dc7-41f3-876a-e9318a708eb4",
   "metadata": {},
   "outputs": [],
   "source": [
    "q75"
   ]
  },
  {
   "cell_type": "code",
   "execution_count": null,
   "id": "0d6fa9cf-84e0-4902-90fd-88a4c8b4ce30",
   "metadata": {},
   "outputs": [],
   "source": [
    "q25"
   ]
  },
  {
   "cell_type": "code",
   "execution_count": null,
   "id": "d978e736-6c60-478c-aa19-f8f1fab35c6e",
   "metadata": {},
   "outputs": [],
   "source": [
    "df = pd.read_csv('../DATA/Ames_Housing_Data.csv')\n",
    "df"
   ]
  },
  {
   "cell_type": "code",
   "execution_count": null,
   "id": "f53e0891-4213-4b8d-a421-ebdd63874cf7",
   "metadata": {},
   "outputs": [],
   "source": [
    "df.corr(numeric_only=True)['SalePrice'].sort_values()"
   ]
  },
  {
   "cell_type": "code",
   "execution_count": null,
   "id": "9da2494e-9809-428d-87da-f340afa8d6ca",
   "metadata": {},
   "outputs": [],
   "source": [
    "sns.scatterplot(x='Overall Qual', y='SalePrice', data=df, color='red', s=50, label='Sale Overall corellation')\n",
    "\n",
    "plt.show()"
   ]
  },
  {
   "cell_type": "code",
   "execution_count": null,
   "id": "5ceed2bf-2fcb-486e-b936-f1b0fb961eb3",
   "metadata": {},
   "outputs": [],
   "source": [
    "sns.scatterplot(x='Gr Liv Area', y='SalePrice', data=df, color='red', s=50, label='Sale Overall corellation')\n",
    "\n",
    "plt.show()"
   ]
  },
  {
   "cell_type": "code",
   "execution_count": null,
   "id": "b6f387dd-d4d9-4abc-b673-479f4610dac7",
   "metadata": {},
   "outputs": [],
   "source": [
    "df[(df['Overall Qual'] > 8) & (df['SalePrice'] < 200000)]"
   ]
  },
  {
   "cell_type": "code",
   "execution_count": null,
   "id": "a688a0c8-0ab7-40c0-a3d3-4e96bbde75c3",
   "metadata": {},
   "outputs": [],
   "source": [
    "df[(df['Gr Liv Area'] > 4000) & (df['SalePrice'] < 200000)]"
   ]
  },
  {
   "cell_type": "code",
   "execution_count": null,
   "id": "09f80414-a091-447c-96f6-30ce29bff4b2",
   "metadata": {},
   "outputs": [],
   "source": [
    "drop_index = df[(df['Gr Liv Area'] > 4000) & (df['SalePrice'] < 200000)].index"
   ]
  },
  {
   "cell_type": "code",
   "execution_count": null,
   "id": "4a559c50-3ca5-4f6f-a111-c4ecab0d730c",
   "metadata": {},
   "outputs": [],
   "source": [
    "df = df.drop(drop_index, axis=0)"
   ]
  },
  {
   "cell_type": "code",
   "execution_count": null,
   "id": "450c77b4-6f54-48f4-9cac-540136c9de02",
   "metadata": {},
   "outputs": [],
   "source": [
    "sns.scatterplot(x='Gr Liv Area', y='SalePrice', data=df, color='red', s=50, label='Sale Overall corellation')\n",
    "\n",
    "plt.show()"
   ]
  },
  {
   "cell_type": "code",
   "execution_count": null,
   "id": "1f52e5c4-0f72-4961-994a-645d3c5d6b13",
   "metadata": {},
   "outputs": [],
   "source": []
  }
 ],
 "metadata": {
  "kernelspec": {
   "display_name": "LLM Environment",
   "language": "python",
   "name": "llm_env"
  },
  "language_info": {
   "codemirror_mode": {
    "name": "ipython",
    "version": 3
   },
   "file_extension": ".py",
   "mimetype": "text/x-python",
   "name": "python",
   "nbconvert_exporter": "python",
   "pygments_lexer": "ipython3",
   "version": "3.13.3"
  }
 },
 "nbformat": 4,
 "nbformat_minor": 5
}
